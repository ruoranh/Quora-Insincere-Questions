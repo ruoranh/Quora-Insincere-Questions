{
 "cells": [
  {
   "cell_type": "code",
   "execution_count": 2,
   "metadata": {},
   "outputs": [],
   "source": [
    "# text manipulation\n",
    "import re\n",
    "import string\n",
    "\n",
    "# Data management\n",
    "import pandas as pd\n",
    "import numpy as np\n",
    "from scipy.sparse import *\n",
    "import scipy\n",
    "\n",
    "# NLP\n",
    "import nltk\n",
    "import nltk.collocations as collocations\n",
    "from nltk.tag import tnt\n",
    "import spacy\n",
    "\n",
    "# modelling\n",
    "from sklearn.feature_extraction.text import CountVectorizer, TfidfTransformer, TfidfVectorizer\n",
    "from sklearn.model_selection import train_test_split, cross_val_score, cross_validate, GridSearchCV\n",
    "from sklearn.naive_bayes import MultinomialNB\n",
    "from sklearn.ensemble import RandomForestClassifier\n",
    "from sklearn.pipeline import make_pipeline, Pipeline\n",
    "from sklearn.metrics import f1_score, confusion_matrix\n",
    "from sklearn.cluster import MeanShift\n",
    "\n",
    "#visualisation\n",
    "import matplotlib.pyplot as plt\n",
    "import seaborn as sns\n",
    "from IPython.display import display, clear_output\n",
    "import matplotlib.style as style \n",
    "\n",
    "%matplotlib inline"
   ]
  },
  {
   "cell_type": "code",
   "execution_count": 5,
   "metadata": {},
   "outputs": [],
   "source": [
    "train = pd.read_csv('./train.csv')"
   ]
  },
  {
   "cell_type": "code",
   "execution_count": 6,
   "metadata": {},
   "outputs": [
    {
     "data": {
      "text/html": [
       "<div>\n",
       "<style scoped>\n",
       "    .dataframe tbody tr th:only-of-type {\n",
       "        vertical-align: middle;\n",
       "    }\n",
       "\n",
       "    .dataframe tbody tr th {\n",
       "        vertical-align: top;\n",
       "    }\n",
       "\n",
       "    .dataframe thead th {\n",
       "        text-align: right;\n",
       "    }\n",
       "</style>\n",
       "<table border=\"1\" class=\"dataframe\">\n",
       "  <thead>\n",
       "    <tr style=\"text-align: right;\">\n",
       "      <th></th>\n",
       "      <th>qid</th>\n",
       "      <th>question_text</th>\n",
       "      <th>target</th>\n",
       "    </tr>\n",
       "  </thead>\n",
       "  <tbody>\n",
       "    <tr>\n",
       "      <th>0</th>\n",
       "      <td>00002165364db923c7e6</td>\n",
       "      <td>How did Quebec nationalists see their province...</td>\n",
       "      <td>0</td>\n",
       "    </tr>\n",
       "    <tr>\n",
       "      <th>1</th>\n",
       "      <td>000032939017120e6e44</td>\n",
       "      <td>Do you have an adopted dog, how would you enco...</td>\n",
       "      <td>0</td>\n",
       "    </tr>\n",
       "    <tr>\n",
       "      <th>2</th>\n",
       "      <td>0000412ca6e4628ce2cf</td>\n",
       "      <td>Why does velocity affect time? Does velocity a...</td>\n",
       "      <td>0</td>\n",
       "    </tr>\n",
       "    <tr>\n",
       "      <th>3</th>\n",
       "      <td>000042bf85aa498cd78e</td>\n",
       "      <td>How did Otto von Guericke used the Magdeburg h...</td>\n",
       "      <td>0</td>\n",
       "    </tr>\n",
       "    <tr>\n",
       "      <th>4</th>\n",
       "      <td>0000455dfa3e01eae3af</td>\n",
       "      <td>Can I convert montra helicon D to a mountain b...</td>\n",
       "      <td>0</td>\n",
       "    </tr>\n",
       "  </tbody>\n",
       "</table>\n",
       "</div>"
      ],
      "text/plain": [
       "                    qid                                      question_text  \\\n",
       "0  00002165364db923c7e6  How did Quebec nationalists see their province...   \n",
       "1  000032939017120e6e44  Do you have an adopted dog, how would you enco...   \n",
       "2  0000412ca6e4628ce2cf  Why does velocity affect time? Does velocity a...   \n",
       "3  000042bf85aa498cd78e  How did Otto von Guericke used the Magdeburg h...   \n",
       "4  0000455dfa3e01eae3af  Can I convert montra helicon D to a mountain b...   \n",
       "\n",
       "   target  \n",
       "0       0  \n",
       "1       0  \n",
       "2       0  \n",
       "3       0  \n",
       "4       0  "
      ]
     },
     "execution_count": 6,
     "metadata": {},
     "output_type": "execute_result"
    }
   ],
   "source": [
    "train.head()"
   ]
  },
  {
   "cell_type": "code",
   "execution_count": 7,
   "metadata": {},
   "outputs": [
    {
     "data": {
      "text/plain": [
       "(1306122, 3)"
      ]
     },
     "execution_count": 7,
     "metadata": {},
     "output_type": "execute_result"
    }
   ],
   "source": [
    "train.shape"
   ]
  },
  {
   "cell_type": "code",
   "execution_count": 8,
   "metadata": {},
   "outputs": [
    {
     "name": "stdout",
     "output_type": "stream",
     "text": [
      "No. of insincere questions: 80810\n",
      "No. of sincere questions: 1225312\n",
      "% of insincere questions: 0.06187017751787352\n",
      "Null score: 0.9381298224821265\n"
     ]
    }
   ],
   "source": [
    "no_insincere = train[train['target']==1].target.count()\n",
    "no_sincere = train[train['target']==0].target.count()\n",
    "\n",
    "print('No. of insincere questions:', no_insincere)\n",
    "print('No. of sincere questions:', no_sincere)\n",
    "print('% of insincere questions:', train.target.mean())\n",
    "print('Null score:', 1- train.target.mean())"
   ]
  },
  {
   "cell_type": "markdown",
   "metadata": {},
   "source": [
    "# Data Cleaning"
   ]
  },
  {
   "cell_type": "code",
   "execution_count": 9,
   "metadata": {},
   "outputs": [
    {
     "name": "stdout",
     "output_type": "stream",
     "text": [
      "Wall time: 13 s\n"
     ]
    }
   ],
   "source": [
    "%%time\n",
    "# remove digits\n",
    "clean_questions = [''.join(c for c in q if not c.isdigit()) for q in train.question_text]"
   ]
  },
  {
   "cell_type": "code",
   "execution_count": 10,
   "metadata": {},
   "outputs": [],
   "source": [
    "# replacing all identity labels each question with a common labels\n",
    "def labels_to_question(data, label_list, label_type):\n",
    "         \n",
    "    new_data = []\n",
    "    \n",
    "    # For every questions\n",
    "    i_data = 0\n",
    "    for i_data in range(len(data)):\n",
    "        question = data[i_data].lower()\n",
    "        output = []\n",
    "        \n",
    "        # compare each label to question\n",
    "        for label in label_list:\n",
    "\n",
    "            if label in question:\n",
    "\n",
    "                que_t = nltk.word_tokenize(question)\n",
    "                lab_t = nltk.word_tokenize(label)\n",
    "\n",
    "                i_que = 0\n",
    "                while i_que < len(que_t):\n",
    "                    i_lab = 0\n",
    "                    \n",
    "                    # If current token is same as first label token, continue compare rest of the tokens. \n",
    "                    if que_t[i_que] == lab_t[0]:\n",
    "                        que_t[i_que] = label_type\n",
    "                        i_lab += 1\n",
    "                        i_que += 1\n",
    "\n",
    "                        # Remove trailing question tokens if they match trailing label tokens\n",
    "                        while i_lab < len(lab_t):\n",
    "                            if que_t[i_que] == lab_t[i_lab]:\n",
    "                                que_t.pop(i_que)\n",
    "                                i_lab += 1\n",
    "                            else:\n",
    "                                break\n",
    "#                     elif que_t[i_que] == lab_t[0]:\n",
    "#                         print('Question: ',question, i_data)\n",
    "#                         print('label: ', label)\n",
    "                    i_que += 1\n",
    "                question = ' '.join(que_t)\n",
    "#                 print('after: ', question)\n",
    "#                 print('label: ', label)\n",
    "        new_data.append(question)                   \n",
    "        if i_data % 1000 == 0:\n",
    "            clear_output(wait=True)\n",
    "            print(label_type, i_data)\n",
    "    return new_data\n"
   ]
  },
  {
   "cell_type": "code",
   "execution_count": 11,
   "metadata": {},
   "outputs": [],
   "source": [
    "# Identity groupd filters, created from online lists, most frequent insincere words and manual editing.\n",
    "ID_filter = pd.read_csv('ID_filter.csv')"
   ]
  },
  {
   "cell_type": "code",
   "execution_count": 12,
   "metadata": {},
   "outputs": [
    {
     "data": {
      "text/html": [
       "<div>\n",
       "<style scoped>\n",
       "    .dataframe tbody tr th:only-of-type {\n",
       "        vertical-align: middle;\n",
       "    }\n",
       "\n",
       "    .dataframe tbody tr th {\n",
       "        vertical-align: top;\n",
       "    }\n",
       "\n",
       "    .dataframe thead th {\n",
       "        text-align: right;\n",
       "    }\n",
       "</style>\n",
       "<table border=\"1\" class=\"dataframe\">\n",
       "  <thead>\n",
       "    <tr style=\"text-align: right;\">\n",
       "      <th></th>\n",
       "      <th>RELIGIOUS_ID</th>\n",
       "      <th>RACIAL_ID</th>\n",
       "      <th>NATIONAL_ID</th>\n",
       "      <th>NATIONALITY_ID</th>\n",
       "      <th>GENDER_ID</th>\n",
       "      <th>Unnamed: 5</th>\n",
       "      <th>Political_groups</th>\n",
       "      <th>Political_figure</th>\n",
       "    </tr>\n",
       "  </thead>\n",
       "  <tbody>\n",
       "    <tr>\n",
       "      <th>0</th>\n",
       "      <td>buddhist</td>\n",
       "      <td>white people</td>\n",
       "      <td>Afghanistan</td>\n",
       "      <td>Afghans</td>\n",
       "      <td>girls</td>\n",
       "      <td>NaN</td>\n",
       "      <td>trump supporters</td>\n",
       "      <td>donald trump</td>\n",
       "    </tr>\n",
       "    <tr>\n",
       "      <th>1</th>\n",
       "      <td>catholic</td>\n",
       "      <td>black people</td>\n",
       "      <td>Albania</td>\n",
       "      <td>Albanians</td>\n",
       "      <td>boys</td>\n",
       "      <td>NaN</td>\n",
       "      <td>democrate</td>\n",
       "      <td>president trump</td>\n",
       "    </tr>\n",
       "  </tbody>\n",
       "</table>\n",
       "</div>"
      ],
      "text/plain": [
       "  RELIGIOUS_ID     RACIAL_ID  NATIONAL_ID NATIONALITY_ID GENDER_ID  \\\n",
       "0     buddhist  white people  Afghanistan        Afghans     girls   \n",
       "1     catholic  black people      Albania      Albanians      boys   \n",
       "\n",
       "   Unnamed: 5  Political_groups Political_figure  \n",
       "0         NaN  trump supporters     donald trump  \n",
       "1         NaN         democrate  president trump  "
      ]
     },
     "execution_count": 12,
     "metadata": {},
     "output_type": "execute_result"
    }
   ],
   "source": [
    "ID_filter.head(2)"
   ]
  },
  {
   "cell_type": "code",
   "execution_count": 13,
   "metadata": {},
   "outputs": [],
   "source": [
    "religious_ID = ID_filter.RELIGIOUS_ID.dropna()\n",
    "racial_ID = ID_filter.RACIAL_ID.dropna()\n",
    "national_ID = ID_filter.NATIONAL_ID.dropna()\n",
    "nationality_ID = ID_filter.NATIONALITY_ID.dropna()\n",
    "\n"
   ]
  },
  {
   "cell_type": "code",
   "execution_count": 14,
   "metadata": {
    "scrolled": false
   },
   "outputs": [
    {
     "name": "stdout",
     "output_type": "stream",
     "text": [
      "NATIONALITY_ID 1306000\n",
      "Wall time: 4min 15s\n"
     ]
    }
   ],
   "source": [
    "%%time\n",
    "clean_questions = labels_to_question(clean_questions, religious_ID, 'RELIGIOUS_ID')\n",
    "clean_questions = labels_to_question(clean_questions, racial_ID, 'RACIAL_ID')\n",
    "clean_questions = labels_to_question(clean_questions, national_ID, 'NATIONAL_ID')\n",
    "clean_questions = labels_to_question(clean_questions, nationality_ID, 'NATIONALITY_ID')"
   ]
  },
  {
   "cell_type": "code",
   "execution_count": 15,
   "metadata": {
    "scrolled": true
   },
   "outputs": [],
   "source": [
    "# q_sample = ['today united states will raise taxes', 'How did donald trump junior manage this']\n",
    "# label_sample = ('raise','united states', 'donald trump junior')\n",
    "# temp = labels_to_question(q_sample, label_sample, 'REPLACED')\n",
    "# temp"
   ]
  },
  {
   "cell_type": "code",
   "execution_count": 16,
   "metadata": {},
   "outputs": [],
   "source": [
    "stopwords = list(nltk.corpus.stopwords.words('english')) + list(string.punctuation) + [\"''\", '``','’','“','”', \"'s\", \"'d\", \"'ll\", \"'t\", \"n't\", \"ca\", 'wo']"
   ]
  },
  {
   "cell_type": "code",
   "execution_count": 17,
   "metadata": {},
   "outputs": [
    {
     "name": "stdout",
     "output_type": "stream",
     "text": [
      "Wall time: 4min 6s\n"
     ]
    }
   ],
   "source": [
    "%%time\n",
    "# remove stop words and lower all characters\n",
    "clean_questions = [' '.join(w for w in nltk.word_tokenize(q.lower()) if w not in stopwords) for q in clean_questions]"
   ]
  },
  {
   "cell_type": "code",
   "execution_count": 18,
   "metadata": {},
   "outputs": [
    {
     "data": {
      "text/plain": [
       "1306122"
      ]
     },
     "execution_count": 18,
     "metadata": {},
     "output_type": "execute_result"
    }
   ],
   "source": [
    "len(clean_questions)"
   ]
  },
  {
   "cell_type": "code",
   "execution_count": 19,
   "metadata": {},
   "outputs": [
    {
     "data": {
      "text/plain": [
       "'Do you have an adopted dog, how would you encourage people to adopt and not shop?'"
      ]
     },
     "execution_count": 19,
     "metadata": {},
     "output_type": "execute_result"
    }
   ],
   "source": [
    "train.question_text[1]"
   ]
  },
  {
   "cell_type": "code",
   "execution_count": 20,
   "metadata": {},
   "outputs": [
    {
     "data": {
      "text/plain": [
       "['quebec nationalists see province nation',\n",
       " 'adopted dog would encourage people adopt shop',\n",
       " 'velocity affect time velocity affect space geometry',\n",
       " 'otto von guericke used magdeburg hemispheres',\n",
       " 'convert montra helicon mountain bike changing tyres',\n",
       " 'gaza slowly becoming auschwitz dachau treblinka palestinians',\n",
       " 'quora automatically ban conservative opinions reported liberal views',\n",
       " 'crazy wash wipe groceries germs everywhere',\n",
       " 'thing dressing moderately different dressing modestly',\n",
       " 'ever phase wherein became ignorant people loved completely disregarding feelings/lives get something go way feel temporarily ease things change',\n",
       " 'say feminism',\n",
       " 'calgary flames founded',\n",
       " 'dumbest yet possibly true explanation trump elected',\n",
       " 'use external hard disk os well data storage.will data affected',\n",
       " 'living home boyfriend would love boyfriend home progress situation',\n",
       " 'know bram fischer rivonia trial',\n",
       " 'difficult find good instructor take class near',\n",
       " 'licked skin corpse',\n",
       " 'think amazon adopt house approach manufacturing similar tesla space x business models',\n",
       " 'many baronies might exist within county palatine',\n",
       " 'know whether girl done sex sex',\n",
       " 'become fast learner professional career personal life',\n",
       " 'united states become largest dictatorship world',\n",
       " 'strangest phenomenon know witnessed generated area electronics explanation terms modern physics',\n",
       " 'leave friends find new ones',\n",
       " 'make amazon alexa trigger events browser',\n",
       " 'two democracies never ever went full fledged war stops',\n",
       " 'top cbse months',\n",
       " 'know visiting mcleodganj triund trek',\n",
       " 'modern military submarines reduce noise achieve stealth',\n",
       " 'babies sweeter parents dark skin babies light skin babies',\n",
       " 'remove black heads nose',\n",
       " 'lightsabers created individual wielders saber unique powers/abilities',\n",
       " 'anyone still using visual basic worth learning would professional jobs visual basic programmers --',\n",
       " 'sykes enterprises',\n",
       " 'clear relations number nodes/dofs computational performances requirements fea cfd analyses ansys solutions particular',\n",
       " 'package still isc since may updated',\n",
       " 'great wit mean',\n",
       " 'experience working realtors wish realtors better',\n",
       " 'get charge contact',\n",
       " 'public school teachers automatically get vacation whenever ask',\n",
       " 'role technology using resource',\n",
       " 'opt jaypee university guna mechanical engineering',\n",
       " 'download microsoft word windows hungarian',\n",
       " 'need know buying car south africa american',\n",
       " 'someone enjoy harry potter order phoenix movie least enjoy book',\n",
       " 'writing style book resist prince charming linda kage',\n",
       " 'mother expects memorize usernames passwords make responsible going college one year',\n",
       " 'movie kid fooled thinking germs kill lives bubble life decides travel world portable germ-free bubble',\n",
       " 'computer science student buy final year project outside rather education system really week',\n",
       " 'ways shorten period risks',\n",
       " 'calead leap year',\n",
       " 'many days take get rid spleen enlargement',\n",
       " 'machine learning techniques used extract metadata font color size indentation alignment word document .docx file integrated web application',\n",
       " 'work girls way hitch smith asks dance much',\n",
       " 'india act special',\n",
       " 'sports like',\n",
       " 'dna rna compare contrast',\n",
       " 'someone breaks house shoot kill armed knife happens',\n",
       " 'write biography gianni versace',\n",
       " 'extroverted better faster processing expelling information introverts',\n",
       " 'ever recognized place far home',\n",
       " 'price comparison websites work well financial services',\n",
       " 'ragging happen nift bangalore',\n",
       " 'many bad reviews bahubali imdb',\n",
       " 'swallowing listerine dangerous',\n",
       " 'theories critical thinking',\n",
       " 'biggest problems questions doubts come across trying choose paint color room',\n",
       " 'get cheap flights edinburgh',\n",
       " 'china new chick',\n",
       " 'send large picture files email',\n",
       " 'ebay allow sale wwii purple heart medals even though categories specifically wwii military medals',\n",
       " 'characteristics define isovolumetric relaxation',\n",
       " 'work cybersecurity overseas',\n",
       " 'web developer refer wc standard practice',\n",
       " 'internet become problem rely everything',\n",
       " 'get itc charges levied banks',\n",
       " 'muhammed',\n",
       " 'services provided food testing lab certified requirements',\n",
       " 'ok solo whole life pretend one exists thing unwanted',\n",
       " 'change owner current youtube account original owner let go access change anything',\n",
       " 'archer characters animated based celebrities',\n",
       " 'best way propose girl without annoying',\n",
       " 'million get solar power',\n",
       " 'recommended game engines beginning python programmer',\n",
       " 'thing teleological pantheism',\n",
       " 'best college aircraft propulsion m.s',\n",
       " 'countries world freedom speech par us',\n",
       " 'lead red terror ethiopia',\n",
       " 'best pen low cost sorts things',\n",
       " 'trust business facebook page website',\n",
       " 'improve piano skill keep practicing hard pieces effective way',\n",
       " 'wear insulin pump lot girls like nick jonas wears one dated selena gomez difference nick several zeros missing bank account',\n",
       " 'turkey seperated give land kurds foreign powers like usa future',\n",
       " 'r sq cos- r= equals',\n",
       " 'sings song head',\n",
       " 'chronicled replace supply chain',\n",
       " 'solve equation… sin a*t -b*t=',\n",
       " 'demerits excellence academic pursuits',\n",
       " 'many indians melbourne australia',\n",
       " \"physicists mathematicians computer scientists philosophers think david deutsch 'constructor theory\",\n",
       " 'old scriptures eastern cultures appear lost current culture',\n",
       " 'know i.q even hate numbers',\n",
       " 'really make mind get rid bad habits like procrastination',\n",
       " 'relationship napoleon ali pasha tepelene',\n",
       " 'presynaptic neurons found',\n",
       " 'ways narcissist mother punish child going contact child goes back contact',\n",
       " 'start freelancing finishing udacity android basic nanodegree',\n",
       " 'reason really need bitcoin',\n",
       " 'good songs long journey',\n",
       " 'blacks support school choice mandatory sentencing criminals vote republican',\n",
       " 'added thrice rational number -/ get',\n",
       " 'four movement symphony typically form second movement',\n",
       " 'various stock exchanges',\n",
       " 'gay boy love cousin boy sexy dont know hot want see di**',\n",
       " 'races smallest penis',\n",
       " 'terms computer architecture microarchitecture instruction set architecture isa mean',\n",
       " 'iphone users psychologically trapped brand naming avoiding complain reasonable missing features battery life performance iphone lacks flagship much better',\n",
       " 'long one semester ontario',\n",
       " 'females find penises ugly',\n",
       " 'best ways add flour homemade chili',\n",
       " 'advice anyone wishes accomplish',\n",
       " 'overcome extreme fear insects bugs',\n",
       " 'examples durable work gloves',\n",
       " 'cars move miles towards move miles oppostie direction distance',\n",
       " 'apps use work given day',\n",
       " 'r take maximum headers dataset noticed print first anyway change',\n",
       " 'marry american woman green card much charge',\n",
       " 'companies look recruiting expat nationality candidate play huge role',\n",
       " 'transcranial magnetic stimulation tms used increase cognitive performance',\n",
       " 'george washington free slaves happened revolutionary war think',\n",
       " 'time come india adopt one-child policy',\n",
       " 'us embassy deny us citizen entry embassy',\n",
       " 'wear party',\n",
       " 'test energy meter periodically',\n",
       " 'best stationery home office vs regular office',\n",
       " 'find genuine aviation jobs',\n",
       " 'nonprofit organizations treat employees badly',\n",
       " 'procedure invest mutual fund',\n",
       " 'osn',\n",
       " 'aesthetically pleasing shade green',\n",
       " 'wise m.com calcutta university start preparing cat',\n",
       " 'difference politician leech',\n",
       " 'china sponsor regime change north korea',\n",
       " \"racial_id say 're superior race fact took years mid th century surpass china largest economy\",\n",
       " 'cytoplasm built inside lip',\n",
       " \"'m creating app using multiple programming languages use ide\",\n",
       " 'good bad neighborhoods chuncheon south korea',\n",
       " 'cpss/pabt afsb varanasi',\n",
       " 'someone wrongfully jumped conclusions',\n",
       " 'start troubleshooting hewlett-packard printer',\n",
       " 'unfair men military duty south korea',\n",
       " 'nsf spinoff nsfnet helped sun microsystem',\n",
       " 'dangerous south africa tourist',\n",
       " 'ever known someone drastically changed',\n",
       " 'university louisville listed qs ranking',\n",
       " 'julius caesar bring tyrannosaurus rex campaigns frighten celts submission',\n",
       " 'mercury debilitated dasa simha lagna',\n",
       " 'drivers globalisation',\n",
       " 'people high emotional intelligence',\n",
       " 'womens mainstream fashions change much compared mens',\n",
       " 'cause magnetic force magnet',\n",
       " 'nike football towels manufactured',\n",
       " 'would win anizara powered dragon ball super anime episode vs mystic gohan powered dragon ball super anime episode',\n",
       " 'g phone best',\n",
       " 'fault teen daughter bad social anxiety',\n",
       " 'sunil raju absent today appropriate',\n",
       " \"manner republican backing 'states rights hypocritical ways actually restricted ability states make laws\",\n",
       " 'would racial_id continue participate racial_id war destruction israel killing religious_id knew god defends israel racial_id racial_id want religious_id',\n",
       " 'start conversation quora',\n",
       " 'php framework choose website like olx',\n",
       " 'forensic psychologist',\n",
       " 'better student school',\n",
       " 'fortnite lag everytime fighting someone',\n",
       " 'examples neurotransmitters',\n",
       " 'puppies hyper',\n",
       " 'jhargram birbhum safe place visit winter fear terrorist something',\n",
       " 'discover one thing change life instantly',\n",
       " 'puppy lick paws',\n",
       " 'best powerbank iphone india',\n",
       " 'average nfl team obtained kicker could consistently make field goals yards would win super bowl',\n",
       " 'kill',\n",
       " 'one earn trading derivative market',\n",
       " 'fastest cars world',\n",
       " 'know god timing',\n",
       " 'learn html css become good front-end developer',\n",
       " 'lingayats bury dead rather burn like religious_id',\n",
       " 'therapist help regarding mental health issues',\n",
       " 'remaining useful life honda step wgn mileage',\n",
       " 'think sign progress singaporeans adopting british american australian accents',\n",
       " \"'m ds pokémon diamond game get top mt coronet\",\n",
       " 'create merchant tracking system',\n",
       " 'life like years today',\n",
       " 'people smoke clove cigarettes harmful',\n",
       " 'arnab goswami able ignore many defamation cases kejriwal dragged court everyday cases',\n",
       " 'best institute big data hadoop course chandigarh',\n",
       " 'clipboard feature computer',\n",
       " 'best place buy maths/physics t-shirts',\n",
       " 'people rich still claim reservation conscience given reservation rich',\n",
       " 'instances medieval latin text later translated classical latin purpose comparison',\n",
       " 'location best investment gurgaon',\n",
       " 'husband myopia want prevent child yet conceive .is possible',\n",
       " 'feel travel mph fighter jet airforces',\n",
       " 'book good power electronics',\n",
       " 'possible make directory linux size megabites happen',\n",
       " 'going interview good idea wear black shirt suit wear standard white light colored shirt',\n",
       " 'every stammering melodious voice',\n",
       " 'five types personal fouls basetball',\n",
       " 'americans british canadians australians new zealanders considered separate nations even speak language',\n",
       " 'best changer redmi note',\n",
       " 'point give trying stay friends someone',\n",
       " 'characteristics define frequency division multiple access fdma',\n",
       " 'use new line vb explain example',\n",
       " 'want funeral',\n",
       " 'honey singh justin bieber fall th floor survive',\n",
       " 'makes laugh loudest',\n",
       " 'hold professional state license mandated reporter',\n",
       " 'worst emergency occurred iss',\n",
       " 'cost guru granth sahib punjabi',\n",
       " 'women feel ruin life man falsly accused rape/domestic violence',\n",
       " 'built fort louis pondicherry particular name',\n",
       " 'best nootropics stack balances performance risk',\n",
       " 'hard accepted cs msc université de montréal',\n",
       " 'introduction gst meaning left maximum retail price products one nation one tax',\n",
       " 'liberal minorities voilent towards poeple diffrent poltical beleifs supporting trump sentence imprisoned savegely attacked',\n",
       " 'trillion dollars enough create starship enterprise',\n",
       " 'mating habits alligators',\n",
       " 'meetic become publicly quoted',\n",
       " 'better use avro orc',\n",
       " 'old would neil armstrong today',\n",
       " 'telemundo film telenovelas united states mexico although telemundo headquarters florida',\n",
       " 'return new vehicle like',\n",
       " 'better psu join oil ongc selected companies profile pay case psus company prefer',\n",
       " 'undervalued technologies see make big impact future',\n",
       " 'main role carbohydrates human diet',\n",
       " 'admit president trump really want congress pass legislation replacing daca protect dreamers',\n",
       " 'eee branch manipal pick coding related subjects minor',\n",
       " 'website like ohmagawd.com gag.com make money',\n",
       " 'area steps need take ph.d. order able launch consulting firm right',\n",
       " 'leave battery blanket plugged night',\n",
       " 'feel relationships people disabled',\n",
       " 'sourcing procurement folks used crm like salesforce manage vendors/suppliers contracts *do* use',\n",
       " 'mean boyfriend years almost always ejaculations without losing erection great normal',\n",
       " 'srinagar garhwal places visit',\n",
       " 'happens accused plagiarism',\n",
       " 'people need talk pain',\n",
       " 'buy best dry fruits hyderabad india',\n",
       " \"best friend want spend personal time keeps inviting people come join us tell want 'us time without thinking weird\",\n",
       " 'install fifa.-duplex ps usb',\n",
       " 'characteristics performix sst fat burner',\n",
       " 'icy cold water help pain hand',\n",
       " 'gulenist movement stop falsely accused crimes commit stop oppressed',\n",
       " 'time felt like killing could escape eternal torment thing',\n",
       " 'germinate hen chicks poppies',\n",
       " 'college majors increase chances getting high paying job',\n",
       " 'download mp song artist photo',\n",
       " 'many robots work new york city',\n",
       " 'run app seconds mean',\n",
       " 'woes mercury venuas moon',\n",
       " 'dogs actually cry sadness',\n",
       " 'american economy growing trump presidency people still hate trump president',\n",
       " 'scope electronics communication branch',\n",
       " 'april barack obama current spending time energy',\n",
       " 'leverage investment ie. borrow invest viable option',\n",
       " 'best projector rupees',\n",
       " 'scariest thing ever happened anyone',\n",
       " 'make gravitational wave transmitter antenna',\n",
       " 'rle international chennai branch worth career development',\n",
       " 'difference watching videos knowledge vs reading knowledge medium leads best outcome',\n",
       " 'supposed get guys spider-man web ball',\n",
       " 'example pakkstani-indian collaboration',\n",
       " 'chicken breed known producing extra large yolks regardless size eggs',\n",
       " 'settling germany easy',\n",
       " 'trump speech value voters summit presidential endorsement homophobia',\n",
       " 'r -r +i -i groups organic chemistry',\n",
       " 'diff serotype biotypes bacteria',\n",
       " 'component use transition dcv acv',\n",
       " \"'m considering buy bike cc japanese one better cbrrr r gsx-r zx-r\",\n",
       " 'culturally diverse city united states',\n",
       " 'energy neither created destroyed even exist one create',\n",
       " 'procedure get admission ipu llb',\n",
       " 'win divorce narcissistic ex',\n",
       " 'would happen every iphone ever sold exploded time',\n",
       " 'redecorate room without money',\n",
       " 'much time would take china destroy whole india',\n",
       " 'late learn programming make career',\n",
       " 'poor countries print money use paying education etc',\n",
       " 'like chemical romance elvis presley',\n",
       " \"girl 'm talking looking romantic relationship ask possibility future\",\n",
       " 'people claim florida great weather go silent every time new hurricane',\n",
       " 'factory reset macbook get new computer',\n",
       " 'could leader iran dead many years ago leader today iran actually fake leader',\n",
       " 'quotes tomás de torquemada',\n",
       " 'programming language learn open software company',\n",
       " 'laser good option remove blavk lines around nose',\n",
       " 'spicy italian food recipes',\n",
       " 'low productivity lead lower incomes closed economy',\n",
       " 'tell jerk narcissist',\n",
       " 'ever run online background check someone prompted',\n",
       " 'software prefer good gst billings',\n",
       " 'largest rattlesnake found florida',\n",
       " 'think deserve happiness',\n",
       " 'liberals run schools choose controlled access kids florida killed due unlocked door',\n",
       " 'among practices consider strenghts preschool possess',\n",
       " 'society react term breaks nda',\n",
       " 'intelligent people ask questions',\n",
       " 'feel sad watching parents age',\n",
       " 'use python biological researchers',\n",
       " 'count dooku sith lord',\n",
       " 'led success british efforts claim territory aboriginal australians lived',\n",
       " 'typing app bodhi linux',\n",
       " 'lives animals equal',\n",
       " 'legally use web link court law link exist anymore',\n",
       " 'input subsidy',\n",
       " 'create exciting essay read',\n",
       " 'pakistan pass religious_id marriage act india',\n",
       " 'another word hello',\n",
       " 'like living ghetto',\n",
       " 'good religious_id devotional dating',\n",
       " 'main working big data',\n",
       " 'prevent septic tank overflowing',\n",
       " 'average survivor families victims think really happened day esp fire fighters',\n",
       " 'late medieval middle easterners near easterner nomads mongols eat meals',\n",
       " 'psychology aging explained',\n",
       " 'app best listen kpop music',\n",
       " 'nationalism social media',\n",
       " 'best place window tinting greenville sc',\n",
       " 'hr guys company gives cold shoulder',\n",
       " 'process issuing corporate bonds',\n",
       " 'useful tips someone starting work raymond james',\n",
       " 'lose last layer stubborn fat',\n",
       " 'engineering branch choose apply junior scientist isro',\n",
       " 'creative jobs take',\n",
       " 'train dogs kill raccoons',\n",
       " 'would forgive husband caught sex favorite celibrity later says could control lifetime fantasy becoming true',\n",
       " 'downloading pirated content considered violation second precept buddhism',\n",
       " 'arranged marriages happened previous generation greater chances surviving entire life duration compared ones happening generation',\n",
       " 'good example explaining occam razor',\n",
       " 'life gives pain sadness',\n",
       " 'tackle obsession',\n",
       " 'advantages disadvantages automatic headlamp aho especially two wheelers india',\n",
       " 'things daily change one ecomonic condition personality',\n",
       " 'best way learn manga drawing',\n",
       " 'writing manual test cases scripts much detail much detail documenting steps',\n",
       " 'small yet important battles occurred ww',\n",
       " 'best time buy kyber token th oct ′',\n",
       " 'taskbar stopped responding',\n",
       " 'best way answer question quora get vote',\n",
       " 'use images blogs giving credit original author',\n",
       " 'republicans given free pass run government way see fit',\n",
       " 'british parliament abolish',\n",
       " 'apply topik exam india online',\n",
       " 'better steak',\n",
       " 'dis advantages education',\n",
       " 'way start mongodb server mongodump without use mongorestore',\n",
       " 'people feel hesitate humiliate speaking hindi',\n",
       " 'prepare ese civil marks ese last semester college',\n",
       " 'ingredio milk shake harmful use long time',\n",
       " 'examples motion- without force',\n",
       " 'transient voltage',\n",
       " 'bass heads',\n",
       " 'poem ramayana one largest ancient epics world literature',\n",
       " 'woman religious_id happy marrying religious_id guy lot answers quora love jihad suffered lot marrying religious_id guy',\n",
       " 'chain rule work',\n",
       " 'happens computer needs accessed investigation tools police use',\n",
       " 'many famous polygamist celebrities modern day indonesia today',\n",
       " 'best trusted sites applying scholarships class scored good marks th',\n",
       " 'book best british history graduation',\n",
       " 'best free online lecture video site neet pg mbbs',\n",
       " 'good bachelor information technology university queensland australia',\n",
       " 'rise china change view dictatorship',\n",
       " 'possible score good sectional percentile lrdi solving di questions',\n",
       " 'best way speak english like british',\n",
       " 'scientific research get published age',\n",
       " 'best places party bangalore',\n",
       " 'safe invest larger amount money online stock market trading india would alternative solutions',\n",
       " 'much increasing funding education increase quality education',\n",
       " 'bushfires happen',\n",
       " 'best ways clean remington woodmaster model .-',\n",
       " 'police officers get go paid administrative leave getting fired average joe gets fired negotiated inequality',\n",
       " 'become certified revit',\n",
       " 'primary cause post-traumatic stress disorder military',\n",
       " 'soy latte healthy drink',\n",
       " 'would deployed army ranger ask steam gift card',\n",
       " 'type clutch used activa',\n",
       " 'psychology compliance',\n",
       " 'exceptionally profound gifted individual way thinking dominant verbal non-verbal',\n",
       " 'much weight stack top laptop',\n",
       " 'become scientist class',\n",
       " 'man times know attracted like ask came asks looking confirmation stay hours time',\n",
       " 'much new lawyer earns india many types lawyers',\n",
       " 'samsung galaxy edge recognized pc usb flash drives fix issue',\n",
       " 'would stalin thought late cold war era soviet union',\n",
       " 'army better spartan roman',\n",
       " 'reply ask friend little help tells jocularly pay help',\n",
       " 'steps become analyst cricket video data',\n",
       " 'characteristics deoxyribose ribose sugar',\n",
       " 'moms sex sons',\n",
       " 'dear zindagi good movie',\n",
       " 'like work employee oprah',\n",
       " 'pope say religious_id curse world',\n",
       " 'meaning relationship girl two year',\n",
       " 'mba program suitable doctor field private practice years',\n",
       " 'romans conquer ireland failed conquer scotland',\n",
       " 'much money need buy gas station',\n",
       " 'ladder operator method determining energy eigenvalues quantum harmonic oscillator',\n",
       " 'xrp gain mass adoption would likely causes',\n",
       " 'animals native spain',\n",
       " 'coffee make productive',\n",
       " 'create advanced animal ever currently living extinct species…',\n",
       " 'good place filming time lapse videos planes landing heathrow airport',\n",
       " 'roles royal british guards',\n",
       " \"excluding online e-commerce businesses like uber airbnb best referral program 've heard used\",\n",
       " 'main reason conflict suhrawardy bhashani',\n",
       " 'buy airticket amadeus booking',\n",
       " 'become businessman',\n",
       " 'weed good antidepressant',\n",
       " 'much world worth',\n",
       " 'choose instagram quora would choose',\n",
       " 'past form must',\n",
       " 'good textbooks learning philosophical logic absolute beginner',\n",
       " 'indians make sri lankan people understand india created funded ltte benefit sri lanka india ill intentions',\n",
       " 'best way consume lot educational material',\n",
       " 'followers see anonymous questions since anonymity changes',\n",
       " 'lady macbeth plan kill duncan shakespeare play',\n",
       " 'gulf racial_id post pictures women countries',\n",
       " 'free democratic usa mean personally',\n",
       " 'modern superstitions blindly believed educated masses',\n",
       " 'convince year old eat healthy',\n",
       " 'disadvantages using react native developing native apps e.g instead swift',\n",
       " 'mindset motives westerners join isis',\n",
       " 'become delivery partner amazon',\n",
       " 'sexiest female world',\n",
       " 'happened lsi corporation',\n",
       " 'almost constantly feel uneasy',\n",
       " 'find government job',\n",
       " 'difference split squat lunge',\n",
       " 'download test bank entrepreneurship art science process success bamford e',\n",
       " 'many students appear imucet every year',\n",
       " 'peoples india seems hypocritical womans empowerment',\n",
       " 'certified energy auditor',\n",
       " 'really happens flapping/r-voicing english dialects unstressed /t/ /d/ preceded /n/ e.g /nt/ /nd/ winter blender nasalized tap ɾ̃ nɖ nɾ n /t d/ dropping winter-winner merger',\n",
       " 'going meet go heaven',\n",
       " 'john diggle green arrow crisis earth-x arrow se seemed conclusively show taking mantle',\n",
       " 'royals prefer william harry',\n",
       " 'necessary disclose salary last employer interviewing new company',\n",
       " 'many optionals pcs exam',\n",
       " 'relational algebra basis relational databases',\n",
       " 'difference structural breaks regime shifts',\n",
       " 'biggest book discussion websites/forums',\n",
       " 'deviantart fetish culture become prevalent site moderate content better without tyrannical',\n",
       " 'day checks mailed july',\n",
       " 'kind therapy help forget memory hypnosis actually work',\n",
       " 'times sing perfecty hit every single note easily times stuter speak even sing become breathe',\n",
       " 'black superhero beat superman strong',\n",
       " 'difference maverick indecisive person',\n",
       " 'trading card game copanies pretend like kids main demographic customers years old',\n",
       " 'different magic lucas sequence fibonacci',\n",
       " 'buy hunch turned smartest investment ever made',\n",
       " 'crack jee advanced air study one year good basic knowledge',\n",
       " 'much political fumbling take republicans turn trump',\n",
       " 'recognizable short story',\n",
       " 'skin get affected shaving hair skin arms legs',\n",
       " 'use real time database wordpress website',\n",
       " 'procedures forms followed accept loans director nri',\n",
       " 'indians place red sox world series',\n",
       " 'citizens netherlands called dutch',\n",
       " 'many racial_id wear masks',\n",
       " 'chinese fortune sticks meanings',\n",
       " 'find carrier using tracking number uk',\n",
       " 'love starting fights making people angry',\n",
       " 'use brain',\n",
       " 'electrostatic force f revolving electron becomes equal centripetal force',\n",
       " 'bikini look like',\n",
       " 'dollar worth',\n",
       " 'clock stop morning',\n",
       " 'difference dimension table fact table',\n",
       " 'dangerous animal mandrill',\n",
       " 'ways layperson profit country currency failing',\n",
       " 'certain pro-lifers call believe woman die abortion save life',\n",
       " 'asking data scientist analyze national economy different asking economist analyze economy',\n",
       " 'get bansal classes sheets',\n",
       " \"religious people afraid deceased loved ones watching 're using bathroom masturbating sex\",\n",
       " 'much weight toy wooden boat hold kilograms',\n",
       " 'way report business review business facebook',\n",
       " 'models chevrolet caprice ppv primarily compete compare',\n",
       " 'type franchise thought city like surat gujarat small investment',\n",
       " 'score good marks economic application icse examinaton',\n",
       " 'radar guidance anti-aircraft guns work',\n",
       " 'non-offensive photo without nudity profanity deleted',\n",
       " 'chik-fil-a restaurants always nice compared chains',\n",
       " 'way get insurance damaged two wheeler',\n",
       " 'chances grab mbbs seat state quota west bengal marks neet government college',\n",
       " 'unique live/study abroad experiences',\n",
       " 'go somewhere take something sister says go min car ride starts fight accuses says im ruining day',\n",
       " 'curvature space time mean know humongous net space curved',\n",
       " 'americans prefer show somewhere rather face even mildest conflicts colleagues noted growing number people skip face face meetings without explanation',\n",
       " 'harmful electromagnetic interference',\n",
       " 'distinguish relative scales b-flat major g-minor c major minor',\n",
       " 'feel breath',\n",
       " 'reasons drug trafficking',\n",
       " 'normal fetal heart rate pregnancy',\n",
       " 'shoulder pads protect american football',\n",
       " 'ex-girlfriend live different countries much love together years',\n",
       " 'similarities communication information',\n",
       " 'company apply web development domain years experience cognizant',\n",
       " 'happens drink monster energy',\n",
       " 'biggest alphabet english dictionary',\n",
       " 'invented modern portfolio theory',\n",
       " 'convert heat directly elecric energy without cold body',\n",
       " 'finix coin ico legit scam',\n",
       " 'good chances getting accepted phd mit caltech berkeley see comments details',\n",
       " '.… equal .… rounding',\n",
       " 'india actually called india',\n",
       " 'causes weevil infestations home',\n",
       " 'boyfriend give silent treatment',\n",
       " 'history matrices computer science',\n",
       " 'stop making mistakes playing chess',\n",
       " 'best step work freelance writer',\n",
       " 'would expect dilute urine addisons disease',\n",
       " 'supercharging ic engine',\n",
       " 'stiffness attracts load beams',\n",
       " 'somen well designed social experiments',\n",
       " 'reincarnation true people remember past lives',\n",
       " 'super respectful successful entrepreneurs millionaires billionaires want lead politics',\n",
       " 'likely fluent english ghanaian nigerian',\n",
       " 'objectively powerful character marvel/dc universes',\n",
       " 'popular comments nyt memo whereas ones wsj pro-memo given nyt wsj similar political bias',\n",
       " 'diet mantis shrimp consists',\n",
       " 'term linguistic differential actual linguistic term',\n",
       " 'many people decide graph databases scalability enough experts mostly unconnected data start',\n",
       " 'opinion chicken waffles',\n",
       " 'best diet teddy bear hamsters',\n",
       " 'ever taken sweet time imagining fiction book',\n",
       " 'scope sound engineering india annual income sound engineers',\n",
       " 'lost tooth see new tooth forming already days',\n",
       " 'possible human think faster',\n",
       " 'helpful drop year appear results year good enough',\n",
       " 'liberals pro-choice choices must approved first accurate description liberals',\n",
       " 'normal lose mucus plug early pregnancy',\n",
       " 'value sin^a+sin^b',\n",
       " 'dutch think roosevelts',\n",
       " 'ever met befriended woman enough physical strength ready psychologically overpower tie gag average man case necessary safety',\n",
       " 'software would recomend order find posts likes facebook group page',\n",
       " 'south indian dishes prepared north indians tasty dishes prepared south indian restaurants',\n",
       " 'much employment super yacht represent many people employed long sourcing materials building vessel',\n",
       " 'private college good wbjee',\n",
       " 'change last name california',\n",
       " 'practical possible applications machine learning life sciences ecology conservation biology environmental sciences',\n",
       " 'load black powder rifle',\n",
       " 'able name specific companies introduced opportunities transaction resulted',\n",
       " 'fiduciary different financial advisor',\n",
       " 'build self-confidence women',\n",
       " 'american firms steal chinese technology',\n",
       " 'proves born another human remember born',\n",
       " 'get mbbs seat govt medical colege gujarat state ramk',\n",
       " 'getting reading white wire tied ground bar mean',\n",
       " 'long think take quora remove question closest guess wins prize',\n",
       " 'purches dmt orange county',\n",
       " 'recipe boiled egg noodles',\n",
       " 'paddy herb',\n",
       " 'therapists actually care like would friend care cause job',\n",
       " 'mean light sensitivity sometimes head pain feel broke half',\n",
       " 'get cse branch vit chennai rank',\n",
       " 'legal debtor quit job avoid creditors collection efforts still claim unemployment california',\n",
       " 'among software service based companies higher salary',\n",
       " 'long would take someone notice suddenly disappeared',\n",
       " 'social networking sites work opinion mining techniques applied user comments',\n",
       " 'dream job',\n",
       " 'jinping biggest serial religion murderer rapist leader world mao',\n",
       " 'ammonium bicarbonate used production bread',\n",
       " 'jat gujjar girls beautiful',\n",
       " 'box ammo explode individual bullet go like fireworks',\n",
       " 'best method determining values',\n",
       " 'difference impression materials impression compound',\n",
       " 'someone sci graduate marine engineers gme mumbai',\n",
       " 'animals defend wild',\n",
       " 'get job ilustrator',\n",
       " 'california legally require tinder stop charging users years old higher rate',\n",
       " 'book nothing succeeds like success',\n",
       " 'cold war effects',\n",
       " 'polythene banned state country',\n",
       " 'state bureaus investigation investigate homicide fbi',\n",
       " 'religious tunisians',\n",
       " 'difficult animal welfare charities compete benefit humans epecially many us limited funds contribute',\n",
       " 'consider taking train ride philadelphia baltimore',\n",
       " 'howie seago major accomplishments actor',\n",
       " 'risks bleeding clotting early pregnancy',\n",
       " 'animals make noise sex',\n",
       " 'get hours sleep graveyard shift still trouble staying awake hours work',\n",
       " 'considered babyface wwe',\n",
       " 'new topics research human resource management',\n",
       " 'challenges lori anne allison faced makeup artist',\n",
       " 'remote areas world',\n",
       " 'one apply aadhar bandhup west lbs marg',\n",
       " 'objective criteria evaluating cell health culture',\n",
       " 'salary range salary rich people',\n",
       " 'happens less attendance',\n",
       " 'worst usa president bush trump',\n",
       " 'corrected exam centre neet form pay correction fee',\n",
       " 'know mumbai call girl service',\n",
       " 'full procedure cutoff based admission delhi university',\n",
       " 'longest practical distance light rays could converge earth standard atmosphere',\n",
       " 'captain phasma give easily personally thought going somehow resist trick gang',\n",
       " 'scope ba',\n",
       " 'lots suicide',\n",
       " \"racism australian girl 'm racial_id\",\n",
       " 'think protests padmaavat padmavati',\n",
       " 'decide earth rotates west east',\n",
       " 'great footballer',\n",
       " 'diff lte volte phone providing facility',\n",
       " 'prevent forwarding whatsapp videos',\n",
       " 'songs play cocktail hour wedding',\n",
       " 'common injury due friendly fire military operations',\n",
       " 'find free carpet installation invoice template',\n",
       " 'people quora answer question gun control want debate people support gun control one answers',\n",
       " 'always mess everything',\n",
       " 'us stop supporting kosovo terrorists albanians actually isis',\n",
       " 'born celebrities still alive',\n",
       " 'sex workers handle secure cash earnings',\n",
       " 'made payment aa recruitment fee transaction complete balance deducted bank account site still asking payment',\n",
       " \"'ve got mu oet branch rank expect\",\n",
       " 'become difficult since land job usc ms cs program',\n",
       " 'indian teenager never try life',\n",
       " 'job market bad experience holders india currently',\n",
       " 'would famous person social media ask fan something like money itunes cards',\n",
       " 'robin gibb major accomplishments singer',\n",
       " 'americans need second amendment want start fight right says necessary democracy worried government',\n",
       " 'budget new year camping jaisalmer',\n",
       " 'best humour jokes world',\n",
       " 'role leigh francis develop fictional character keith lemon',\n",
       " 'cars still around years',\n",
       " 'true chennai developed telugu people',\n",
       " 'dangerous blood cough morning',\n",
       " 'would people live one country another',\n",
       " 'mack blood',\n",
       " 'whatis difference stag buck',\n",
       " 'lose weight without eating eggs',\n",
       " 'restaurant play loud music',\n",
       " 'cultural taboos russia',\n",
       " 'want start practice articleship big practice options available',\n",
       " 'racial_id think anti semites attacks religious_id countries',\n",
       " 'james burke become deaf',\n",
       " 'directory professionals bangalore',\n",
       " 'possible suffer depression without knowing',\n",
       " 'disassemble double-action revolvers',\n",
       " 'able play co-op games nintendo ds nintendo switch',\n",
       " 'hard download games play store',\n",
       " 'get cheap flight tickets delhi london',\n",
       " 'quickly learn breakdance power moves',\n",
       " 'stereotype attached people sydney northern beaches',\n",
       " 'think inflation hits rich businessman',\n",
       " 'make money electrician',\n",
       " 'indian girls fetish white guys',\n",
       " 'tips write summary bring streetcars back',\n",
       " 'best broker new real estate agent california',\n",
       " 'whats cleanshot way express ones feelings girl irrespective outcome',\n",
       " 'views barkha dutt switching newsx',\n",
       " 'would twitter hire twitter account',\n",
       " 'swagatham program csa iisc gate toppers people selected/invited invite computer science students others also',\n",
       " 'get st place otherwise top three hashtags nearly posts even million-post hashtags however get much traffic getting follows following wrong',\n",
       " 'get market research report kids apparel industry india',\n",
       " 'different types consultants qualification become consultant',\n",
       " 'favourite',\n",
       " 'difference listed unlisted company',\n",
       " 'ask questions',\n",
       " 'best books read indian politics tells truth political matter',\n",
       " 'analog energy meter rotate load',\n",
       " 'people know generation z',\n",
       " 'could modern canadian military take nazi germany ww',\n",
       " 'throw ice cube ocean chance come contact one water molecules ice lifetime',\n",
       " 'acer aspire v laptop show battery detected',\n",
       " 'forcibly convert chinese people religious_id wahabbi islam',\n",
       " 'get friend uk usa',\n",
       " 'requirements get princeton',\n",
       " 'two types urban local bodies constituted',\n",
       " 'idea yin yang originate china',\n",
       " 'take consideration making hank hill costume',\n",
       " 'chinese person start political party',\n",
       " 'iron found free state',\n",
       " 'fast humans die sun suddenly turn solidify maintaining gravitational force',\n",
       " 'search find mass graves',\n",
       " 'crime reporters face death threats',\n",
       " 'best elevator company india',\n",
       " 'end net neutrality help traditional media rebound',\n",
       " 'apps mining bitcoin paid version',\n",
       " 'shortest professional wrestler ever',\n",
       " 'offices agencies legally able arrest sitting u.s. president',\n",
       " 'major jute exporters bangladesh',\n",
       " 'university apply bachelor liberal arts europe',\n",
       " 'tum masters communication requires recommender state candidate top',\n",
       " 'body temperature increased slightly feverish feeling matter concern',\n",
       " 'summer internships available marketing aspirants',\n",
       " 'differences depression melancholia',\n",
       " 'manage overcome childhood adversity become person today prime motivators journey',\n",
       " 'genetic background details',\n",
       " 'men better pain tolerance women mean would handle childbirth menstrual pain breastfeeding better',\n",
       " 'historical significance mesopotamia god',\n",
       " 'ironic meaning salem many people hanged crucible',\n",
       " \"wrong love someone 've never met\",\n",
       " 'anything called love first sight',\n",
       " 'akshay thakre naag-mani',\n",
       " 'guy tells everyone hates never talked guy keep staring try look looking',\n",
       " 'answer key mock test aiims distributed tomorrow',\n",
       " 'lg phone tempature get high',\n",
       " 'teachers smack students school australia',\n",
       " 'aerogel expensive',\n",
       " 'ok walk dog rain alternatives',\n",
       " 'plural mathematics',\n",
       " \"people act like sex amazing thing everybody else want care people enjoy sex 're happy hate act like asexuality means 'm either missing life childish\",\n",
       " 'much cost live paris month',\n",
       " 'say write tibetan tibetan',\n",
       " 'change wording groupon review already submitted',\n",
       " 'jorge luis borges alive would publish short stories',\n",
       " 'make sure implementing ideas get books read',\n",
       " 'point intersection y= \\\\sqrt -x y=x',\n",
       " 'best way report fraud hospital medical practice',\n",
       " 'people youtube disrespect opinions fake exhausts cars mercedes-benz audi',\n",
       " 'shower breakfast breakfast showering',\n",
       " 'given constant volume pressure drop gas absorbed',\n",
       " 'name bird lives gir forest freezes threatened',\n",
       " 'possible knowingly stop heart heartbeat',\n",
       " 'doctor injected anesthetic skin minor surgery felt cold rush body absolutely numbing area whatsoever felt horrible could injected directly bloodstream',\n",
       " 'cryptorchidism treated',\n",
       " 'education better business',\n",
       " 'really feel okay love respect women',\n",
       " 'way switch accounts signed windows pc',\n",
       " 'colonial empires come racial_id countries',\n",
       " 'swap identity anyone world stuck body money house debts family forever choose',\n",
       " 'buying graphic card holding laptop damage laptop performance faster ordinary laptop',\n",
       " 'orthodox religious_id argument filioque',\n",
       " 'know boyfriend bipolar',\n",
       " 'economically speaking wages higher men women entered workforce',\n",
       " 'x bike waterproof',\n",
       " 'resent challenges human resources management need addressed',\n",
       " 'kid gang genre movies like goonies e.t stand called',\n",
       " 'examples fables folktales',\n",
       " 'snapchat popularity declining',\n",
       " 'chairman regional federal reserve',\n",
       " 'canada better country pursue mba banking finance years experience indian banking system',\n",
       " 'colour methyl orange limewater',\n",
       " 'causes itchiness breasts',\n",
       " 'comrades quora answer ias ips ifs ies officers suffer due mentally retarded children',\n",
       " 'every car autonomous non-autonomous car would',\n",
       " 'start earning mbbs private clinics like apply hospitals would salary',\n",
       " 'best collection amazing facts',\n",
       " 'world dangerous activists',\n",
       " \"bad year old girl extremely close year old girl 're related\",\n",
       " 'train yorkie-pom dog follow commands',\n",
       " 'best running shoes flat feet',\n",
       " 'easiest way convert cubic feet liters basic chemistry',\n",
       " 'uses sports certificates school level interview',\n",
       " 'many times u.s. air force failed send court martial records f.b.i',\n",
       " 'electrical engineer intrested mechanical machines equipments',\n",
       " 'future administrator linux',\n",
       " 'gopal krishna gokhale considered important mentor gandhi',\n",
       " 'buy unique quirky products online',\n",
       " 'game thrones arya find littlefinger',\n",
       " 'foods taken least week',\n",
       " 'weight undergraduate research applying integrated phd physics india research paper published bachelor degree deter chances getting selected',\n",
       " 'm.planning m.des whats better b.tech civil engineering',\n",
       " \"'bakkushan moments\",\n",
       " 'walmartlabs give new hire stock grants rsu vesting work',\n",
       " 'think happen bitcoin',\n",
       " 'actually happening syria children',\n",
       " 'racial_id proud countries move',\n",
       " 'job prospects msc chemistry biology',\n",
       " 'would name cognitive automation solution',\n",
       " 'facebook record audio users devices ad-targeting purposes',\n",
       " 'pre-ordering considered bad',\n",
       " 'college could get marks neet specially',\n",
       " 'point speed limits interstate highways nonresidential/city roads stationing police officers roads seems like huge waste limited police resources',\n",
       " 'good tips eso',\n",
       " 'dog collars best use training dogs',\n",
       " 'quora text limit',\n",
       " 'easiest way get rid debt',\n",
       " 'multiple-hit hypothesis explain development cancer',\n",
       " 'happened year',\n",
       " 'non-dihydropyridine calcium channel blockers used',\n",
       " 'cope boyfriend extremely jealous',\n",
       " 'governmental organisation threatening life five hours hide',\n",
       " 'car mean',\n",
       " 'particular kind music listen sad',\n",
       " 'give reward virtual assistants efforts',\n",
       " 'admission requirements stanford university indian student',\n",
       " 'sites web criticise indie films',\n",
       " 'type questions may asked civil engineer upsc civil services interview',\n",
       " 'u.s sanctions iran legal good faith',\n",
       " 'think happen seasons americans',\n",
       " 'people think okay ask people online advice health issues',\n",
       " 'signs indicate trump trying turn united states authoritarian state',\n",
       " 'harsh truths africa',\n",
       " 'experience husky dogs india sustain indian tropical environment',\n",
       " 'prerequisites become assistant professor',\n",
       " 'helpful mtech low aggregate mechanical engineering',\n",
       " 'religious_id think religious_id convert christianity order saved',\n",
       " 'augustus get married',\n",
       " 'theories human memory stored synapses',\n",
       " 'paying royal family besides brits',\n",
       " 'queen elizabeth related king henry viii',\n",
       " 'drain flies common sewage systems',\n",
       " 'long take process cow',\n",
       " 'charities become huge',\n",
       " 'racial_id ungrateful america speaking german without us cover military costs spend social safety programs',\n",
       " 'find class clowns harvard',\n",
       " 'future us',\n",
       " 'city india good ecosystem developing prototypes real fast real cheap inventors',\n",
       " 'worth study mba tier colleges like tapmi bim kj somaiya',\n",
       " 'lease agreement common.com ollie.co coliving.com',\n",
       " 'companies like tcs wipro infosys give salary training period',\n",
       " 'supplements work growing boobs',\n",
       " 'concerned whether carter page russian spy working trump campaign',\n",
       " 'sense native english person immigrate germany great britain',\n",
       " 'fl police record data check citizen id without issuance citations infractions',\n",
       " 'electric cars gears',\n",
       " 'live year',\n",
       " 'impersonal god',\n",
       " 'avoid dog getting wet rains allow come inside dry area available stay',\n",
       " 'best way deal sex withdrawal',\n",
       " 'wechat symbol',\n",
       " 'best colleges e.g free tuition job opportunities',\n",
       " 'purpose siliceous ooze',\n",
       " 'sell pakistan need lots money decided sell pakistan one wan na buy',\n",
       " 'first employees flipkart',\n",
       " 'solar system fixed reference frame universe experiencing time dilation effects due movement',\n",
       " 'would thin plated armour folded leather scales underneath make good knight armor',\n",
       " 'unique bandeau outfits ideas teenagers',\n",
       " 'simlarity computer organization computer arichtecture',\n",
       " 'important causes great depression',\n",
       " 'covered insurance die roller coaster',\n",
       " 'civic nationalism originate',\n",
       " 'big investment options less risk india except real estate',\n",
       " 'eventuality prepared survive would collapse worth surviving',\n",
       " 'people change gender physically way animals',\n",
       " \"gmail passwords keep disappearing 'm mac gmail boxes sidebar along left every often lose connection gmail boxes reset passwords access mail boxes every day\",\n",
       " 'need become great electrical engineer',\n",
       " 'weed cause cardiac arrest',\n",
       " 'types tooth-coloured fillings',\n",
       " 'think good country cctv surveillance phone surveillance despite human rights abuse claim',\n",
       " 'notify one tweeter contacts fact account possibly hacked since likes pornographic content possible send anonymous message',\n",
       " 'choose least favorite mcu villain would improve him/her',\n",
       " 'cant indians stop comparing much developed countries start working building instead',\n",
       " 'armfeldt lewenhaupt rehnskiöld best swedish general',\n",
       " 'psychopaths think fat acceptance movement',\n",
       " 'know guy sweet caring feelings',\n",
       " 'ever cheated someone test school',\n",
       " 'companies india hire sql developers',\n",
       " 'fun ever life',\n",
       " 'area considered western europe',\n",
       " 'best laptop everyday use light gaming',\n",
       " 'bigger red blood cells white blood cells',\n",
       " 'significant logarithm image processing',\n",
       " 'area banglore safest working women',\n",
       " 'meaning nudge hike',\n",
       " 'real thing idea',\n",
       " 'penis size funny',\n",
       " 'relation rotation earth changing polarities',\n",
       " 'difference active duty coast guard',\n",
       " 'dynamic team microsoft idc hyderabad',\n",
       " 'keep lazyness away',\n",
       " 'posion kill human mintues',\n",
       " 'long stand-up count take prison',\n",
       " 'dad unnecessarily harsh compared siblings first-born',\n",
       " 'anti-missile systems thaads',\n",
       " 'hybrid bike wheels mountain bike frame',\n",
       " 'win married man',\n",
       " \"think donald trump new 'real news program hosted daughter-in-law\",\n",
       " 'buddhism improvement women religious_id cultures',\n",
       " 'largest state terms population',\n",
       " 'liberals think nra protest nra feel evil',\n",
       " 'grown men look skinny jeans',\n",
       " 'best site learn basic computer',\n",
       " 'background hammer v. dagenhart case',\n",
       " 'british actors lost accents either completely partially living america long',\n",
       " 'would take us homeowners begin putting solar panels roofs en masse',\n",
       " 'would able record clips tv shows upload youtube tool best use anyone know could',\n",
       " 'treat watery discharge weeks pregnant',\n",
       " 'year olds bad mums dads',\n",
       " 'apparently cold showers good skin hair often take day twice day',\n",
       " 'likely facebook going bankruptcy',\n",
       " 'maximum size possible thunderstike',\n",
       " 'revealed throughout genome platypus',\n",
       " 'think renewable feasibility evaluation lut ewg major flaws study',\n",
       " 'really think could follow taking actual bullet someone',\n",
       " 'inject within marked areas rat would risk penetrating',\n",
       " 'venomous snake bites human human sick venom cure human also harm would go proceeding medical procedure',\n",
       " 'important amplify signal sending recipient',\n",
       " 'society',\n",
       " 'lifeguards necessary aquatic facility',\n",
       " 'diameter bob affect pendulum',\n",
       " 'difference multiplication quantitative percentages',\n",
       " 'delete quora account use email address create another one',\n",
       " 'intuitive way understand radon–nikodym derivative useful',\n",
       " 'south africa safe country visit',\n",
       " 'best route houston san francisco one week',\n",
       " 'structure white blood cells',\n",
       " 'stop religious conversions india',\n",
       " 'like start business continue dad business bba bbm',\n",
       " 'fee comedk mbbs',\n",
       " \"best motivation 've ever received\",\n",
       " 'skin turns dark body lotion use',\n",
       " 'mother call favorite alone around siblings says favorites',\n",
       " \"best way tackle situation earning much friends look 'expectations\",\n",
       " 'go silent ‘',\n",
       " 'hypothetically effective would mercury filled grenade killing enemy combatants',\n",
       " 'syllabic consonants sanskrit varnamala ऋ ॠ ऌ ॡ considered vowels consonants',\n",
       " 'buy clothes phone',\n",
       " 'government medical college get marks neet sc category',\n",
       " 'articles come famous journals content compare tow things writing model writing skill worth learning',\n",
       " 'would total obedience living creatures one day',\n",
       " 'select best dental practice marketing agency dentists',\n",
       " 'best professors university cambridge',\n",
       " 'best jaypee mit pune cse',\n",
       " 'important chapters neet biology',\n",
       " 'get foreign assignments public relations',\n",
       " 'britain revokes article would value pound go yes much',\n",
       " 'apple radio keeps surging whenever turn radio fix',\n",
       " 'field work india least members',\n",
       " 'parts job fun',\n",
       " 'business-major student incorporate international dimension his/her undergraduate education',\n",
       " 'well would ike ibeabuchi done boxing career damaged legal issues',\n",
       " 'somebody guide purchasing exercise bike home good models range rs features',\n",
       " 'people find pleasure enemas',\n",
       " 'football buy',\n",
       " 'general walter bedell beetle smith major accomplishments',\n",
       " 'kenya safe foe residents',\n",
       " 'good examples suspension chemistry',\n",
       " 'profitable car leasing business post gst',\n",
       " 'best plants increasing indoor air quality easily maintanable',\n",
       " 'biggest fear newly retired people',\n",
       " 'move outside midnight kota swing mood',\n",
       " 'presidents since kennedy committed crimes',\n",
       " 'people beijing put traffic cone next parked car',\n",
       " 'experience indian-american going india medical school',\n",
       " 'make sense container component render several presentation components',\n",
       " 'ronaldinho looks like girl',\n",
       " 'companies sell non-branded high quality smart casual clothes',\n",
       " 'present education minister karnataka',\n",
       " 'videos north korean military parades march appears exaggerated goose step normal marching step',\n",
       " 'often unsuccessful catch prey',\n",
       " 'soon wwii right-wing political party founded germany',\n",
       " 'boss watched porn work computer get stop',\n",
       " 'mostly imortant doctor',\n",
       " 'tall parents become feet',\n",
       " 'steps taking idea product solve problem sportsmen face',\n",
       " 'effective strategies startups using reach target audience paid ads blogs',\n",
       " 'devil really exists currently working',\n",
       " 'grandmother call wrestling wrastling',\n",
       " 'sudden intrusive thoughts pain',\n",
       " 'good unique crochet scarf patterns',\n",
       " 'brian griffin good role model family guy',\n",
       " 'frequently part legs starts getting itchy apparent reason usually isolated hive/bump heat-rash-like condition anyone know causes',\n",
       " 'difference gene allele',\n",
       " 'uses face oil face oil good dry skin extremely dry skin',\n",
       " 'cons surface mining',\n",
       " 'great places according travel solo',\n",
       " 'pleasure keeping snakes pets',\n",
       " 'get sick old water',\n",
       " 'ever happened lost faith belief god',\n",
       " 'find password elite paycheck plus debit card set one',\n",
       " 'chances mp state rank neet',\n",
       " 'favourite sentences',\n",
       " 'since sasuke naruto reincarnation indra ashura brothers',\n",
       " 'genetic engineering chemical engineering',\n",
       " \"phrase 'the dead night makes sense 'the alive day\",\n",
       " 'job opportunities economics',\n",
       " 'player greatest performance super bowl',\n",
       " 'something never needs said',\n",
       " 'wrong bjp punjab',\n",
       " 'shouldnt women ips',\n",
       " 'could president sign executive order banning nra making campaign contributions level',\n",
       " 'find abandoned places campania italy',\n",
       " 'lyft track deleting reinstalling app',\n",
       " 'would die save loved one',\n",
       " 'chance go naval school',\n",
       " 'many agni missiles india',\n",
       " 'mughals descendants genghis khan',\n",
       " 'best city ever visited turkey',\n",
       " 'best lifehacks hairs',\n",
       " 'america current civil war go hot go',\n",
       " 'improve high kick technique',\n",
       " 'functions amylose',\n",
       " 'much cost build professional basketball half-court france',\n",
       " 'happen bitcoin power goes weeks across world cme',\n",
       " 'motorcycles toronto highways exempt speed limit',\n",
       " 'learn making stop motion whiteboard video like video link take much time make one',\n",
       " 'today friend came lunch said morning started period cramps went um ask… said weird uncomfortable told response correct one give',\n",
       " 'parts nucleus',\n",
       " 'new software developer insisted use kubernetes backend project developers company experience docker kubernetes cto',\n",
       " 'dating boring one',\n",
       " 'early christianity practiced diffferently today',\n",
       " 'stream pixelated choppy',\n",
       " 'would happened indian subcontinent stayed together',\n",
       " 'make girlfriend bangalore work sufficient money good looking girls workplace',\n",
       " 'personal benefits giving charity tax breaks',\n",
       " 'organisation/club pune helps appear ham radio licencing asoc examination',\n",
       " 'chinese people always welcome countries',\n",
       " 'clouds look solid ground',\n",
       " 'frieza man woman',\n",
       " 'win video game battle adam angelo vs kim kardasian']"
      ]
     },
     "execution_count": 20,
     "metadata": {},
     "output_type": "execute_result"
    }
   ],
   "source": [
    "clean_questions[:1000]"
   ]
  },
  {
   "cell_type": "markdown",
   "metadata": {},
   "source": [
    "# Define functions and pipelines"
   ]
  },
  {
   "cell_type": "code",
   "execution_count": 21,
   "metadata": {},
   "outputs": [],
   "source": [
    "def vect_trans(vectorizer, X_train, X_test):\n",
    "    # can also take a transformer\n",
    "    vect = vectorizer\n",
    "    vect.fit(X_train)\n",
    "    return vect.transform(X_train), vect.transform(X_test)"
   ]
  },
  {
   "cell_type": "code",
   "execution_count": 22,
   "metadata": {},
   "outputs": [],
   "source": [
    "# MultinominalNB function for printing scores and storing into df.\n",
    "def model_score(model, X_train, X_test, y_train, y_test, score_df, model_label):\n",
    "    estimator = model\n",
    "    estimator.fit(X_train, y_train)\n",
    "    test_score =  estimator.score(X_test, y_test)\n",
    "    f1 = f1_score(y_test, estimator.predict(X_test))\n",
    "    \n",
    "    print('Train Accuracy :', estimator.score(X_train, y_train))\n",
    "    print('Test Accuracy:', test_score)\n",
    "    print('Test F1 score:', f1)\n",
    "    score_df.loc[model_label, 'Test_Accuracy'] = test_score\n",
    "    score_df.loc[model_label, 'Test_F1_score'] = f1"
   ]
  },
  {
   "cell_type": "code",
   "execution_count": 23,
   "metadata": {},
   "outputs": [],
   "source": [
    "# Cross Validate function for printing scores and storing into df.\n",
    "def cv_score(model, X, y, model_label,  cv=5, ):    \n",
    "    \n",
    "    # instantiating model\n",
    "    estimator = model\n",
    "    \n",
    "    cv_result = cross_validate(estimator, X, y, cv = cv, n_jobs=-1, scoring=['accuracy', 'f1'])\n",
    "    \n",
    "    print('Test Accuracy Mean:',cv_result['test_accuracy'].mean())\n",
    "    print('Test Accuracy STD:',cv_result['test_accuracy'].std())\n",
    "    print('Test F1:', cv_result['test_f1'].mean())\n",
    "    score_df.loc[model_label, 'CV_Accuracy'] = cv_result['test_accuracy'].mean()\n",
    "    score_df.loc[model_label, 'CV_Acc_STD'] = cv_result['test_accuracy'].std()\n",
    "    score_df.loc[model_label, 'CV_F1_score'] = cv_result['test_f1'].mean()"
   ]
  },
  {
   "cell_type": "code",
   "execution_count": 24,
   "metadata": {},
   "outputs": [],
   "source": [
    "# GridSearchCV function, auto display best score and parameters and storing in df\n",
    "def gridcv(model, X, y, params, cv= 5 ):\n",
    "    \n",
    "    # instantiating model can also be a pipeline\n",
    "    estimator = model\n",
    "    \n",
    "    gridcv = GridSearchCV(estimator=estimator, param_grid=params, cv = cv, verbose=10, n_jobs=6)\n",
    "    gridcv.fit(X, y)\n",
    "    \n",
    "    print(gridcv.best_params_)\n",
    "    print(gridcv.best_score_)\n",
    "    "
   ]
  },
  {
   "cell_type": "code",
   "execution_count": 25,
   "metadata": {},
   "outputs": [],
   "source": [
    "# CountVectorizer pipeline and parameters\n",
    "pipeCVNB = Pipeline([('CV',CountVectorizer(stop_words=stopwords)), \n",
    "                    ('NB',MultinomialNB())])\n",
    "\n",
    "paramsCVNB = {'CV__max_df':(1.0, 0.9, 0.8, 0.7),\n",
    "       'CV__min_df': (1, 2, 0.01 , 0.1, 0.2),\n",
    "         'CV__ngram_range':((1,1), (1,2), (1,3))}"
   ]
  },
  {
   "cell_type": "code",
   "execution_count": 26,
   "metadata": {},
   "outputs": [],
   "source": [
    "# TfidfVectorizer pipeline and parameters\n",
    "pipeTVNB = Pipeline([('TV',TfidfVectorizer(stop_words=stopwords)), \n",
    "                    ('NB',MultinomialNB())])\n",
    "\n",
    "paramsTVNB = {'TV__max_df':(1.0, 0.9, 0.8, 0.7, 0.6),\n",
    "       'TV__min_df': (1, 2, 0.01, 0.05, 0.1),\n",
    "         'TV__ngram_range':((1,1), (1,2), (1,3), (2,2), (2,3))}"
   ]
  },
  {
   "cell_type": "code",
   "execution_count": 27,
   "metadata": {},
   "outputs": [],
   "source": [
    "score_df = pd.DataFrame()"
   ]
  },
  {
   "cell_type": "markdown",
   "metadata": {},
   "source": [
    "# Default count vectorizer on raw text"
   ]
  },
  {
   "cell_type": "code",
   "execution_count": 28,
   "metadata": {},
   "outputs": [
    {
     "name": "stdout",
     "output_type": "stream",
     "text": [
      "Wall time: 33 s\n"
     ]
    }
   ],
   "source": [
    "%%time\n",
    "\n",
    "X_train_raw, X_test_raw, y_train_raw, y_test_raw = train_test_split(train.question_text, train.target,\n",
    "                                                                    stratify=train.target, random_state = 495)\n",
    "\n",
    "X_train_raw_t, X_test_raw_t=  vect_trans(CountVectorizer(), X_train_raw, X_test_raw)"
   ]
  },
  {
   "cell_type": "code",
   "execution_count": 29,
   "metadata": {},
   "outputs": [
    {
     "name": "stdout",
     "output_type": "stream",
     "text": [
      "Train Accuracy : 0.9350739237089765\n",
      "Test Accuracy: 0.9344135778838762\n",
      "Test F1 score: 0.5646092542896641\n",
      "Test Accuracy Mean: 0.9321614838567932\n",
      "Test Accuracy STD: 0.0005228593021778298\n",
      "Test F1: 0.5489215714930169\n"
     ]
    },
    {
     "data": {
      "text/html": [
       "<div>\n",
       "<style scoped>\n",
       "    .dataframe tbody tr th:only-of-type {\n",
       "        vertical-align: middle;\n",
       "    }\n",
       "\n",
       "    .dataframe tbody tr th {\n",
       "        vertical-align: top;\n",
       "    }\n",
       "\n",
       "    .dataframe thead th {\n",
       "        text-align: right;\n",
       "    }\n",
       "</style>\n",
       "<table border=\"1\" class=\"dataframe\">\n",
       "  <thead>\n",
       "    <tr style=\"text-align: right;\">\n",
       "      <th></th>\n",
       "      <th>Test_Accuracy</th>\n",
       "      <th>Test_F1_score</th>\n",
       "      <th>CV_Accuracy</th>\n",
       "      <th>CV_Acc_STD</th>\n",
       "      <th>CV_F1_score</th>\n",
       "    </tr>\n",
       "  </thead>\n",
       "  <tbody>\n",
       "    <tr>\n",
       "      <th>Raw_token_NB</th>\n",
       "      <td>0.934414</td>\n",
       "      <td>0.564609</td>\n",
       "      <td>0.932161</td>\n",
       "      <td>0.000523</td>\n",
       "      <td>0.548922</td>\n",
       "    </tr>\n",
       "  </tbody>\n",
       "</table>\n",
       "</div>"
      ],
      "text/plain": [
       "              Test_Accuracy  Test_F1_score  CV_Accuracy  CV_Acc_STD  \\\n",
       "Raw_token_NB       0.934414       0.564609     0.932161    0.000523   \n",
       "\n",
       "              CV_F1_score  \n",
       "Raw_token_NB     0.548922  "
      ]
     },
     "execution_count": 29,
     "metadata": {},
     "output_type": "execute_result"
    }
   ],
   "source": [
    "model = MultinomialNB()\n",
    "model_label = 'Raw_token_NB'\n",
    "\n",
    "model_score(model, X_train_raw_t, X_test_raw_t, y_train_raw, y_test_raw, score_df, model_label)\n",
    "cv_score(model, X_train_raw_t, y_train_raw, model_label)\n",
    "score_df"
   ]
  },
  {
   "cell_type": "code",
   "execution_count": 53,
   "metadata": {},
   "outputs": [
    {
     "name": "stdout",
     "output_type": "stream",
     "text": [
      "train score: 0.9350739237089765\n",
      "test score: 0.9344135778838762\n"
     ]
    }
   ],
   "source": [
    "nb = MultinomialNB()\n",
    "nb.fit(X_train_raw_t, y_train_raw)  \n",
    "test_score =  nb.score(X_test_raw_t, y_test_raw)\n",
    "print('train score:', nb.score(X_train_raw_t, y_train_raw))\n",
    "print('test score:', test_score)\n",
    "y_pred = nb.predict(X_test_raw_t)"
   ]
  },
  {
   "cell_type": "code",
   "execution_count": 54,
   "metadata": {},
   "outputs": [
    {
     "name": "stdout",
     "output_type": "stream",
     "text": [
      "0.5646092542896641\n",
      "0.7645724512273393\n",
      "0.9344135778838762\n",
      "0.9397915566837656\n"
     ]
    },
    {
     "data": {
      "text/plain": [
       "array([[291229,  15099],\n",
       "       [  6317,  13886]], dtype=int64)"
      ]
     },
     "execution_count": 54,
     "metadata": {},
     "output_type": "execute_result"
    }
   ],
   "source": [
    "print(f1_score(y_test_raw, y_pred) )\n",
    "print(f1_score(y_test_raw, y_pred, average='macro') )\n",
    "print(f1_score(y_test_raw, y_pred, average='micro') )\n",
    "print(f1_score(y_test_raw, y_pred, average='weighted') )\n",
    "confusion_matrix(y_test_raw, y_pred)"
   ]
  },
  {
   "cell_type": "code",
   "execution_count": null,
   "metadata": {},
   "outputs": [],
   "source": []
  },
  {
   "cell_type": "markdown",
   "metadata": {},
   "source": [
    "# Basic Token and Ngram modelling on cleaned data"
   ]
  },
  {
   "cell_type": "markdown",
   "metadata": {},
   "source": [
    "Creating train/test sets"
   ]
  },
  {
   "cell_type": "code",
   "execution_count": 55,
   "metadata": {},
   "outputs": [],
   "source": [
    "X = clean_questions\n",
    "y = train.target"
   ]
  },
  {
   "cell_type": "code",
   "execution_count": 56,
   "metadata": {},
   "outputs": [],
   "source": [
    "X_train, X_test, y_train, y_test = train_test_split(X, y, stratify=y, random_state = 495)"
   ]
  },
  {
   "cell_type": "markdown",
   "metadata": {},
   "source": [
    "### Tokens only"
   ]
  },
  {
   "cell_type": "code",
   "execution_count": 57,
   "metadata": {},
   "outputs": [
    {
     "name": "stdout",
     "output_type": "stream",
     "text": [
      "Wall time: 32.7 s\n"
     ]
    }
   ],
   "source": [
    "%%time\n",
    "X_train_t, X_test_t=  vect_trans(CountVectorizer(max_df=1.0, min_df=1, ngram_range=(1,1)), X_train, X_test)"
   ]
  },
  {
   "cell_type": "code",
   "execution_count": 58,
   "metadata": {},
   "outputs": [
    {
     "name": "stdout",
     "output_type": "stream",
     "text": [
      "Train Accuracy : 0.9342000896292433\n",
      "Test Accuracy: 0.9335132039530704\n",
      "Test F1 score: 0.5615735692071571\n",
      "Test Accuracy Mean: 0.9312692746998665\n",
      "Test Accuracy STD: 0.0005412122745367851\n",
      "Test F1: 0.5469019096807259\n"
     ]
    },
    {
     "data": {
      "text/html": [
       "<div>\n",
       "<style scoped>\n",
       "    .dataframe tbody tr th:only-of-type {\n",
       "        vertical-align: middle;\n",
       "    }\n",
       "\n",
       "    .dataframe tbody tr th {\n",
       "        vertical-align: top;\n",
       "    }\n",
       "\n",
       "    .dataframe thead th {\n",
       "        text-align: right;\n",
       "    }\n",
       "</style>\n",
       "<table border=\"1\" class=\"dataframe\">\n",
       "  <thead>\n",
       "    <tr style=\"text-align: right;\">\n",
       "      <th></th>\n",
       "      <th>Test_Accuracy</th>\n",
       "      <th>Test_F1_score</th>\n",
       "      <th>CV_Accuracy</th>\n",
       "      <th>CV_Acc_STD</th>\n",
       "      <th>CV_F1_score</th>\n",
       "    </tr>\n",
       "  </thead>\n",
       "  <tbody>\n",
       "    <tr>\n",
       "      <th>Raw_token_NB</th>\n",
       "      <td>0.934414</td>\n",
       "      <td>0.564609</td>\n",
       "      <td>0.932161</td>\n",
       "      <td>0.000523</td>\n",
       "      <td>0.548922</td>\n",
       "    </tr>\n",
       "    <tr>\n",
       "      <th>Token_NB</th>\n",
       "      <td>0.933513</td>\n",
       "      <td>0.561574</td>\n",
       "      <td>0.931269</td>\n",
       "      <td>0.000541</td>\n",
       "      <td>0.546902</td>\n",
       "    </tr>\n",
       "  </tbody>\n",
       "</table>\n",
       "</div>"
      ],
      "text/plain": [
       "              Test_Accuracy  Test_F1_score  CV_Accuracy  CV_Acc_STD  \\\n",
       "Raw_token_NB       0.934414       0.564609     0.932161    0.000523   \n",
       "Token_NB           0.933513       0.561574     0.931269    0.000541   \n",
       "\n",
       "              CV_F1_score  \n",
       "Raw_token_NB     0.548922  \n",
       "Token_NB         0.546902  "
      ]
     },
     "execution_count": 58,
     "metadata": {},
     "output_type": "execute_result"
    }
   ],
   "source": [
    "model = MultinomialNB()\n",
    "model_label = 'Token_NB'\n",
    "X_train_arg = X_train_t\n",
    "X_test_arg = X_test_t\n",
    "\n",
    "model_score(model, X_train_arg, X_test_arg, y_train, y_test, score_df, model_label)\n",
    "cv_score(model, X_train_arg, y_train, model_label)\n",
    "score_df"
   ]
  },
  {
   "cell_type": "markdown",
   "metadata": {},
   "source": [
    "### All Bigrams"
   ]
  },
  {
   "cell_type": "code",
   "execution_count": 59,
   "metadata": {},
   "outputs": [
    {
     "name": "stdout",
     "output_type": "stream",
     "text": [
      "Wall time: 1min 27s\n"
     ]
    }
   ],
   "source": [
    "%%time\n",
    "X_train_bi, X_test_bi=  vect_trans(CountVectorizer(ngram_range=(1,2)), X_train, X_test)"
   ]
  },
  {
   "cell_type": "markdown",
   "metadata": {},
   "source": [
    "Naive Bayes"
   ]
  },
  {
   "cell_type": "code",
   "execution_count": 61,
   "metadata": {},
   "outputs": [
    {
     "name": "stdout",
     "output_type": "stream",
     "text": [
      "Train Accuracy : 0.9605151537733605\n",
      "Test Accuracy: 0.9484306237386343\n",
      "Test F1 score: 0.5147402092158727\n",
      "Test Accuracy Mean: 0.9405425336098666\n",
      "Test Accuracy STD: 0.00034472274054820435\n",
      "Test F1: 0.5050867545625731\n"
     ]
    },
    {
     "data": {
      "text/html": [
       "<div>\n",
       "<style scoped>\n",
       "    .dataframe tbody tr th:only-of-type {\n",
       "        vertical-align: middle;\n",
       "    }\n",
       "\n",
       "    .dataframe tbody tr th {\n",
       "        vertical-align: top;\n",
       "    }\n",
       "\n",
       "    .dataframe thead th {\n",
       "        text-align: right;\n",
       "    }\n",
       "</style>\n",
       "<table border=\"1\" class=\"dataframe\">\n",
       "  <thead>\n",
       "    <tr style=\"text-align: right;\">\n",
       "      <th></th>\n",
       "      <th>Test_Accuracy</th>\n",
       "      <th>Test_F1_score</th>\n",
       "      <th>CV_Accuracy</th>\n",
       "      <th>CV_Acc_STD</th>\n",
       "      <th>CV_F1_score</th>\n",
       "    </tr>\n",
       "  </thead>\n",
       "  <tbody>\n",
       "    <tr>\n",
       "      <th>Raw_token_NB</th>\n",
       "      <td>0.934414</td>\n",
       "      <td>0.564609</td>\n",
       "      <td>0.932161</td>\n",
       "      <td>0.000523</td>\n",
       "      <td>0.548922</td>\n",
       "    </tr>\n",
       "    <tr>\n",
       "      <th>Token_NB</th>\n",
       "      <td>0.933513</td>\n",
       "      <td>0.561574</td>\n",
       "      <td>0.931269</td>\n",
       "      <td>0.000541</td>\n",
       "      <td>0.546902</td>\n",
       "    </tr>\n",
       "    <tr>\n",
       "      <th>Bigram_NB</th>\n",
       "      <td>0.948431</td>\n",
       "      <td>0.514740</td>\n",
       "      <td>0.940543</td>\n",
       "      <td>0.000345</td>\n",
       "      <td>0.505087</td>\n",
       "    </tr>\n",
       "  </tbody>\n",
       "</table>\n",
       "</div>"
      ],
      "text/plain": [
       "              Test_Accuracy  Test_F1_score  CV_Accuracy  CV_Acc_STD  \\\n",
       "Raw_token_NB       0.934414       0.564609     0.932161    0.000523   \n",
       "Token_NB           0.933513       0.561574     0.931269    0.000541   \n",
       "Bigram_NB          0.948431       0.514740     0.940543    0.000345   \n",
       "\n",
       "              CV_F1_score  \n",
       "Raw_token_NB     0.548922  \n",
       "Token_NB         0.546902  \n",
       "Bigram_NB        0.505087  "
      ]
     },
     "execution_count": 61,
     "metadata": {},
     "output_type": "execute_result"
    }
   ],
   "source": [
    "model = MultinomialNB()\n",
    "model_label = 'Bigram_NB'\n",
    "X_train_arg = X_train_bi\n",
    "X_test_arg = X_test_bi\n",
    "\n",
    "model_score(model, X_train_arg, X_test_arg, y_train, y_test, score_df, model_label)\n",
    "cv_score(model, X_train_arg, y_train, model_label)\n",
    "score_df"
   ]
  },
  {
   "cell_type": "markdown",
   "metadata": {},
   "source": [
    "Random Forest"
   ]
  },
  {
   "cell_type": "code",
   "execution_count": null,
   "metadata": {},
   "outputs": [],
   "source": [
    "# %%time\n",
    "# model = RandomForestClassifier(n_estimators= 100, max_depth=20, n_jobs=-1)\n",
    "# model_label = 'Bigram_RF'\n",
    "\n",
    "\n",
    "# model_score(model, X_train_bi, X_test_bi, y_train, y_test, score_df, model_label)\n",
    "# cv_score(model, X_train_bi, y_train, model_label)\n",
    "# score_df"
   ]
  },
  {
   "cell_type": "code",
   "execution_count": null,
   "metadata": {},
   "outputs": [],
   "source": [
    "# score_df"
   ]
  },
  {
   "cell_type": "markdown",
   "metadata": {},
   "source": [
    "### Tri-gram"
   ]
  },
  {
   "cell_type": "code",
   "execution_count": 62,
   "metadata": {},
   "outputs": [
    {
     "name": "stdout",
     "output_type": "stream",
     "text": [
      "Wall time: 1min 44s\n"
     ]
    }
   ],
   "source": [
    "%%time\n",
    "X_train_tri, X_test_tri=  vect_trans(CountVectorizer(ngram_range=(1,3), stop_words=stopwords), X_train, X_test)"
   ]
  },
  {
   "cell_type": "markdown",
   "metadata": {},
   "source": [
    "Naive Bayes"
   ]
  },
  {
   "cell_type": "code",
   "execution_count": 66,
   "metadata": {},
   "outputs": [
    {
     "name": "stdout",
     "output_type": "stream",
     "text": [
      "Train Accuracy : 0.9877755103915818\n",
      "Test Accuracy: 0.9445718783208945\n",
      "Test F1 score: 0.2688159011028966\n",
      "Test Accuracy Mean: 0.9444206818481715\n",
      "Test Accuracy STD: 0.0003769540695862718\n",
      "Test F1: 0.5028029677561217\n"
     ]
    },
    {
     "data": {
      "text/html": [
       "<div>\n",
       "<style scoped>\n",
       "    .dataframe tbody tr th:only-of-type {\n",
       "        vertical-align: middle;\n",
       "    }\n",
       "\n",
       "    .dataframe tbody tr th {\n",
       "        vertical-align: top;\n",
       "    }\n",
       "\n",
       "    .dataframe thead th {\n",
       "        text-align: right;\n",
       "    }\n",
       "</style>\n",
       "<table border=\"1\" class=\"dataframe\">\n",
       "  <thead>\n",
       "    <tr style=\"text-align: right;\">\n",
       "      <th></th>\n",
       "      <th>Test_Accuracy</th>\n",
       "      <th>Test_F1_score</th>\n",
       "      <th>CV_Accuracy</th>\n",
       "      <th>CV_Acc_STD</th>\n",
       "      <th>CV_F1_score</th>\n",
       "    </tr>\n",
       "  </thead>\n",
       "  <tbody>\n",
       "    <tr>\n",
       "      <th>Raw_token_NB</th>\n",
       "      <td>0.934414</td>\n",
       "      <td>0.564609</td>\n",
       "      <td>0.932161</td>\n",
       "      <td>0.000523</td>\n",
       "      <td>0.548922</td>\n",
       "    </tr>\n",
       "    <tr>\n",
       "      <th>Token_NB</th>\n",
       "      <td>0.933513</td>\n",
       "      <td>0.561574</td>\n",
       "      <td>0.931269</td>\n",
       "      <td>0.000541</td>\n",
       "      <td>0.546902</td>\n",
       "    </tr>\n",
       "    <tr>\n",
       "      <th>Bigram_NB</th>\n",
       "      <td>0.948431</td>\n",
       "      <td>0.514740</td>\n",
       "      <td>0.940543</td>\n",
       "      <td>0.000345</td>\n",
       "      <td>0.505087</td>\n",
       "    </tr>\n",
       "    <tr>\n",
       "      <th>Trigram_NB</th>\n",
       "      <td>0.944572</td>\n",
       "      <td>0.268816</td>\n",
       "      <td>0.944421</td>\n",
       "      <td>0.000377</td>\n",
       "      <td>0.502803</td>\n",
       "    </tr>\n",
       "  </tbody>\n",
       "</table>\n",
       "</div>"
      ],
      "text/plain": [
       "              Test_Accuracy  Test_F1_score  CV_Accuracy  CV_Acc_STD  \\\n",
       "Raw_token_NB       0.934414       0.564609     0.932161    0.000523   \n",
       "Token_NB           0.933513       0.561574     0.931269    0.000541   \n",
       "Bigram_NB          0.948431       0.514740     0.940543    0.000345   \n",
       "Trigram_NB         0.944572       0.268816     0.944421    0.000377   \n",
       "\n",
       "              CV_F1_score  \n",
       "Raw_token_NB     0.548922  \n",
       "Token_NB         0.546902  \n",
       "Bigram_NB        0.505087  \n",
       "Trigram_NB       0.502803  "
      ]
     },
     "execution_count": 66,
     "metadata": {},
     "output_type": "execute_result"
    }
   ],
   "source": [
    "model = MultinomialNB()\n",
    "model_label = 'Trigram_NB'\n",
    "X_train_arg = X_train_tri\n",
    "X_test_arg = X_test_tri\n",
    "\n",
    "model_score(model, X_train_arg, X_test_arg, y_train, y_test, score_df, model_label)\n",
    "cv_score(model, X_train_arg, y_train, model_label)\n",
    "score_df"
   ]
  },
  {
   "cell_type": "markdown",
   "metadata": {},
   "source": [
    "Random Forest"
   ]
  },
  {
   "cell_type": "code",
   "execution_count": null,
   "metadata": {},
   "outputs": [],
   "source": [
    "# %%time\n",
    "# model = RandomForestClassifier(n_estimators= 100, max_depth=20, n_jobs=-1)\n",
    "# model_label = 'Trigram_RF'\n",
    "\n",
    "# model_score(model, X_train_tri, X_test_tri, y_train, y_test, score_df, model_label)\n",
    "# cv_score(model, X_train_tri, y_train, model_label)\n"
   ]
  },
  {
   "cell_type": "code",
   "execution_count": null,
   "metadata": {},
   "outputs": [],
   "source": [
    "# score_df"
   ]
  },
  {
   "cell_type": "markdown",
   "metadata": {},
   "source": [
    "### GridSearch min/max df"
   ]
  },
  {
   "cell_type": "code",
   "execution_count": null,
   "metadata": {},
   "outputs": [],
   "source": [
    "# params = {'CV__max_df':(1.0, 0.9),\n",
    "#        'CV__min_df': (1, 2, 0.01, 0.02),\n",
    "#         'CV__ngram_range':((1,1), (1,2), (1,3))}\n",
    "\n",
    "# gridcv(pipeCVNB, X_train, y_train, params)"
   ]
  },
  {
   "cell_type": "code",
   "execution_count": null,
   "metadata": {},
   "outputs": [],
   "source": [
    "# %%time\n",
    "# X_train_t, X_test_t=  vect_trans(CountVectorizer(max_df=1.0, min_df=1, ngram_range=(1,2), \n",
    "#                                                     stop_words=stopwords), X_train, X_test)"
   ]
  },
  {
   "cell_type": "code",
   "execution_count": null,
   "metadata": {},
   "outputs": [],
   "source": [
    "# model = MultinomialNB()\n",
    "# model_label = 'Grid_DFNB'\n",
    "\n",
    "# model_score(model, X_train_t, X_test_t, y_train, y_test, score_df, model_label)\n",
    "# cv_score(model, X_train_t, y_train, model_label)\n",
    "# score_df"
   ]
  },
  {
   "cell_type": "markdown",
   "metadata": {},
   "source": [
    "### TFIDF"
   ]
  },
  {
   "cell_type": "code",
   "execution_count": 67,
   "metadata": {},
   "outputs": [],
   "source": [
    "X_train_tf_t, X_test_tf_t = vect_trans(TfidfTransformer(), X_train_t, X_test_t)"
   ]
  },
  {
   "cell_type": "code",
   "execution_count": 68,
   "metadata": {},
   "outputs": [
    {
     "name": "stdout",
     "output_type": "stream",
     "text": [
      "Train Accuracy : 0.9421003255440281\n",
      "Test Accuracy: 0.9408172577795064\n",
      "Test F1 score: 0.11022606934020904\n",
      "Test Accuracy Mean: 0.9397738446164585\n",
      "Test Accuracy STD: 0.00017236565380319963\n",
      "Test F1: 0.0821610873024041\n"
     ]
    },
    {
     "data": {
      "text/html": [
       "<div>\n",
       "<style scoped>\n",
       "    .dataframe tbody tr th:only-of-type {\n",
       "        vertical-align: middle;\n",
       "    }\n",
       "\n",
       "    .dataframe tbody tr th {\n",
       "        vertical-align: top;\n",
       "    }\n",
       "\n",
       "    .dataframe thead th {\n",
       "        text-align: right;\n",
       "    }\n",
       "</style>\n",
       "<table border=\"1\" class=\"dataframe\">\n",
       "  <thead>\n",
       "    <tr style=\"text-align: right;\">\n",
       "      <th></th>\n",
       "      <th>Test_Accuracy</th>\n",
       "      <th>Test_F1_score</th>\n",
       "      <th>CV_Accuracy</th>\n",
       "      <th>CV_Acc_STD</th>\n",
       "      <th>CV_F1_score</th>\n",
       "    </tr>\n",
       "  </thead>\n",
       "  <tbody>\n",
       "    <tr>\n",
       "      <th>Raw_token_NB</th>\n",
       "      <td>0.934414</td>\n",
       "      <td>0.564609</td>\n",
       "      <td>0.932161</td>\n",
       "      <td>0.000523</td>\n",
       "      <td>0.548922</td>\n",
       "    </tr>\n",
       "    <tr>\n",
       "      <th>Token_NB</th>\n",
       "      <td>0.933513</td>\n",
       "      <td>0.561574</td>\n",
       "      <td>0.931269</td>\n",
       "      <td>0.000541</td>\n",
       "      <td>0.546902</td>\n",
       "    </tr>\n",
       "    <tr>\n",
       "      <th>Bigram_NB</th>\n",
       "      <td>0.948431</td>\n",
       "      <td>0.514740</td>\n",
       "      <td>0.940543</td>\n",
       "      <td>0.000345</td>\n",
       "      <td>0.505087</td>\n",
       "    </tr>\n",
       "    <tr>\n",
       "      <th>Trigram_NB</th>\n",
       "      <td>0.944572</td>\n",
       "      <td>0.268816</td>\n",
       "      <td>0.944421</td>\n",
       "      <td>0.000377</td>\n",
       "      <td>0.502803</td>\n",
       "    </tr>\n",
       "    <tr>\n",
       "      <th>Tfidf_t_NB</th>\n",
       "      <td>0.940817</td>\n",
       "      <td>0.110226</td>\n",
       "      <td>0.939774</td>\n",
       "      <td>0.000172</td>\n",
       "      <td>0.082161</td>\n",
       "    </tr>\n",
       "  </tbody>\n",
       "</table>\n",
       "</div>"
      ],
      "text/plain": [
       "              Test_Accuracy  Test_F1_score  CV_Accuracy  CV_Acc_STD  \\\n",
       "Raw_token_NB       0.934414       0.564609     0.932161    0.000523   \n",
       "Token_NB           0.933513       0.561574     0.931269    0.000541   \n",
       "Bigram_NB          0.948431       0.514740     0.940543    0.000345   \n",
       "Trigram_NB         0.944572       0.268816     0.944421    0.000377   \n",
       "Tfidf_t_NB         0.940817       0.110226     0.939774    0.000172   \n",
       "\n",
       "              CV_F1_score  \n",
       "Raw_token_NB     0.548922  \n",
       "Token_NB         0.546902  \n",
       "Bigram_NB        0.505087  \n",
       "Trigram_NB       0.502803  \n",
       "Tfidf_t_NB       0.082161  "
      ]
     },
     "execution_count": 68,
     "metadata": {},
     "output_type": "execute_result"
    }
   ],
   "source": [
    "model = MultinomialNB()\n",
    "model_label = 'Tfidf_t_NB'\n",
    "\n",
    "model_score(model, X_train_tf_t , X_test_tf_t, y_train, y_test, score_df, model_label)\n",
    "cv_score(model, X_train_tf_t, y_train, model_label)\n",
    "score_df"
   ]
  },
  {
   "cell_type": "code",
   "execution_count": 69,
   "metadata": {},
   "outputs": [
    {
     "name": "stdout",
     "output_type": "stream",
     "text": [
      "train score: 0.9421003255440281\n",
      "test score: 0.9408172577795064\n"
     ]
    }
   ],
   "source": [
    "nb = MultinomialNB()\n",
    "nb.fit(X_train_tf_t, y_train)  \n",
    "test_score =  nb.score(X_test_tf_t, y_test)\n",
    "print('train score:', nb.score(X_train_tf_t, y_train))\n",
    "print('test score:', test_score)\n",
    "y_pred = nb.predict(X_test_tf_t)"
   ]
  },
  {
   "cell_type": "code",
   "execution_count": 70,
   "metadata": {},
   "outputs": [
    {
     "name": "stdout",
     "output_type": "stream",
     "text": [
      "0.11022606934020904\n",
      "0.5398083587649309\n",
      "0.9408172577795064\n",
      "0.9162327489810163\n"
     ]
    },
    {
     "data": {
      "text/plain": [
       "array([[306009,    319],\n",
       "       [ 19006,   1197]], dtype=int64)"
      ]
     },
     "execution_count": 70,
     "metadata": {},
     "output_type": "execute_result"
    }
   ],
   "source": [
    "print(f1_score(y_test, y_pred) )\n",
    "print(f1_score(y_test, y_pred, average='macro') )\n",
    "print(f1_score(y_test, y_pred, average='micro') )\n",
    "print(f1_score(y_test, y_pred, average='weighted') )\n",
    "confusion_matrix(y_test, y_pred)"
   ]
  },
  {
   "cell_type": "code",
   "execution_count": null,
   "metadata": {},
   "outputs": [],
   "source": []
  },
  {
   "cell_type": "markdown",
   "metadata": {},
   "source": [
    "### NLTK Best Bigrams"
   ]
  },
  {
   "cell_type": "code",
   "execution_count": 71,
   "metadata": {},
   "outputs": [],
   "source": [
    "# recreate text using ngrams\n",
    "def ngram_to_corpus(data, ngram_list, n):\n",
    "#     ngram_list = set({('let', 'us'), ('as', 'soon')})  # {('let', 'us'), ('as', 'soon')}\n",
    "#     tokens = ['please', 'let', 'us', 'know', 'as', 'soon', 'as', 'possible']\n",
    "    new_data = []\n",
    "    for text in data:\n",
    "        tokens = nltk.word_tokenize(text)\n",
    "        output = []\n",
    "        q_iter = iter(range(len(tokens)))\n",
    "        \n",
    "        for idx in q_iter:\n",
    "            output.append(tokens[idx])\n",
    "            if n == 2:\n",
    "                if idx < (len(tokens) - 1) and (tokens[idx], tokens[idx+1]) in ngram_list:\n",
    "                    output[-1] += '_' + tokens[idx+1]\n",
    "                    next(q_iter)\n",
    "            elif n == 3:\n",
    "                if idx < (len(tokens) - 2) and (tokens[idx], tokens[idx+1], tokens[idx+2] ) in ngram_list:\n",
    "                    output[-1] += '_' + tokens[idx+1] + '_' + tokens[idx+2]\n",
    "                    next(q_iter)\n",
    "                    next(q_iter)\n",
    "        new_data.append( ' '.join(output))\n",
    "\n",
    "    return new_data"
   ]
  },
  {
   "cell_type": "code",
   "execution_count": 72,
   "metadata": {},
   "outputs": [
    {
     "name": "stdout",
     "output_type": "stream",
     "text": [
      "Wall time: 2min 47s\n"
     ]
    }
   ],
   "source": [
    "%%time\n",
    "# create one list of all question tokens\n",
    "full_text = []\n",
    "\n",
    "for text in X_train:\n",
    "    full_text += [w for w in nltk.word_tokenize(text) if w not in stopwords]"
   ]
  },
  {
   "cell_type": "code",
   "execution_count": 73,
   "metadata": {},
   "outputs": [
    {
     "data": {
      "text/plain": [
       "6223173"
      ]
     },
     "execution_count": 73,
     "metadata": {},
     "output_type": "execute_result"
    }
   ],
   "source": [
    "len(full_text)"
   ]
  },
  {
   "cell_type": "code",
   "execution_count": 75,
   "metadata": {},
   "outputs": [
    {
     "name": "stdout",
     "output_type": "stream",
     "text": [
      "[('united', 'states'), ('best', 'way'), ('donald', 'trump'), ('year', 'old'), ('computer', 'science'), ('even', 'though'), ('high', 'school'), ('would', 'happen'), ('social', 'media'), ('north', 'korea'), ('pros', 'cons'), ('get', 'rid'), ('major', 'accomplishments'), ('jee', 'mains'), ('look', 'like'), ('would', 'win'), ('new', 'york'), ('machine', 'learning'), ('harry', 'potter'), ('years', 'old'), ('real', 'estate'), ('long', 'take'), ('saudi', 'arabia'), ('feel', 'like'), ('star', 'wars'), ('ssc', 'cgl'), ('mechanical', 'engineering'), ('elon', 'musk'), ('tv', 'show'), ('hillary', 'clinton'), ('hong', 'kong'), ('tamil', 'nadu'), ('president', 'trump'), ('useful', 'tips'), ('san', 'francisco'), ('different', 'types'), ('hotels', 'short-term'), ('artificial', 'intelligence'), ('prime', 'minister'), ('years', 'ago'), ('literary', 'devices'), ('tv', 'series'), ('credit', 'card'), ('narendra', 'modi'), ('many', 'people'), ('digital', 'marketing'), ('new', 'zealand'), ('los', 'angeles'), ('win', 'fight'), ('long', 'term'), ('someone', 'else'), ('get', 'job'), ('middle', 'east'), ('stock', 'market'), ('jee', 'advanced'), ('earn', 'money'), ('civil', 'engineering'), ('mental', 'illness'), ('lose', 'weight'), ('make', 'money'), ('vice', 'versa'), ('advantages', 'disadvantages'), ('real', 'life'), ('much', 'money'), ('black', 'hole'), ('chances', 'getting'), ('trump', 'supporters'), ('programming', 'language'), ('youtube', 'channel'), ('south', 'korea'), ('south', 'africa'), ('get', 'admission'), ('best', 'ways'), ('take', 'consideration'), ('global', 'warming'), ('west', 'bengal'), ('entrance', 'exam'), ('software', 'engineer'), ('silicon', 'valley'), ('game', 'thrones')]\n",
      "Wall time: 53.3 s\n"
     ]
    }
   ],
   "source": [
    "%%time\n",
    "# create bigram vocabulary\n",
    "bigram_measures = collocations.BigramAssocMeasures()\n",
    "\n",
    "finder = nltk.BigramCollocationFinder.from_words(full_text)\n",
    "# scored = finder.score_ngrams( bigram_measures.likelihood_ratio  )\n",
    "bigram_vocab = finder.nbest(bigram_measures.likelihood_ratio, 80)\n",
    "print(bigram_vocab)"
   ]
  },
  {
   "cell_type": "code",
   "execution_count": 76,
   "metadata": {},
   "outputs": [
    {
     "name": "stdout",
     "output_type": "stream",
     "text": [
      "[('jiu', 'jitsu'), ('muhoozi', 'kainerugaba'), ('neman', 'ashraf'), ('roald', 'dahl'), ('rudyard', 'kipling'), ('michio', 'kaku'), ('avada', 'kedavra'), ('aam', 'aadmi'), ('buenos', 'aires'), ('jaggi', 'vasudev'), ('disha', 'patani'), ('deng', 'xiaoping'), ('ronda', 'rousey'), ('abercrombie', 'fitch'), ('zaira', 'wasim'), ('endoplasmic', 'reticulum'), ('nathuram', 'godse'), ('sushma', 'swaraj'), ('jiang', 'zemin'), ('vande', 'mataram'), ('meryl', 'streep'), ('pakatan', 'harapan'), ('asim', 'qureshi'), ('sylvia', 'plath'), ('lata', 'mangeshkar'), ('dima', 'vorobiev'), ('kalpit', 'veerwal'), ('sindhu', 'satish'), ('pradhan', 'mantri'), ('aldous', 'huxley'), ('narsee', 'monjee'), ('ulcerative', 'colitis'), ('gauri', 'lankesh'), ('hadron', 'collider'), ('ballon', \"d'or\"), ('mitt', 'romney'), ('petyr', 'baelish'), ('shel', 'silverstein'), ('khaled', 'hosseini'), ('sourav', 'ganguly'), ('satoshi', 'nakamoto'), ('tubal', 'ligation'), ('satya', 'nadella'), ('agatha', 'christie'), ('klux', 'klan'), ('nigel', 'farage'), ('lingua', 'franca'), ('jules', 'verne'), ('jimi', 'hendrix'), ('smriti', 'irani'), ('raghuram', 'rajan'), ('shweta', 'shalini'), ('yoko', 'ono'), ('snoop', 'dogg'), ('winnie', 'pooh'), ('forrest', 'gump'), ('scarlett', 'johansson'), ('nicki', 'minaj'), ('magna', 'carta'), ('shinzo', 'abe'), ('hrithik', 'roshan'), ('stony', 'brook'), ('trinidad', 'tobago'), ('dushka', 'zapata'), ('nath', 'kovind'), ('rudy', 'giuliani'), ('kendriya', 'vidyalaya'), ('notre', 'dame'), ('des', 'moines'), ('hafiz', 'saeed'), ('barkha', 'dutt'), ('chester', 'bennington'), ('falun', 'gong'), ('che', 'guevara'), ('rabindranath', 'tagore'), ('vinay', 'kumaran'), ('arsene', 'wenger'), ('reza', 'pahlavi'), ('granth', 'sahib'), ('mustafa', 'kemal'), ('dawood', 'ibrahim'), ('ajit', 'pai'), ('sergey', 'brin'), ('ravindrababu', 'ravula'), ('tsar', 'bomba'), ('waldo', 'emerson'), ('kendrick', 'lamar'), ('mein', 'kampf'), ('elke', 'weiss'), ('sandeep', 'maheshwari'), ('looney', 'tunes'), ('lois', 'lowry'), ('ku', 'klux'), ('kellyanne', 'conway'), ('britney', 'spears'), ('milo', 'yiannopoulos'), ('magnus', 'carlsen'), ('mace', 'windu'), ('deathly', 'hallows'), ('alia', 'bhatt'), ('spongebob', 'squarepants'), ('kyrie', 'irving'), ('kj', 'somaiya'), ('acm', 'icpc'), ('tel', 'aviv'), ('lex', 'luthor'), ('hannibal', 'lecter'), ('nawaz', 'sharif'), ('boba', 'fett'), ('aurora', 'borealis'), ('krav', 'maga'), ('terence', 'tao'), ('zack', 'snyder'), ('bashar', 'al-assad'), ('dalai', 'lama'), ('brock', 'lesnar'), ('noam', 'chomsky'), ('zakir', 'naik'), ('fullmetal', 'alchemist'), ('hans', 'zimmer'), ('hugh', 'hefner'), ('muammar', 'gaddafi'), ('sundar', 'pichai'), ('stephenie', 'meyer'), ('ku', 'leuven'), ('berkshire', 'hathaway'), ('chiang', 'mai'), ('fidel', 'castro'), ('kung', 'fu'), ('travis', 'kalanick'), ('subramanian', 'swamy'), ('miley', 'cyrus'), ('burj', 'khalifa'), ('shashi', 'tharoor'), ('catcher', 'rye'), ('oprah', 'winfrey'), ('karni', 'sena'), ('paulo', 'coelho'), ('ralph', 'waldo'), ('kurt', 'cobain'), ('peyton', 'manning'), ('bosnia', 'herzegovina'), ('moderated', 'caucus'), ('otto', 'warmbier'), ('ariana', 'grande'), ('dhinchak', 'pooja'), ('shin', 'splints'), ('coca', 'cola'), ('mitch', 'mcconnell'), ('ivan', 'tregear'), ('truman', 'capote'), ('selena', 'gomez'), ('solitary', 'confinement'), ('monte', 'carlo'), ('andaman', 'nicobar'), ('majin', 'buu'), ('bunsen', 'burner'), ('consiglio', 'devastations'), ('habib', 'fanny'), ('kulbhushan', 'jadhav'), ('tipu', 'sultan'), ('brad', 'pitt'), ('netaji', 'subhash'), ('jill', 'stein'), ('aishwarya', 'rai'), ('ping', 'pong'), ('dennis', 'rodman'), ('julian', 'assange'), ('euron', 'greyjoy'), ('martian', 'manhunter'), ('deepika', 'padukone'), ('conor', 'mcgregor'), ('babe', 'ruth'), ('dy', 'patil'), ('katrina', 'kaif'), ('amitabh', 'bachchan'), ('arnab', 'goswami'), ('nova', 'scotia'), ('arun', 'jaitley'), ('maya', 'angelou'), ('en', 'masse'), ('pawan', 'kalyan'), ('nikki', 'haley'), ('sergei', 'skripal'), ('marilyn', 'monroe'), ('palo', 'alto'), ('bharati', 'vidyapeeth'), ('sigmund', 'freud'), ('ayn', 'rand'), ('dunkin', 'donuts'), ('millia', 'islamia'), ('déjà', 'vu'), ('buzz', 'aldrin'), ('degrasse', 'tyson'), ('inguinal', 'hernia'), ('ellen', 'degeneres'), ('rachel', 'maddow'), ('deja', 'vu'), ('alfie', 'evans'), ('são', 'paulo')]\n",
      "Wall time: 20.4 s\n"
     ]
    }
   ],
   "source": [
    "%%time\n",
    "# create bigram vocabulary\n",
    "bigram_measures = collocations.BigramAssocMeasures()\n",
    "\n",
    "\n",
    "finder3 = nltk.BigramCollocationFinder.from_words(full_text)\n",
    "finder3.apply_freq_filter(10)\n",
    "finder3.apply_word_filter(lambda x: x in stopwords)\n",
    "best_pmi = finder3.nbest(bigram_measures.pmi, 200)\n",
    "print(best_pmi)"
   ]
  },
  {
   "cell_type": "code",
   "execution_count": null,
   "metadata": {},
   "outputs": [],
   "source": []
  },
  {
   "cell_type": "code",
   "execution_count": 77,
   "metadata": {},
   "outputs": [
    {
     "name": "stdout",
     "output_type": "stream",
     "text": [
      "[('united', 'states', 'america'), ('president', 'united', 'states'), ('united', 'states', 'india'), ('states', 'united', 'states'), ('history', 'united', 'states'), ('united', 'states', 'constitution'), ('united', 'states', 'government'), ('united', 'states', 'matter'), ('united', 'states', 'like'), ('united', 'states', 'army'), ('united', 'states', 'us'), ('united', 'states', 'usa'), ('united', 'states', 'united'), ('south', 'united', 'states'), ('coast', 'united', 'states'), ('canada', 'united', 'states'), ('united', 'states', 'military'), ('united', 'states', 'marine'), ('outside', 'united', 'states'), ('happen', 'united', 'states')]\n",
      "Wall time: 8min 53s\n"
     ]
    }
   ],
   "source": [
    "%%time\n",
    "# create trigram vocabulary\n",
    "trigram_measures = collocations.TrigramAssocMeasures()\n",
    "finder = nltk.TrigramCollocationFinder.from_words(full_text)\n",
    "trigram_vocab = finder.nbest(trigram_measures.likelihood_ratio, 20)\n",
    "print(trigram_vocab)"
   ]
  },
  {
   "cell_type": "code",
   "execution_count": 78,
   "metadata": {},
   "outputs": [
    {
     "name": "stdout",
     "output_type": "stream",
     "text": [
      "Wall time: 4min 5s\n"
     ]
    }
   ],
   "source": [
    "%%time\n",
    "# create text with bigram replacement\n",
    "train['bigram_question_lkhd'] = ngram_to_corpus(clean_questions, bigram_vocab, 2)"
   ]
  },
  {
   "cell_type": "code",
   "execution_count": 79,
   "metadata": {},
   "outputs": [
    {
     "name": "stdout",
     "output_type": "stream",
     "text": [
      "Wall time: 7min 37s\n"
     ]
    }
   ],
   "source": [
    "%%time\n",
    "# create text with both tri and bigram in text, by applying trigram first\n",
    "train['trigram_question_lkhd'] = ngram_to_corpus(clean_questions, trigram_vocab, 3)\n",
    "train['trigram_question_lkhd'] = ngram_to_corpus(train['trigram_question_lkhd'], bigram_vocab, 2)"
   ]
  },
  {
   "cell_type": "code",
   "execution_count": 80,
   "metadata": {},
   "outputs": [
    {
     "data": {
      "text/plain": [
       "array(['how i know whether a girl had done sex before sex with me ?',\n",
       "       'how do i become a fast learner both in my professional career and in my personal life ?',\n",
       "       'has the united_states become the largest dictatorship in the world ?',\n",
       "       'what is the strangest phenomenon you know of , have witnessed or have generated in the area of electronics that has no explanation in terms of modern physics ?',\n",
       "       'should i leave my friends and find new ones ?'], dtype=object)"
      ]
     },
     "execution_count": 80,
     "metadata": {},
     "output_type": "execute_result"
    }
   ],
   "source": [
    "train['trigram_question_lkhd'][20:25].values"
   ]
  },
  {
   "cell_type": "code",
   "execution_count": 81,
   "metadata": {},
   "outputs": [],
   "source": [
    "X = train[['bigram_question_lkhd','trigram_question_lkhd']]\n",
    "y = train.target"
   ]
  },
  {
   "cell_type": "code",
   "execution_count": 82,
   "metadata": {},
   "outputs": [],
   "source": [
    "X_train, X_test, y_train, y_test = train_test_split(X, y, stratify=y, random_state=495, test_size=0.2)"
   ]
  },
  {
   "cell_type": "code",
   "execution_count": 83,
   "metadata": {},
   "outputs": [
    {
     "data": {
      "text/plain": [
       "1044897"
      ]
     },
     "execution_count": 83,
     "metadata": {},
     "output_type": "execute_result"
    }
   ],
   "source": [
    "len(X_train)"
   ]
  },
  {
   "cell_type": "code",
   "execution_count": 84,
   "metadata": {},
   "outputs": [
    {
     "data": {
      "text/html": [
       "<div>\n",
       "<style scoped>\n",
       "    .dataframe tbody tr th:only-of-type {\n",
       "        vertical-align: middle;\n",
       "    }\n",
       "\n",
       "    .dataframe tbody tr th {\n",
       "        vertical-align: top;\n",
       "    }\n",
       "\n",
       "    .dataframe thead th {\n",
       "        text-align: right;\n",
       "    }\n",
       "</style>\n",
       "<table border=\"1\" class=\"dataframe\">\n",
       "  <thead>\n",
       "    <tr style=\"text-align: right;\">\n",
       "      <th></th>\n",
       "      <th>bigram_question_lkhd</th>\n",
       "      <th>trigram_question_lkhd</th>\n",
       "    </tr>\n",
       "  </thead>\n",
       "  <tbody>\n",
       "    <tr>\n",
       "      <th>1077331</th>\n",
       "      <td>what is the procedure of officially changing n...</td>\n",
       "      <td>what is the procedure of officially changing n...</td>\n",
       "    </tr>\n",
       "    <tr>\n",
       "      <th>334276</th>\n",
       "      <td>what is the ancient egypt polytheism ?</td>\n",
       "      <td>what is the ancient egypt polytheism ?</td>\n",
       "    </tr>\n",
       "    <tr>\n",
       "      <th>620299</th>\n",
       "      <td>whenever i put on the blood pressure monitor ,...</td>\n",
       "      <td>whenever i put on the blood pressure monitor ,...</td>\n",
       "    </tr>\n",
       "    <tr>\n",
       "      <th>1098236</th>\n",
       "      <td>how does the ego react to suicide ?</td>\n",
       "      <td>how does the ego react to suicide ?</td>\n",
       "    </tr>\n",
       "    <tr>\n",
       "      <th>548923</th>\n",
       "      <td>how do i join tcs as a fresher if i missed off...</td>\n",
       "      <td>how do i join tcs as a fresher if i missed off...</td>\n",
       "    </tr>\n",
       "  </tbody>\n",
       "</table>\n",
       "</div>"
      ],
      "text/plain": [
       "                                      bigram_question_lkhd  \\\n",
       "1077331  what is the procedure of officially changing n...   \n",
       "334276              what is the ancient egypt polytheism ?   \n",
       "620299   whenever i put on the blood pressure monitor ,...   \n",
       "1098236                how does the ego react to suicide ?   \n",
       "548923   how do i join tcs as a fresher if i missed off...   \n",
       "\n",
       "                                     trigram_question_lkhd  \n",
       "1077331  what is the procedure of officially changing n...  \n",
       "334276              what is the ancient egypt polytheism ?  \n",
       "620299   whenever i put on the blood pressure monitor ,...  \n",
       "1098236                how does the ego react to suicide ?  \n",
       "548923   how do i join tcs as a fresher if i missed off...  "
      ]
     },
     "execution_count": 84,
     "metadata": {},
     "output_type": "execute_result"
    }
   ],
   "source": [
    "X_train.head()"
   ]
  },
  {
   "cell_type": "markdown",
   "metadata": {},
   "source": [
    "#### Bigram Model"
   ]
  },
  {
   "cell_type": "code",
   "execution_count": 85,
   "metadata": {},
   "outputs": [],
   "source": [
    "# model using bigram text\n",
    "X_train_bi, X_test_bi =  vect_trans(CountVectorizer(max_df=1.0,  min_df=1, ngram_range=(1,1), stop_words=stopwords),\n",
    "                                   X_train.bigram_question_lkhd, X_test.bigram_question_lkhd,)\n",
    "\n"
   ]
  },
  {
   "cell_type": "code",
   "execution_count": 87,
   "metadata": {},
   "outputs": [
    {
     "name": "stdout",
     "output_type": "stream",
     "text": [
      "Train Accuracy : 0.9380359978064824\n",
      "Test Accuracy: 0.9372724662647143\n",
      "Test F1 score: 0.5531253408966947\n",
      "Test Accuracy Mean: 0.9327885912694457\n",
      "Test Accuracy STD: 0.0004463320545615013\n",
      "Test F1: 0.5290648950920555\n"
     ]
    },
    {
     "data": {
      "text/html": [
       "<div>\n",
       "<style scoped>\n",
       "    .dataframe tbody tr th:only-of-type {\n",
       "        vertical-align: middle;\n",
       "    }\n",
       "\n",
       "    .dataframe tbody tr th {\n",
       "        vertical-align: top;\n",
       "    }\n",
       "\n",
       "    .dataframe thead th {\n",
       "        text-align: right;\n",
       "    }\n",
       "</style>\n",
       "<table border=\"1\" class=\"dataframe\">\n",
       "  <thead>\n",
       "    <tr style=\"text-align: right;\">\n",
       "      <th></th>\n",
       "      <th>Test_Accuracy</th>\n",
       "      <th>Test_F1_score</th>\n",
       "      <th>CV_Accuracy</th>\n",
       "      <th>CV_Acc_STD</th>\n",
       "      <th>CV_F1_score</th>\n",
       "    </tr>\n",
       "  </thead>\n",
       "  <tbody>\n",
       "    <tr>\n",
       "      <th>Raw_token_NB</th>\n",
       "      <td>0.934414</td>\n",
       "      <td>0.564609</td>\n",
       "      <td>0.932161</td>\n",
       "      <td>0.000523</td>\n",
       "      <td>0.548922</td>\n",
       "    </tr>\n",
       "    <tr>\n",
       "      <th>Token_NB</th>\n",
       "      <td>0.933513</td>\n",
       "      <td>0.561574</td>\n",
       "      <td>0.931269</td>\n",
       "      <td>0.000541</td>\n",
       "      <td>0.546902</td>\n",
       "    </tr>\n",
       "    <tr>\n",
       "      <th>Bigram_NB</th>\n",
       "      <td>0.948431</td>\n",
       "      <td>0.514740</td>\n",
       "      <td>0.940543</td>\n",
       "      <td>0.000345</td>\n",
       "      <td>0.505087</td>\n",
       "    </tr>\n",
       "    <tr>\n",
       "      <th>Trigram_NB</th>\n",
       "      <td>0.944572</td>\n",
       "      <td>0.268816</td>\n",
       "      <td>0.944421</td>\n",
       "      <td>0.000377</td>\n",
       "      <td>0.502803</td>\n",
       "    </tr>\n",
       "    <tr>\n",
       "      <th>Tfidf_t_NB</th>\n",
       "      <td>0.940817</td>\n",
       "      <td>0.110226</td>\n",
       "      <td>0.939774</td>\n",
       "      <td>0.000172</td>\n",
       "      <td>0.082161</td>\n",
       "    </tr>\n",
       "    <tr>\n",
       "      <th>Bigram_best_NB</th>\n",
       "      <td>0.937272</td>\n",
       "      <td>0.553125</td>\n",
       "      <td>0.932789</td>\n",
       "      <td>0.000446</td>\n",
       "      <td>0.529065</td>\n",
       "    </tr>\n",
       "  </tbody>\n",
       "</table>\n",
       "</div>"
      ],
      "text/plain": [
       "                Test_Accuracy  Test_F1_score  CV_Accuracy  CV_Acc_STD  \\\n",
       "Raw_token_NB         0.934414       0.564609     0.932161    0.000523   \n",
       "Token_NB             0.933513       0.561574     0.931269    0.000541   \n",
       "Bigram_NB            0.948431       0.514740     0.940543    0.000345   \n",
       "Trigram_NB           0.944572       0.268816     0.944421    0.000377   \n",
       "Tfidf_t_NB           0.940817       0.110226     0.939774    0.000172   \n",
       "Bigram_best_NB       0.937272       0.553125     0.932789    0.000446   \n",
       "\n",
       "                CV_F1_score  \n",
       "Raw_token_NB       0.548922  \n",
       "Token_NB           0.546902  \n",
       "Bigram_NB          0.505087  \n",
       "Trigram_NB         0.502803  \n",
       "Tfidf_t_NB         0.082161  \n",
       "Bigram_best_NB     0.529065  "
      ]
     },
     "execution_count": 87,
     "metadata": {},
     "output_type": "execute_result"
    }
   ],
   "source": [
    "model = MultinomialNB()\n",
    "model_label = 'Bigram_best_NB'\n",
    "\n",
    "model_score(model, X_train_bi, X_test_bi, y_train, y_test, score_df, model_label)\n",
    "cv_score(model, X_train_bi, y_train, model_label)\n",
    "score_df"
   ]
  },
  {
   "cell_type": "markdown",
   "metadata": {},
   "source": [
    "#### Trigram Model"
   ]
  },
  {
   "cell_type": "code",
   "execution_count": 88,
   "metadata": {},
   "outputs": [],
   "source": [
    "# model using bigram text\n",
    "X_train_tri, X_test_tri =  vect_trans(CountVectorizer(max_df=1.0,  min_df=1, ngram_range=(1,1), stop_words=stopwords),\n",
    "                                   X_train.trigram_question_lkhd, X_test.trigram_question_lkhd)\n",
    "\n"
   ]
  },
  {
   "cell_type": "code",
   "execution_count": 90,
   "metadata": {},
   "outputs": [
    {
     "name": "stdout",
     "output_type": "stream",
     "text": [
      "Train Accuracy : 0.9380369548386109\n",
      "Test Accuracy: 0.9372686381471911\n",
      "Test F1 score: 0.5531102566200333\n",
      "Test Accuracy Mean: 0.9327838060950644\n",
      "Test Accuracy STD: 0.00044240760698066844\n",
      "Test F1: 0.5290408100038101\n"
     ]
    },
    {
     "data": {
      "text/html": [
       "<div>\n",
       "<style scoped>\n",
       "    .dataframe tbody tr th:only-of-type {\n",
       "        vertical-align: middle;\n",
       "    }\n",
       "\n",
       "    .dataframe tbody tr th {\n",
       "        vertical-align: top;\n",
       "    }\n",
       "\n",
       "    .dataframe thead th {\n",
       "        text-align: right;\n",
       "    }\n",
       "</style>\n",
       "<table border=\"1\" class=\"dataframe\">\n",
       "  <thead>\n",
       "    <tr style=\"text-align: right;\">\n",
       "      <th></th>\n",
       "      <th>Test_Accuracy</th>\n",
       "      <th>Test_F1_score</th>\n",
       "      <th>CV_Accuracy</th>\n",
       "      <th>CV_Acc_STD</th>\n",
       "      <th>CV_F1_score</th>\n",
       "    </tr>\n",
       "  </thead>\n",
       "  <tbody>\n",
       "    <tr>\n",
       "      <th>Raw_token_NB</th>\n",
       "      <td>0.934414</td>\n",
       "      <td>0.564609</td>\n",
       "      <td>0.932161</td>\n",
       "      <td>0.000523</td>\n",
       "      <td>0.548922</td>\n",
       "    </tr>\n",
       "    <tr>\n",
       "      <th>Token_NB</th>\n",
       "      <td>0.933513</td>\n",
       "      <td>0.561574</td>\n",
       "      <td>0.931269</td>\n",
       "      <td>0.000541</td>\n",
       "      <td>0.546902</td>\n",
       "    </tr>\n",
       "    <tr>\n",
       "      <th>Bigram_NB</th>\n",
       "      <td>0.948431</td>\n",
       "      <td>0.514740</td>\n",
       "      <td>0.940543</td>\n",
       "      <td>0.000345</td>\n",
       "      <td>0.505087</td>\n",
       "    </tr>\n",
       "    <tr>\n",
       "      <th>Trigram_NB</th>\n",
       "      <td>0.944572</td>\n",
       "      <td>0.268816</td>\n",
       "      <td>0.944421</td>\n",
       "      <td>0.000377</td>\n",
       "      <td>0.502803</td>\n",
       "    </tr>\n",
       "    <tr>\n",
       "      <th>Tfidf_t_NB</th>\n",
       "      <td>0.940817</td>\n",
       "      <td>0.110226</td>\n",
       "      <td>0.939774</td>\n",
       "      <td>0.000172</td>\n",
       "      <td>0.082161</td>\n",
       "    </tr>\n",
       "    <tr>\n",
       "      <th>Bigram_best_NB</th>\n",
       "      <td>0.937272</td>\n",
       "      <td>0.553125</td>\n",
       "      <td>0.932789</td>\n",
       "      <td>0.000446</td>\n",
       "      <td>0.529065</td>\n",
       "    </tr>\n",
       "    <tr>\n",
       "      <th>Trigram_best_NB</th>\n",
       "      <td>0.937269</td>\n",
       "      <td>0.553110</td>\n",
       "      <td>0.932784</td>\n",
       "      <td>0.000442</td>\n",
       "      <td>0.529041</td>\n",
       "    </tr>\n",
       "  </tbody>\n",
       "</table>\n",
       "</div>"
      ],
      "text/plain": [
       "                 Test_Accuracy  Test_F1_score  CV_Accuracy  CV_Acc_STD  \\\n",
       "Raw_token_NB          0.934414       0.564609     0.932161    0.000523   \n",
       "Token_NB              0.933513       0.561574     0.931269    0.000541   \n",
       "Bigram_NB             0.948431       0.514740     0.940543    0.000345   \n",
       "Trigram_NB            0.944572       0.268816     0.944421    0.000377   \n",
       "Tfidf_t_NB            0.940817       0.110226     0.939774    0.000172   \n",
       "Bigram_best_NB        0.937272       0.553125     0.932789    0.000446   \n",
       "Trigram_best_NB       0.937269       0.553110     0.932784    0.000442   \n",
       "\n",
       "                 CV_F1_score  \n",
       "Raw_token_NB        0.548922  \n",
       "Token_NB            0.546902  \n",
       "Bigram_NB           0.505087  \n",
       "Trigram_NB          0.502803  \n",
       "Tfidf_t_NB          0.082161  \n",
       "Bigram_best_NB      0.529065  \n",
       "Trigram_best_NB     0.529041  "
      ]
     },
     "execution_count": 90,
     "metadata": {},
     "output_type": "execute_result"
    }
   ],
   "source": [
    "model = MultinomialNB()\n",
    "model_label = 'Trigram_best_NB'\n",
    "\n",
    "model_score(model, X_train_tri, X_test_tri, y_train, y_test, score_df, model_label)\n",
    "cv_score(model, X_train_tri, y_train, model_label)\n",
    "score_df"
   ]
  },
  {
   "cell_type": "code",
   "execution_count": 92,
   "metadata": {},
   "outputs": [],
   "source": [
    "# score_df.to_pickle('./identity_score.pkl')"
   ]
  },
  {
   "cell_type": "code",
   "execution_count": 31,
   "metadata": {},
   "outputs": [],
   "source": [
    "score_df = pd.read_pickle('./identity_score.pkl')"
   ]
  },
  {
   "cell_type": "code",
   "execution_count": 32,
   "metadata": {},
   "outputs": [],
   "source": [
    "acc_df = pd.DataFrame(index=['Baseline','Raw Token', 'Tokens', 'All Bigram', 'All Trigram', 'TFIDF', 'N Bigram', 'N Trigram'])\n",
    "acc_df['Accuracy'] = acc_list = [1-train.target.mean()] + list(score_df['Test_Accuracy'])\n"
   ]
  },
  {
   "cell_type": "code",
   "execution_count": 33,
   "metadata": {},
   "outputs": [],
   "source": [
    "f1_df =  pd.DataFrame(index=['Raw Token', 'Tokens', 'All Bigram', 'All Trigram', 'TFIDF', 'N Bigram', 'N Trigram'])\n",
    "f1_df['F1 Score'] = list(score_df['Test_F1_score'])\n"
   ]
  },
  {
   "cell_type": "code",
   "execution_count": 34,
   "metadata": {},
   "outputs": [],
   "source": [
    "style.use('seaborn-poster')\n",
    "\n",
    "style.use('seaborn-whitegrid') #sets the size of the charts\n",
    "style.use('tableau-colorblind10')"
   ]
  },
  {
   "cell_type": "code",
   "execution_count": 35,
   "metadata": {},
   "outputs": [],
   "source": [
    "acc_color = ['grey'] + ['coral'] * 7"
   ]
  },
  {
   "cell_type": "code",
   "execution_count": 36,
   "metadata": {},
   "outputs": [
    {
     "data": {
      "image/png": "[encoded data removed]",
      "text/plain": [
       "<Figure size 1296x576 with 2 Axes>"
      ]
     },
     "metadata": {},
     "output_type": "display_data"
    }
   ],
   "source": [
    "fig, ax = plt.subplots(1,2, figsize=(18,8))\n",
    "\n",
    "ax1 = plt.subplot(121)\n",
    "ax1 = sns.barplot(x=f1_df.index, y=f1_df['F1 Score'], color='cornflowerblue')\n",
    "ax1 = plt.ylim(0, 0.7)\n",
    "ax1 = plt.xticks(rotation=45)\n",
    "ax1 = plt.title('F1 Score')\n",
    "ax1 = plt.ylabel('')\n",
    "\n",
    "\n",
    "ax2 = plt.subplot(122)\n",
    "ax2 = sns.barplot(x=acc_df.index, y=acc_df.Accuracy, palette=acc_color)\n",
    "ax2 = plt.ylim(0.9, 1)\n",
    "ax2 = plt.xticks(rotation=45)\n",
    "ax2 = plt.title('Accuracy')\n",
    "ax2 = plt.ylabel('')\n",
    "\n"
   ]
  },
  {
   "cell_type": "code",
   "execution_count": null,
   "metadata": {},
   "outputs": [],
   "source": []
  },
  {
   "cell_type": "code",
   "execution_count": null,
   "metadata": {},
   "outputs": [],
   "source": []
  },
  {
   "cell_type": "code",
   "execution_count": null,
   "metadata": {},
   "outputs": [],
   "source": []
  }
 ],
 "metadata": {
  "kernelspec": {
   "display_name": "Python 3",
   "language": "python",
   "name": "python3"
  },
  "language_info": {
   "codemirror_mode": {
    "name": "ipython",
    "version": 3
   },
   "file_extension": ".py",
   "mimetype": "text/x-python",
   "name": "python",
   "nbconvert_exporter": "python",
   "pygments_lexer": "ipython3",
   "version": "3.6.8"
  }
 },
 "nbformat": 4,
 "nbformat_minor": 2
}
