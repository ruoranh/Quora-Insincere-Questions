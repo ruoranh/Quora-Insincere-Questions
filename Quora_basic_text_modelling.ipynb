{
 "cells": [
  {
   "cell_type": "code",
   "execution_count": 197,
   "metadata": {},
   "outputs": [],
   "source": [
    "# text manipulation\n",
    "import re\n",
    "import string\n",
    "\n",
    "# Data management\n",
    "import pandas as pd\n",
    "import numpy as np\n",
    "from scipy.sparse import *\n",
    "import scipy\n",
    "\n",
    "# NLP\n",
    "import nltk\n",
    "import nltk.collocations as collocations\n",
    "from nltk.tag import tnt\n",
    "import spacy\n",
    "\n",
    "# modelling\n",
    "from sklearn.feature_extraction.text import CountVectorizer, TfidfTransformer, TfidfVectorizer\n",
    "from sklearn.model_selection import train_test_split, cross_val_score, cross_validate, GridSearchCV\n",
    "from sklearn.naive_bayes import MultinomialNB\n",
    "from sklearn.ensemble import RandomForestClassifier\n",
    "from sklearn.pipeline import make_pipeline, Pipeline\n",
    "from sklearn.metrics import f1_score, confusion_matrix, accuracy_score, classification_report\n",
    "from sklearn.linear_model import SGDClassifier\n",
    "\n",
    "#visualisation\n",
    "import matplotlib.pyplot as plt\n",
    "import seaborn as sns\n",
    "from sklearn.metrics import roc_curve, auc\n",
    "import matplotlib.style as style \n",
    "\n",
    "%matplotlib inline"
   ]
  },
  {
   "cell_type": "code",
   "execution_count": 2,
   "metadata": {},
   "outputs": [],
   "source": [
    "train = pd.read_csv('./train.csv')"
   ]
  },
  {
   "cell_type": "code",
   "execution_count": 3,
   "metadata": {},
   "outputs": [
    {
     "data": {
      "text/html": [
       "<div>\n",
       "<style scoped>\n",
       "    .dataframe tbody tr th:only-of-type {\n",
       "        vertical-align: middle;\n",
       "    }\n",
       "\n",
       "    .dataframe tbody tr th {\n",
       "        vertical-align: top;\n",
       "    }\n",
       "\n",
       "    .dataframe thead th {\n",
       "        text-align: right;\n",
       "    }\n",
       "</style>\n",
       "<table border=\"1\" class=\"dataframe\">\n",
       "  <thead>\n",
       "    <tr style=\"text-align: right;\">\n",
       "      <th></th>\n",
       "      <th>qid</th>\n",
       "      <th>question_text</th>\n",
       "      <th>target</th>\n",
       "    </tr>\n",
       "  </thead>\n",
       "  <tbody>\n",
       "    <tr>\n",
       "      <th>0</th>\n",
       "      <td>00002165364db923c7e6</td>\n",
       "      <td>How did Quebec nationalists see their province...</td>\n",
       "      <td>0</td>\n",
       "    </tr>\n",
       "    <tr>\n",
       "      <th>1</th>\n",
       "      <td>000032939017120e6e44</td>\n",
       "      <td>Do you have an adopted dog, how would you enco...</td>\n",
       "      <td>0</td>\n",
       "    </tr>\n",
       "    <tr>\n",
       "      <th>2</th>\n",
       "      <td>0000412ca6e4628ce2cf</td>\n",
       "      <td>Why does velocity affect time? Does velocity a...</td>\n",
       "      <td>0</td>\n",
       "    </tr>\n",
       "    <tr>\n",
       "      <th>3</th>\n",
       "      <td>000042bf85aa498cd78e</td>\n",
       "      <td>How did Otto von Guericke used the Magdeburg h...</td>\n",
       "      <td>0</td>\n",
       "    </tr>\n",
       "    <tr>\n",
       "      <th>4</th>\n",
       "      <td>0000455dfa3e01eae3af</td>\n",
       "      <td>Can I convert montra helicon D to a mountain b...</td>\n",
       "      <td>0</td>\n",
       "    </tr>\n",
       "  </tbody>\n",
       "</table>\n",
       "</div>"
      ],
      "text/plain": [
       "                    qid                                      question_text  \\\n",
       "0  00002165364db923c7e6  How did Quebec nationalists see their province...   \n",
       "1  000032939017120e6e44  Do you have an adopted dog, how would you enco...   \n",
       "2  0000412ca6e4628ce2cf  Why does velocity affect time? Does velocity a...   \n",
       "3  000042bf85aa498cd78e  How did Otto von Guericke used the Magdeburg h...   \n",
       "4  0000455dfa3e01eae3af  Can I convert montra helicon D to a mountain b...   \n",
       "\n",
       "   target  \n",
       "0       0  \n",
       "1       0  \n",
       "2       0  \n",
       "3       0  \n",
       "4       0  "
      ]
     },
     "execution_count": 3,
     "metadata": {},
     "output_type": "execute_result"
    }
   ],
   "source": [
    "train.head()"
   ]
  },
  {
   "cell_type": "code",
   "execution_count": 4,
   "metadata": {},
   "outputs": [
    {
     "data": {
      "text/plain": [
       "(1306122, 3)"
      ]
     },
     "execution_count": 4,
     "metadata": {},
     "output_type": "execute_result"
    }
   ],
   "source": [
    "train.shape"
   ]
  },
  {
   "cell_type": "code",
   "execution_count": 5,
   "metadata": {},
   "outputs": [
    {
     "name": "stdout",
     "output_type": "stream",
     "text": [
      "No. of insincere questions: 80810\n",
      "No. of sincere questions: 1225312\n",
      "% of insincere questions: 0.06187017751787352\n",
      "Null score: 0.9381298224821265\n"
     ]
    }
   ],
   "source": [
    "no_insincere = train[train['target']==1].target.count()\n",
    "no_sincere = train[train['target']==0].target.count()\n",
    "\n",
    "print('No. of insincere questions:', no_insincere)\n",
    "print('No. of sincere questions:', no_sincere)\n",
    "print('% of insincere questions:', train.target.mean())\n",
    "print('Null score:', 1- train.target.mean())"
   ]
  },
  {
   "cell_type": "markdown",
   "metadata": {},
   "source": [
    "# Data Cleaning"
   ]
  },
  {
   "cell_type": "code",
   "execution_count": 6,
   "metadata": {},
   "outputs": [
    {
     "name": "stdout",
     "output_type": "stream",
     "text": [
      "Wall time: 1 ms\n"
     ]
    }
   ],
   "source": [
    "%%time\n",
    "# remove digits\n",
    "clean_questions = (re.sub(\"[^A-Za-z']+\", ' ', q).lower() for q in train['question_text'])"
   ]
  },
  {
   "cell_type": "code",
   "execution_count": 7,
   "metadata": {},
   "outputs": [],
   "source": [
    "stopwords = list(nltk.corpus.stopwords.words('english'))"
   ]
  },
  {
   "cell_type": "code",
   "execution_count": 8,
   "metadata": {},
   "outputs": [
    {
     "name": "stdout",
     "output_type": "stream",
     "text": [
      "Wall time: 3min 11s\n"
     ]
    }
   ],
   "source": [
    "%%time\n",
    "# remove stop words and lower all characters\n",
    "clean_questions = [' '.join(w for w in nltk.word_tokenize(q.lower()) if w not in stopwords) for q in clean_questions]"
   ]
  },
  {
   "cell_type": "code",
   "execution_count": null,
   "metadata": {},
   "outputs": [],
   "source": []
  },
  {
   "cell_type": "code",
   "execution_count": 9,
   "metadata": {},
   "outputs": [
    {
     "data": {
      "text/plain": [
       "1306122"
      ]
     },
     "execution_count": 9,
     "metadata": {},
     "output_type": "execute_result"
    }
   ],
   "source": [
    "len(clean_questions)"
   ]
  },
  {
   "cell_type": "code",
   "execution_count": 10,
   "metadata": {},
   "outputs": [
    {
     "data": {
      "text/plain": [
       "'Do you have an adopted dog, how would you encourage people to adopt and not shop?'"
      ]
     },
     "execution_count": 10,
     "metadata": {},
     "output_type": "execute_result"
    }
   ],
   "source": [
    "train.question_text[1]"
   ]
  },
  {
   "cell_type": "code",
   "execution_count": 11,
   "metadata": {},
   "outputs": [
    {
     "data": {
      "text/plain": [
       "['quebec nationalists see province nation',\n",
       " 'adopted dog would encourage people adopt shop',\n",
       " 'velocity affect time velocity affect space geometry',\n",
       " 'otto von guericke used magdeburg hemispheres',\n",
       " 'convert montra helicon mountain bike changing tyres',\n",
       " 'gaza slowly becoming auschwitz dachau treblinka palestinians',\n",
       " 'quora automatically ban conservative opinions reported liberal views',\n",
       " 'crazy wash wipe groceries germs everywhere',\n",
       " 'thing dressing moderately different dressing modestly',\n",
       " 'ever phase wherein became ignorant people loved completely disregarding feelings lives get something go way feel temporarily ease things change']"
      ]
     },
     "execution_count": 11,
     "metadata": {},
     "output_type": "execute_result"
    }
   ],
   "source": [
    "clean_questions[:10]"
   ]
  },
  {
   "cell_type": "code",
   "execution_count": null,
   "metadata": {},
   "outputs": [],
   "source": []
  },
  {
   "cell_type": "code",
   "execution_count": null,
   "metadata": {},
   "outputs": [],
   "source": []
  },
  {
   "cell_type": "code",
   "execution_count": null,
   "metadata": {},
   "outputs": [],
   "source": []
  },
  {
   "cell_type": "code",
   "execution_count": null,
   "metadata": {},
   "outputs": [],
   "source": []
  },
  {
   "cell_type": "markdown",
   "metadata": {},
   "source": [
    "# Define functions and pipelines"
   ]
  },
  {
   "cell_type": "code",
   "execution_count": 12,
   "metadata": {},
   "outputs": [],
   "source": [
    "def vect_trans(vectorizer, X_train, X_test):\n",
    "    # can also take a transformer\n",
    "    vect = vectorizer\n",
    "    vect.fit(X_train)\n",
    "    return vect.transform(X_train), vect.transform(X_test)"
   ]
  },
  {
   "cell_type": "code",
   "execution_count": 234,
   "metadata": {},
   "outputs": [],
   "source": [
    "# MultinominalNB function for printing scores and storing into df.\n",
    "def model_score(model, X_train, X_test, y_train, y_test, score_df, model_label):\n",
    "    estimator = model\n",
    "    estimator.fit(X_train, y_train)\n",
    "    test_score =  estimator.score(X_test, y_test)\n",
    "    f1 = f1_score(y_test, estimator.predict(X_test))\n",
    "    \n",
    "    print('Train Accuracy :', estimator.score(X_train, y_train))\n",
    "    print('Test Accuracy:', test_score)\n",
    "    print('Test F1 score:', f1)\n",
    "    score_df.loc[model_label, 'Test_Accuracy'] = test_score\n",
    "    score_df.loc[model_label, 'Test_F1_score'] = f1\n",
    "    return model.predict_proba(X_test)"
   ]
  },
  {
   "cell_type": "code",
   "execution_count": 14,
   "metadata": {},
   "outputs": [],
   "source": [
    "# Cross Validate function for printing scores and storing into df.\n",
    "def cv_score(model, X, y, model_label,  cv=5, ):    \n",
    "    \n",
    "    # instantiating model\n",
    "    estimator = model\n",
    "    \n",
    "    cv_result = cross_validate(estimator, X, y, cv = cv, n_jobs=-1, scoring=['accuracy', 'f1'])\n",
    "    \n",
    "    print('Test Accuracy Mean:',cv_result['test_accuracy'].mean())\n",
    "    print('Test Accuracy STD:',cv_result['test_accuracy'].std())\n",
    "    print('Test F1:', cv_result['test_f1'].mean())\n",
    "    score_df.loc[model_label, 'CV_Accuracy'] = cv_result['test_accuracy'].mean()\n",
    "    score_df.loc[model_label, 'CV_Acc_STD'] = cv_result['test_accuracy'].std()\n",
    "    score_df.loc[model_label, 'CV_F1_score'] = cv_result['test_f1'].mean()"
   ]
  },
  {
   "cell_type": "code",
   "execution_count": 15,
   "metadata": {},
   "outputs": [],
   "source": [
    "# GridSearchCV function, auto display best score and parameters and storing in df\n",
    "def gridcv(model, X, y, params, cv= 5 ):\n",
    "    \n",
    "    # instantiating model can also be a pipeline\n",
    "    estimator = model\n",
    "    \n",
    "    gridcv = GridSearchCV(estimator=estimator, param_grid=params, cv = cv, verbose=10, n_jobs=6)\n",
    "    gridcv.fit(X, y)\n",
    "    \n",
    "    print(gridcv.best_params_)\n",
    "    print(gridcv.best_score_)\n",
    "    "
   ]
  },
  {
   "cell_type": "code",
   "execution_count": 16,
   "metadata": {},
   "outputs": [],
   "source": [
    "# CountVectorizer pipeline and parameters\n",
    "pipeCVNB = Pipeline([('CV',CountVectorizer(stop_words=stopwords)), \n",
    "                    ('NB',MultinomialNB())])\n",
    "\n",
    "paramsCVNB = {'CV__max_df':(1.0, 0.9, 0.8, 0.7),\n",
    "       'CV__min_df': (1, 2, 0.01 , 0.1, 0.2),\n",
    "         'CV__ngram_range':((1,1), (1,2), (1,3))}"
   ]
  },
  {
   "cell_type": "code",
   "execution_count": 17,
   "metadata": {},
   "outputs": [],
   "source": [
    "# TfidfVectorizer pipeline and parameters\n",
    "pipeTVNB = Pipeline([('TV',TfidfVectorizer(stop_words=stopwords)), \n",
    "                    ('NB',MultinomialNB())])\n",
    "\n",
    "paramsTVNB = {'TV__max_df':(1.0, 0.9, 0.8, 0.7, 0.6),\n",
    "       'TV__min_df': (1, 2, 0.01, 0.05, 0.1),\n",
    "         'TV__ngram_range':((1,1), (1,2), (1,3), (2,2), (2,3))}"
   ]
  },
  {
   "cell_type": "code",
   "execution_count": 18,
   "metadata": {},
   "outputs": [],
   "source": [
    "score_df = pd.DataFrame()"
   ]
  },
  {
   "cell_type": "markdown",
   "metadata": {},
   "source": [
    "# Default count vectorizer on raw text"
   ]
  },
  {
   "cell_type": "code",
   "execution_count": 198,
   "metadata": {},
   "outputs": [
    {
     "name": "stdout",
     "output_type": "stream",
     "text": [
      "Wall time: 39.3 s\n"
     ]
    }
   ],
   "source": [
    "%%time\n",
    "\n",
    "X_train_raw, X_test_raw, y_train_raw, y_test_raw = train_test_split(train.question_text, train.target,\n",
    "                                                                    stratify=train.target, random_state = 495)\n",
    "\n",
    "X_train_raw_t, X_test_raw_t=  vect_trans(CountVectorizer(), X_train_raw, X_test_raw)"
   ]
  },
  {
   "cell_type": "code",
   "execution_count": 232,
   "metadata": {},
   "outputs": [
    {
     "data": {
      "text/plain": [
       "(326531,)"
      ]
     },
     "execution_count": 232,
     "metadata": {},
     "output_type": "execute_result"
    }
   ],
   "source": [
    "y_test_raw.shape"
   ]
  },
  {
   "cell_type": "code",
   "execution_count": 199,
   "metadata": {},
   "outputs": [
    {
     "name": "stdout",
     "output_type": "stream",
     "text": [
      "Train Accuracy : 0.9350739237089765\n",
      "Test Accuracy: 0.9344135778838762\n",
      "Test F1 score: 0.5646092542896641\n",
      "Test Accuracy Mean: 0.9321614838567932\n",
      "Test Accuracy STD: 0.0005228593021778298\n",
      "Test F1: 0.5489215714930169\n"
     ]
    },
    {
     "data": {
      "text/html": [
       "<div>\n",
       "<style scoped>\n",
       "    .dataframe tbody tr th:only-of-type {\n",
       "        vertical-align: middle;\n",
       "    }\n",
       "\n",
       "    .dataframe tbody tr th {\n",
       "        vertical-align: top;\n",
       "    }\n",
       "\n",
       "    .dataframe thead th {\n",
       "        text-align: right;\n",
       "    }\n",
       "</style>\n",
       "<table border=\"1\" class=\"dataframe\">\n",
       "  <thead>\n",
       "    <tr style=\"text-align: right;\">\n",
       "      <th></th>\n",
       "      <th>Test_Accuracy</th>\n",
       "      <th>Test_F1_score</th>\n",
       "      <th>CV_Accuracy</th>\n",
       "      <th>CV_Acc_STD</th>\n",
       "      <th>CV_F1_score</th>\n",
       "    </tr>\n",
       "  </thead>\n",
       "  <tbody>\n",
       "    <tr>\n",
       "      <th>Raw_token_NB</th>\n",
       "      <td>0.934414</td>\n",
       "      <td>0.564609</td>\n",
       "      <td>0.932161</td>\n",
       "      <td>0.000523</td>\n",
       "      <td>0.548922</td>\n",
       "    </tr>\n",
       "    <tr>\n",
       "      <th>Token_NB</th>\n",
       "      <td>0.937249</td>\n",
       "      <td>0.556378</td>\n",
       "      <td>0.932654</td>\n",
       "      <td>0.000460</td>\n",
       "      <td>0.530663</td>\n",
       "    </tr>\n",
       "    <tr>\n",
       "      <th>Bigram_NB</th>\n",
       "      <td>0.947236</td>\n",
       "      <td>0.396511</td>\n",
       "      <td>0.944596</td>\n",
       "      <td>0.000387</td>\n",
       "      <td>0.481251</td>\n",
       "    </tr>\n",
       "    <tr>\n",
       "      <th>Trigram_NB</th>\n",
       "      <td>0.944777</td>\n",
       "      <td>0.271964</td>\n",
       "      <td>0.944946</td>\n",
       "      <td>0.000429</td>\n",
       "      <td>0.508466</td>\n",
       "    </tr>\n",
       "    <tr>\n",
       "      <th>Tfidf_t_NB</th>\n",
       "      <td>0.941715</td>\n",
       "      <td>0.147312</td>\n",
       "      <td>0.940417</td>\n",
       "      <td>0.000156</td>\n",
       "      <td>0.111642</td>\n",
       "    </tr>\n",
       "    <tr>\n",
       "      <th>Bigram_best_NB</th>\n",
       "      <td>0.937380</td>\n",
       "      <td>0.555924</td>\n",
       "      <td>0.933358</td>\n",
       "      <td>0.000472</td>\n",
       "      <td>0.533960</td>\n",
       "    </tr>\n",
       "    <tr>\n",
       "      <th>Trigram_best_NB</th>\n",
       "      <td>0.937387</td>\n",
       "      <td>0.555809</td>\n",
       "      <td>0.933376</td>\n",
       "      <td>0.000463</td>\n",
       "      <td>0.534021</td>\n",
       "    </tr>\n",
       "    <tr>\n",
       "      <th>Bigram_best_NB2</th>\n",
       "      <td>0.936706</td>\n",
       "      <td>0.554652</td>\n",
       "      <td>0.932790</td>\n",
       "      <td>0.000515</td>\n",
       "      <td>0.533269</td>\n",
       "    </tr>\n",
       "    <tr>\n",
       "      <th>Trigram_best_NB2</th>\n",
       "      <td>0.936729</td>\n",
       "      <td>0.554525</td>\n",
       "      <td>0.932825</td>\n",
       "      <td>0.000510</td>\n",
       "      <td>0.533363</td>\n",
       "    </tr>\n",
       "  </tbody>\n",
       "</table>\n",
       "</div>"
      ],
      "text/plain": [
       "                  Test_Accuracy  Test_F1_score  CV_Accuracy  CV_Acc_STD  \\\n",
       "Raw_token_NB           0.934414       0.564609     0.932161    0.000523   \n",
       "Token_NB               0.937249       0.556378     0.932654    0.000460   \n",
       "Bigram_NB              0.947236       0.396511     0.944596    0.000387   \n",
       "Trigram_NB             0.944777       0.271964     0.944946    0.000429   \n",
       "Tfidf_t_NB             0.941715       0.147312     0.940417    0.000156   \n",
       "Bigram_best_NB         0.937380       0.555924     0.933358    0.000472   \n",
       "Trigram_best_NB        0.937387       0.555809     0.933376    0.000463   \n",
       "Bigram_best_NB2        0.936706       0.554652     0.932790    0.000515   \n",
       "Trigram_best_NB2       0.936729       0.554525     0.932825    0.000510   \n",
       "\n",
       "                  CV_F1_score  \n",
       "Raw_token_NB         0.548922  \n",
       "Token_NB             0.530663  \n",
       "Bigram_NB            0.481251  \n",
       "Trigram_NB           0.508466  \n",
       "Tfidf_t_NB           0.111642  \n",
       "Bigram_best_NB       0.533960  \n",
       "Trigram_best_NB      0.534021  \n",
       "Bigram_best_NB2      0.533269  \n",
       "Trigram_best_NB2     0.533363  "
      ]
     },
     "execution_count": 199,
     "metadata": {},
     "output_type": "execute_result"
    }
   ],
   "source": [
    "model = MultinomialNB()\n",
    "model_label = 'Raw_token_NB'\n",
    "\n",
    "model_score(model, X_train_raw_t, X_test_raw_t, y_train_raw, y_test_raw, score_df, model_label)\n",
    "cv_score(model, X_train_raw_t, y_train_raw, model_label)\n",
    "score_df"
   ]
  },
  {
   "cell_type": "code",
   "execution_count": 200,
   "metadata": {},
   "outputs": [
    {
     "name": "stdout",
     "output_type": "stream",
     "text": [
      "train score: 0.9350739237089765\n",
      "test score: 0.9344135778838762\n"
     ]
    }
   ],
   "source": [
    "nb = MultinomialNB()\n",
    "nb.fit(X_train_raw_t, y_train_raw)  \n",
    "test_score =  nb.score(X_test_raw_t, y_test_raw)\n",
    "print('train score:', nb.score(X_train_raw_t, y_train_raw))\n",
    "print('test score:', test_score)\n",
    "y_pred = nb.predict(X_test_raw_t)"
   ]
  },
  {
   "cell_type": "code",
   "execution_count": 217,
   "metadata": {
    "scrolled": true
   },
   "outputs": [
    {
     "data": {
      "text/html": [
       "<div>\n",
       "<style scoped>\n",
       "    .dataframe tbody tr th:only-of-type {\n",
       "        vertical-align: middle;\n",
       "    }\n",
       "\n",
       "    .dataframe tbody tr th {\n",
       "        vertical-align: top;\n",
       "    }\n",
       "\n",
       "    .dataframe thead th {\n",
       "        text-align: right;\n",
       "    }\n",
       "</style>\n",
       "<table border=\"1\" class=\"dataframe\">\n",
       "  <thead>\n",
       "    <tr style=\"text-align: right;\">\n",
       "      <th></th>\n",
       "      <th>raw_class_0_pp</th>\n",
       "      <th>raw_class_1_pp</th>\n",
       "    </tr>\n",
       "  </thead>\n",
       "  <tbody>\n",
       "    <tr>\n",
       "      <th>0</th>\n",
       "      <td>0.999998</td>\n",
       "      <td>0.000002</td>\n",
       "    </tr>\n",
       "    <tr>\n",
       "      <th>1</th>\n",
       "      <td>0.999708</td>\n",
       "      <td>0.000292</td>\n",
       "    </tr>\n",
       "    <tr>\n",
       "      <th>2</th>\n",
       "      <td>0.985133</td>\n",
       "      <td>0.014867</td>\n",
       "    </tr>\n",
       "    <tr>\n",
       "      <th>3</th>\n",
       "      <td>0.999991</td>\n",
       "      <td>0.000009</td>\n",
       "    </tr>\n",
       "    <tr>\n",
       "      <th>4</th>\n",
       "      <td>0.031343</td>\n",
       "      <td>0.968657</td>\n",
       "    </tr>\n",
       "  </tbody>\n",
       "</table>\n",
       "</div>"
      ],
      "text/plain": [
       "   raw_class_0_pp  raw_class_1_pp\n",
       "0        0.999998        0.000002\n",
       "1        0.999708        0.000292\n",
       "2        0.985133        0.014867\n",
       "3        0.999991        0.000009\n",
       "4        0.031343        0.968657"
      ]
     },
     "execution_count": 217,
     "metadata": {},
     "output_type": "execute_result"
    }
   ],
   "source": [
    "Y_pp = pd.DataFrame(nb.predict_proba(X_test_raw_t), columns=['raw_class_0_pp','raw_class_1_pp'])\n",
    "Y_pp.head()"
   ]
  },
  {
   "cell_type": "code",
   "execution_count": 22,
   "metadata": {},
   "outputs": [
    {
     "name": "stdout",
     "output_type": "stream",
     "text": [
      "0.5646092542896641\n",
      "0.7645724512273393\n",
      "0.9344135778838762\n",
      "0.9397915566837656\n"
     ]
    },
    {
     "data": {
      "text/plain": [
       "array([[291229,  15099],\n",
       "       [  6317,  13886]], dtype=int64)"
      ]
     },
     "execution_count": 22,
     "metadata": {},
     "output_type": "execute_result"
    }
   ],
   "source": [
    "print(f1_score(y_test_raw, y_pred) )\n",
    "print(f1_score(y_test_raw, y_pred, average='macro') )\n",
    "print(f1_score(y_test_raw, y_pred, average='micro') )\n",
    "print(f1_score(y_test_raw, y_pred, average='weighted') )\n",
    "confusion_matrix(y_test_raw, y_pred)"
   ]
  },
  {
   "cell_type": "code",
   "execution_count": null,
   "metadata": {},
   "outputs": [],
   "source": []
  },
  {
   "cell_type": "markdown",
   "metadata": {},
   "source": [
    "# Basic Token and Ngram modelling on cleaned data"
   ]
  },
  {
   "cell_type": "markdown",
   "metadata": {},
   "source": [
    "Creating train/test sets"
   ]
  },
  {
   "cell_type": "code",
   "execution_count": 218,
   "metadata": {},
   "outputs": [],
   "source": [
    "X = clean_questions\n",
    "y = train.target"
   ]
  },
  {
   "cell_type": "code",
   "execution_count": 219,
   "metadata": {},
   "outputs": [],
   "source": [
    "X_train, X_test, y_train, y_test = train_test_split(X, y, stratify=y, random_state = 495)"
   ]
  },
  {
   "cell_type": "markdown",
   "metadata": {},
   "source": [
    "### Tokens only"
   ]
  },
  {
   "cell_type": "code",
   "execution_count": 235,
   "metadata": {},
   "outputs": [
    {
     "name": "stdout",
     "output_type": "stream",
     "text": [
      "Wall time: 20.7 s\n"
     ]
    }
   ],
   "source": [
    "%%time\n",
    "X_train_t, X_test_t=  vect_trans(CountVectorizer(max_df=1.0, min_df=1, ngram_range=(1,1)), X_train, X_test)"
   ]
  },
  {
   "cell_type": "code",
   "execution_count": 240,
   "metadata": {},
   "outputs": [
    {
     "name": "stdout",
     "output_type": "stream",
     "text": [
      "Train Accuracy : 0.937970030349401\n",
      "Test Accuracy: 0.9372494495162788\n",
      "Test F1 score: 0.5563782800727461\n",
      "Test Accuracy Mean: 0.9326535254560504\n",
      "Test Accuracy STD: 0.0004599552546768383\n",
      "Test F1: 0.5306632221699109\n"
     ]
    },
    {
     "data": {
      "text/html": [
       "<div>\n",
       "<style scoped>\n",
       "    .dataframe tbody tr th:only-of-type {\n",
       "        vertical-align: middle;\n",
       "    }\n",
       "\n",
       "    .dataframe tbody tr th {\n",
       "        vertical-align: top;\n",
       "    }\n",
       "\n",
       "    .dataframe thead th {\n",
       "        text-align: right;\n",
       "    }\n",
       "</style>\n",
       "<table border=\"1\" class=\"dataframe\">\n",
       "  <thead>\n",
       "    <tr style=\"text-align: right;\">\n",
       "      <th></th>\n",
       "      <th>Test_Accuracy</th>\n",
       "      <th>Test_F1_score</th>\n",
       "      <th>CV_Accuracy</th>\n",
       "      <th>CV_Acc_STD</th>\n",
       "      <th>CV_F1_score</th>\n",
       "    </tr>\n",
       "  </thead>\n",
       "  <tbody>\n",
       "    <tr>\n",
       "      <th>Raw_token_NB</th>\n",
       "      <td>0.934414</td>\n",
       "      <td>0.564609</td>\n",
       "      <td>0.932161</td>\n",
       "      <td>0.000523</td>\n",
       "      <td>0.548922</td>\n",
       "    </tr>\n",
       "    <tr>\n",
       "      <th>Token_NB</th>\n",
       "      <td>0.937249</td>\n",
       "      <td>0.556378</td>\n",
       "      <td>0.932654</td>\n",
       "      <td>0.000460</td>\n",
       "      <td>0.530663</td>\n",
       "    </tr>\n",
       "    <tr>\n",
       "      <th>Bigram_NB</th>\n",
       "      <td>0.947236</td>\n",
       "      <td>0.396511</td>\n",
       "      <td>0.944596</td>\n",
       "      <td>0.000387</td>\n",
       "      <td>0.481251</td>\n",
       "    </tr>\n",
       "    <tr>\n",
       "      <th>Trigram_NB</th>\n",
       "      <td>0.944777</td>\n",
       "      <td>0.271964</td>\n",
       "      <td>0.944946</td>\n",
       "      <td>0.000429</td>\n",
       "      <td>0.508466</td>\n",
       "    </tr>\n",
       "    <tr>\n",
       "      <th>Tfidf_t_NB</th>\n",
       "      <td>0.941715</td>\n",
       "      <td>0.147312</td>\n",
       "      <td>0.940417</td>\n",
       "      <td>0.000156</td>\n",
       "      <td>0.111642</td>\n",
       "    </tr>\n",
       "    <tr>\n",
       "      <th>Bigram_best_NB</th>\n",
       "      <td>0.937380</td>\n",
       "      <td>0.555924</td>\n",
       "      <td>0.933358</td>\n",
       "      <td>0.000472</td>\n",
       "      <td>0.533960</td>\n",
       "    </tr>\n",
       "    <tr>\n",
       "      <th>Trigram_best_NB</th>\n",
       "      <td>0.937387</td>\n",
       "      <td>0.555809</td>\n",
       "      <td>0.933376</td>\n",
       "      <td>0.000463</td>\n",
       "      <td>0.534021</td>\n",
       "    </tr>\n",
       "    <tr>\n",
       "      <th>Bigram_best_NB2</th>\n",
       "      <td>0.936706</td>\n",
       "      <td>0.554652</td>\n",
       "      <td>0.932790</td>\n",
       "      <td>0.000515</td>\n",
       "      <td>0.533269</td>\n",
       "    </tr>\n",
       "    <tr>\n",
       "      <th>Trigram_best_NB2</th>\n",
       "      <td>0.936729</td>\n",
       "      <td>0.554525</td>\n",
       "      <td>0.932825</td>\n",
       "      <td>0.000510</td>\n",
       "      <td>0.533363</td>\n",
       "    </tr>\n",
       "  </tbody>\n",
       "</table>\n",
       "</div>"
      ],
      "text/plain": [
       "                  Test_Accuracy  Test_F1_score  CV_Accuracy  CV_Acc_STD  \\\n",
       "Raw_token_NB           0.934414       0.564609     0.932161    0.000523   \n",
       "Token_NB               0.937249       0.556378     0.932654    0.000460   \n",
       "Bigram_NB              0.947236       0.396511     0.944596    0.000387   \n",
       "Trigram_NB             0.944777       0.271964     0.944946    0.000429   \n",
       "Tfidf_t_NB             0.941715       0.147312     0.940417    0.000156   \n",
       "Bigram_best_NB         0.937380       0.555924     0.933358    0.000472   \n",
       "Trigram_best_NB        0.937387       0.555809     0.933376    0.000463   \n",
       "Bigram_best_NB2        0.936706       0.554652     0.932790    0.000515   \n",
       "Trigram_best_NB2       0.936729       0.554525     0.932825    0.000510   \n",
       "\n",
       "                  CV_F1_score  \n",
       "Raw_token_NB         0.548922  \n",
       "Token_NB             0.530663  \n",
       "Bigram_NB            0.481251  \n",
       "Trigram_NB           0.508466  \n",
       "Tfidf_t_NB           0.111642  \n",
       "Bigram_best_NB       0.533960  \n",
       "Trigram_best_NB      0.534021  \n",
       "Bigram_best_NB2      0.533269  \n",
       "Trigram_best_NB2     0.533363  "
      ]
     },
     "execution_count": 240,
     "metadata": {},
     "output_type": "execute_result"
    }
   ],
   "source": [
    "model = MultinomialNB()\n",
    "model_label = 'Token_NB'\n",
    "X_train_arg = X_train_t\n",
    "X_test_arg = X_test_t\n",
    "\n",
    "y_pp_temp = model_score(model, X_train_arg, X_test_arg, y_train, y_test, score_df, model_label)\n",
    "cv_score(model, X_train_arg, y_train, model_label)\n",
    "score_df"
   ]
  },
  {
   "cell_type": "code",
   "execution_count": 233,
   "metadata": {},
   "outputs": [
    {
     "data": {
      "text/plain": [
       "(326531,)"
      ]
     },
     "execution_count": 233,
     "metadata": {},
     "output_type": "execute_result"
    }
   ],
   "source": [
    "y_test.shape"
   ]
  },
  {
   "cell_type": "code",
   "execution_count": 244,
   "metadata": {},
   "outputs": [
    {
     "data": {
      "text/html": [
       "<div>\n",
       "<style scoped>\n",
       "    .dataframe tbody tr th:only-of-type {\n",
       "        vertical-align: middle;\n",
       "    }\n",
       "\n",
       "    .dataframe tbody tr th {\n",
       "        vertical-align: top;\n",
       "    }\n",
       "\n",
       "    .dataframe thead th {\n",
       "        text-align: right;\n",
       "    }\n",
       "</style>\n",
       "<table border=\"1\" class=\"dataframe\">\n",
       "  <thead>\n",
       "    <tr style=\"text-align: right;\">\n",
       "      <th></th>\n",
       "      <th>t_class_0_pp</th>\n",
       "      <th>t_class_1_pp</th>\n",
       "    </tr>\n",
       "  </thead>\n",
       "  <tbody>\n",
       "    <tr>\n",
       "      <th>0</th>\n",
       "      <td>0.999992</td>\n",
       "      <td>0.000008</td>\n",
       "    </tr>\n",
       "    <tr>\n",
       "      <th>1</th>\n",
       "      <td>0.995851</td>\n",
       "      <td>0.004149</td>\n",
       "    </tr>\n",
       "    <tr>\n",
       "      <th>2</th>\n",
       "      <td>0.843648</td>\n",
       "      <td>0.156352</td>\n",
       "    </tr>\n",
       "    <tr>\n",
       "      <th>3</th>\n",
       "      <td>0.999997</td>\n",
       "      <td>0.000003</td>\n",
       "    </tr>\n",
       "    <tr>\n",
       "      <th>4</th>\n",
       "      <td>0.136639</td>\n",
       "      <td>0.863361</td>\n",
       "    </tr>\n",
       "  </tbody>\n",
       "</table>\n",
       "</div>"
      ],
      "text/plain": [
       "   t_class_0_pp  t_class_1_pp\n",
       "0      0.999992      0.000008\n",
       "1      0.995851      0.004149\n",
       "2      0.843648      0.156352\n",
       "3      0.999997      0.000003\n",
       "4      0.136639      0.863361"
      ]
     },
     "execution_count": 244,
     "metadata": {},
     "output_type": "execute_result"
    }
   ],
   "source": [
    "Y_pp_t = pd.DataFrame(y_pp_temp, columns=['t_class_0_pp','t_class_1_pp'])\n",
    "Y_pp_t.head() "
   ]
  },
  {
   "cell_type": "code",
   "execution_count": null,
   "metadata": {
    "scrolled": true
   },
   "outputs": [],
   "source": [
    "\n",
    "Y_pp.head()"
   ]
  },
  {
   "cell_type": "code",
   "execution_count": null,
   "metadata": {},
   "outputs": [],
   "source": []
  },
  {
   "cell_type": "markdown",
   "metadata": {},
   "source": [
    "### All Bigrams"
   ]
  },
  {
   "cell_type": "code",
   "execution_count": 372,
   "metadata": {},
   "outputs": [
    {
     "name": "stdout",
     "output_type": "stream",
     "text": [
      "Wall time: 57.3 s\n"
     ]
    }
   ],
   "source": [
    "%%time\n",
    "X_train_bi, X_test_bi=  vect_trans(CountVectorizer(ngram_range=(1,2)), X_train, X_test)"
   ]
  },
  {
   "cell_type": "markdown",
   "metadata": {},
   "source": [
    "Naive Bayes"
   ]
  },
  {
   "cell_type": "code",
   "execution_count": 375,
   "metadata": {},
   "outputs": [
    {
     "name": "stdout",
     "output_type": "stream",
     "text": [
      "Train Accuracy : 0.9743872697891263\n",
      "Test Accuracy: 0.9472362501569529\n",
      "Test F1 score: 0.396511261340152\n",
      "Test Accuracy Mean: 0.944596265646199\n",
      "Test Accuracy STD: 0.00038680879248805027\n",
      "Test F1: 0.4812506399709684\n"
     ]
    },
    {
     "data": {
      "text/plain": [
       "array([[303642,   2686],\n",
       "       [ 14543,   5660]], dtype=int64)"
      ]
     },
     "execution_count": 375,
     "metadata": {},
     "output_type": "execute_result"
    }
   ],
   "source": [
    "model = MultinomialNB()\n",
    "model_label = 'Bigram_NB'\n",
    "X_train_arg = X_train_bi\n",
    "X_test_arg = X_test_bi\n",
    "\n",
    "model_score(model, X_train_arg, X_test_arg, y_train, y_test, score_df, model_label)\n",
    "cv_score(model, X_train_arg, y_train, model_label)\n",
    "score_df\n",
    "\n",
    "\n",
    "nb = MultinomialNB()\n",
    "nb.fit(X_train_bi, y_train)  \n",
    "y_pred = nb.predict(X_test_bi)\n",
    "confusion_matrix(y_test, y_pred)"
   ]
  },
  {
   "cell_type": "markdown",
   "metadata": {},
   "source": [
    "Random Forest"
   ]
  },
  {
   "cell_type": "code",
   "execution_count": 29,
   "metadata": {},
   "outputs": [],
   "source": [
    "# %%time\n",
    "# model = RandomForestClassifier(n_estimators= 100, max_depth=20, n_jobs=-1)\n",
    "# model_label = 'Bigram_RF'\n",
    "\n",
    "\n",
    "# model_score(model, X_train_bi, X_test_bi, y_train, y_test, score_df, model_label)\n",
    "# cv_score(model, X_train_bi, y_train, model_label)\n",
    "# score_df"
   ]
  },
  {
   "cell_type": "code",
   "execution_count": 30,
   "metadata": {},
   "outputs": [],
   "source": [
    "# score_df"
   ]
  },
  {
   "cell_type": "markdown",
   "metadata": {},
   "source": [
    "### Tri-gram"
   ]
  },
  {
   "cell_type": "code",
   "execution_count": 31,
   "metadata": {},
   "outputs": [
    {
     "name": "stdout",
     "output_type": "stream",
     "text": [
      "Wall time: 1min 33s\n"
     ]
    }
   ],
   "source": [
    "%%time\n",
    "X_train_tri, X_test_tri=  vect_trans(CountVectorizer(ngram_range=(1,3), stop_words=stopwords), X_train, X_test)"
   ]
  },
  {
   "cell_type": "markdown",
   "metadata": {},
   "source": [
    "Naive Bayes"
   ]
  },
  {
   "cell_type": "code",
   "execution_count": 32,
   "metadata": {},
   "outputs": [
    {
     "name": "stdout",
     "output_type": "stream",
     "text": [
      "Train Accuracy : 0.9879398646986345\n",
      "Test Accuracy: 0.9447770655772346\n",
      "Test F1 score: 0.2719638242894057\n",
      "Test Accuracy Mean: 0.9449464117400644\n",
      "Test Accuracy STD: 0.0004286953649944555\n",
      "Test F1: 0.5084657241073491\n"
     ]
    },
    {
     "data": {
      "text/html": [
       "<div>\n",
       "<style scoped>\n",
       "    .dataframe tbody tr th:only-of-type {\n",
       "        vertical-align: middle;\n",
       "    }\n",
       "\n",
       "    .dataframe tbody tr th {\n",
       "        vertical-align: top;\n",
       "    }\n",
       "\n",
       "    .dataframe thead th {\n",
       "        text-align: right;\n",
       "    }\n",
       "</style>\n",
       "<table border=\"1\" class=\"dataframe\">\n",
       "  <thead>\n",
       "    <tr style=\"text-align: right;\">\n",
       "      <th></th>\n",
       "      <th>Test_Accuracy</th>\n",
       "      <th>Test_F1_score</th>\n",
       "      <th>CV_Accuracy</th>\n",
       "      <th>CV_Acc_STD</th>\n",
       "      <th>CV_F1_score</th>\n",
       "    </tr>\n",
       "  </thead>\n",
       "  <tbody>\n",
       "    <tr>\n",
       "      <th>Raw_token_NB</th>\n",
       "      <td>0.934414</td>\n",
       "      <td>0.564609</td>\n",
       "      <td>0.932161</td>\n",
       "      <td>0.000523</td>\n",
       "      <td>0.548922</td>\n",
       "    </tr>\n",
       "    <tr>\n",
       "      <th>Token_NB</th>\n",
       "      <td>0.937249</td>\n",
       "      <td>0.556378</td>\n",
       "      <td>0.932654</td>\n",
       "      <td>0.000460</td>\n",
       "      <td>0.530663</td>\n",
       "    </tr>\n",
       "    <tr>\n",
       "      <th>Bigram_NB</th>\n",
       "      <td>0.947236</td>\n",
       "      <td>0.396511</td>\n",
       "      <td>0.944596</td>\n",
       "      <td>0.000387</td>\n",
       "      <td>0.481251</td>\n",
       "    </tr>\n",
       "    <tr>\n",
       "      <th>Trigram_NB</th>\n",
       "      <td>0.944777</td>\n",
       "      <td>0.271964</td>\n",
       "      <td>0.944946</td>\n",
       "      <td>0.000429</td>\n",
       "      <td>0.508466</td>\n",
       "    </tr>\n",
       "  </tbody>\n",
       "</table>\n",
       "</div>"
      ],
      "text/plain": [
       "              Test_Accuracy  Test_F1_score  CV_Accuracy  CV_Acc_STD  \\\n",
       "Raw_token_NB       0.934414       0.564609     0.932161    0.000523   \n",
       "Token_NB           0.937249       0.556378     0.932654    0.000460   \n",
       "Bigram_NB          0.947236       0.396511     0.944596    0.000387   \n",
       "Trigram_NB         0.944777       0.271964     0.944946    0.000429   \n",
       "\n",
       "              CV_F1_score  \n",
       "Raw_token_NB     0.548922  \n",
       "Token_NB         0.530663  \n",
       "Bigram_NB        0.481251  \n",
       "Trigram_NB       0.508466  "
      ]
     },
     "execution_count": 32,
     "metadata": {},
     "output_type": "execute_result"
    }
   ],
   "source": [
    "model = MultinomialNB()\n",
    "model_label = 'Trigram_NB'\n",
    "X_train_arg = X_train_tri\n",
    "X_test_arg = X_test_tri\n",
    "\n",
    "model_score(model, X_train_arg, X_test_arg, y_train, y_test, score_df, model_label)\n",
    "cv_score(model, X_train_arg, y_train, model_label)\n",
    "score_df"
   ]
  },
  {
   "cell_type": "markdown",
   "metadata": {},
   "source": [
    "Random Forest"
   ]
  },
  {
   "cell_type": "code",
   "execution_count": 33,
   "metadata": {},
   "outputs": [],
   "source": [
    "# %%time\n",
    "# model = RandomForestClassifier(n_estimators= 100, max_depth=20, n_jobs=-1)\n",
    "# model_label = 'Trigram_RF'\n",
    "\n",
    "# model_score(model, X_train_tri, X_test_tri, y_train, y_test, score_df, model_label)\n",
    "# cv_score(model, X_train_tri, y_train, model_label)\n"
   ]
  },
  {
   "cell_type": "code",
   "execution_count": 34,
   "metadata": {},
   "outputs": [],
   "source": [
    "# score_df"
   ]
  },
  {
   "cell_type": "markdown",
   "metadata": {},
   "source": [
    "### GridSearch min/max df"
   ]
  },
  {
   "cell_type": "code",
   "execution_count": 35,
   "metadata": {},
   "outputs": [],
   "source": [
    "# params = {'CV__max_df':(1.0, 0.9),\n",
    "#        'CV__min_df': (1, 2, 0.01, 0.02),\n",
    "#         'CV__ngram_range':((1,1), (1,2), (1,3))}\n",
    "\n",
    "# gridcv(pipeCVNB, X_train, y_train, params)"
   ]
  },
  {
   "cell_type": "code",
   "execution_count": 36,
   "metadata": {},
   "outputs": [],
   "source": [
    "# %%time\n",
    "# X_train_t, X_test_t=  vect_trans(CountVectorizer(max_df=1.0, min_df=1, ngram_range=(1,2), \n",
    "#                                                     stop_words=stopwords), X_train, X_test)"
   ]
  },
  {
   "cell_type": "code",
   "execution_count": 37,
   "metadata": {},
   "outputs": [],
   "source": [
    "# model = MultinomialNB()\n",
    "# model_label = 'Grid_DFNB'\n",
    "\n",
    "# model_score(model, X_train_t, X_test_t, y_train, y_test, score_df, model_label)\n",
    "# cv_score(model, X_train_t, y_train, model_label)\n",
    "# score_df"
   ]
  },
  {
   "cell_type": "markdown",
   "metadata": {},
   "source": [
    "### TFIDF"
   ]
  },
  {
   "cell_type": "code",
   "execution_count": 249,
   "metadata": {},
   "outputs": [],
   "source": [
    "X_train_tf_t, X_test_tf_t = vect_trans(TfidfTransformer(), X_train_t, X_test_t)"
   ]
  },
  {
   "cell_type": "code",
   "execution_count": 250,
   "metadata": {},
   "outputs": [
    {
     "name": "stdout",
     "output_type": "stream",
     "text": [
      "Train Accuracy : 0.9430742013758804\n",
      "Test Accuracy: 0.941714569213949\n",
      "Test F1 score: 0.14731182795698924\n",
      "Test Accuracy Mean: 0.9404169704054887\n",
      "Test Accuracy STD: 0.00015593287984500654\n",
      "Test F1: 0.11164182032179673\n"
     ]
    },
    {
     "data": {
      "text/html": [
       "<div>\n",
       "<style scoped>\n",
       "    .dataframe tbody tr th:only-of-type {\n",
       "        vertical-align: middle;\n",
       "    }\n",
       "\n",
       "    .dataframe tbody tr th {\n",
       "        vertical-align: top;\n",
       "    }\n",
       "\n",
       "    .dataframe thead th {\n",
       "        text-align: right;\n",
       "    }\n",
       "</style>\n",
       "<table border=\"1\" class=\"dataframe\">\n",
       "  <thead>\n",
       "    <tr style=\"text-align: right;\">\n",
       "      <th></th>\n",
       "      <th>Test_Accuracy</th>\n",
       "      <th>Test_F1_score</th>\n",
       "      <th>CV_Accuracy</th>\n",
       "      <th>CV_Acc_STD</th>\n",
       "      <th>CV_F1_score</th>\n",
       "    </tr>\n",
       "  </thead>\n",
       "  <tbody>\n",
       "    <tr>\n",
       "      <th>Raw_token_NB</th>\n",
       "      <td>0.934414</td>\n",
       "      <td>0.564609</td>\n",
       "      <td>0.932161</td>\n",
       "      <td>0.000523</td>\n",
       "      <td>0.548922</td>\n",
       "    </tr>\n",
       "    <tr>\n",
       "      <th>Token_NB</th>\n",
       "      <td>0.937249</td>\n",
       "      <td>0.556378</td>\n",
       "      <td>0.932654</td>\n",
       "      <td>0.000460</td>\n",
       "      <td>0.530663</td>\n",
       "    </tr>\n",
       "    <tr>\n",
       "      <th>Bigram_NB</th>\n",
       "      <td>0.947236</td>\n",
       "      <td>0.396511</td>\n",
       "      <td>0.944596</td>\n",
       "      <td>0.000387</td>\n",
       "      <td>0.481251</td>\n",
       "    </tr>\n",
       "    <tr>\n",
       "      <th>Trigram_NB</th>\n",
       "      <td>0.944777</td>\n",
       "      <td>0.271964</td>\n",
       "      <td>0.944946</td>\n",
       "      <td>0.000429</td>\n",
       "      <td>0.508466</td>\n",
       "    </tr>\n",
       "    <tr>\n",
       "      <th>Tfidf_t_NB</th>\n",
       "      <td>0.941715</td>\n",
       "      <td>0.147312</td>\n",
       "      <td>0.940417</td>\n",
       "      <td>0.000156</td>\n",
       "      <td>0.111642</td>\n",
       "    </tr>\n",
       "    <tr>\n",
       "      <th>Bigram_best_NB</th>\n",
       "      <td>0.937380</td>\n",
       "      <td>0.555924</td>\n",
       "      <td>0.933358</td>\n",
       "      <td>0.000472</td>\n",
       "      <td>0.533960</td>\n",
       "    </tr>\n",
       "    <tr>\n",
       "      <th>Trigram_best_NB</th>\n",
       "      <td>0.937387</td>\n",
       "      <td>0.555809</td>\n",
       "      <td>0.933376</td>\n",
       "      <td>0.000463</td>\n",
       "      <td>0.534021</td>\n",
       "    </tr>\n",
       "    <tr>\n",
       "      <th>Bigram_best_NB2</th>\n",
       "      <td>0.936706</td>\n",
       "      <td>0.554652</td>\n",
       "      <td>0.932790</td>\n",
       "      <td>0.000515</td>\n",
       "      <td>0.533269</td>\n",
       "    </tr>\n",
       "    <tr>\n",
       "      <th>Trigram_best_NB2</th>\n",
       "      <td>0.936729</td>\n",
       "      <td>0.554525</td>\n",
       "      <td>0.932825</td>\n",
       "      <td>0.000510</td>\n",
       "      <td>0.533363</td>\n",
       "    </tr>\n",
       "  </tbody>\n",
       "</table>\n",
       "</div>"
      ],
      "text/plain": [
       "                  Test_Accuracy  Test_F1_score  CV_Accuracy  CV_Acc_STD  \\\n",
       "Raw_token_NB           0.934414       0.564609     0.932161    0.000523   \n",
       "Token_NB               0.937249       0.556378     0.932654    0.000460   \n",
       "Bigram_NB              0.947236       0.396511     0.944596    0.000387   \n",
       "Trigram_NB             0.944777       0.271964     0.944946    0.000429   \n",
       "Tfidf_t_NB             0.941715       0.147312     0.940417    0.000156   \n",
       "Bigram_best_NB         0.937380       0.555924     0.933358    0.000472   \n",
       "Trigram_best_NB        0.937387       0.555809     0.933376    0.000463   \n",
       "Bigram_best_NB2        0.936706       0.554652     0.932790    0.000515   \n",
       "Trigram_best_NB2       0.936729       0.554525     0.932825    0.000510   \n",
       "\n",
       "                  CV_F1_score  \n",
       "Raw_token_NB         0.548922  \n",
       "Token_NB             0.530663  \n",
       "Bigram_NB            0.481251  \n",
       "Trigram_NB           0.508466  \n",
       "Tfidf_t_NB           0.111642  \n",
       "Bigram_best_NB       0.533960  \n",
       "Trigram_best_NB      0.534021  \n",
       "Bigram_best_NB2      0.533269  \n",
       "Trigram_best_NB2     0.533363  "
      ]
     },
     "execution_count": 250,
     "metadata": {},
     "output_type": "execute_result"
    }
   ],
   "source": [
    "model = MultinomialNB()\n",
    "model_label = 'Tfidf_t_NB'\n",
    "\n",
    "y_pp_temp = model_score(model, X_train_tf_t , X_test_tf_t, y_train, y_test, score_df, model_label)\n",
    "cv_score(model, X_train_tf_t, y_train, model_label)\n",
    "score_df"
   ]
  },
  {
   "cell_type": "code",
   "execution_count": 251,
   "metadata": {},
   "outputs": [
    {
     "data": {
      "text/html": [
       "<div>\n",
       "<style scoped>\n",
       "    .dataframe tbody tr th:only-of-type {\n",
       "        vertical-align: middle;\n",
       "    }\n",
       "\n",
       "    .dataframe tbody tr th {\n",
       "        vertical-align: top;\n",
       "    }\n",
       "\n",
       "    .dataframe thead th {\n",
       "        text-align: right;\n",
       "    }\n",
       "</style>\n",
       "<table border=\"1\" class=\"dataframe\">\n",
       "  <thead>\n",
       "    <tr style=\"text-align: right;\">\n",
       "      <th></th>\n",
       "      <th>tfidf_class_0_pp</th>\n",
       "      <th>tfidf_class_1_pp</th>\n",
       "    </tr>\n",
       "  </thead>\n",
       "  <tbody>\n",
       "    <tr>\n",
       "      <th>0</th>\n",
       "      <td>0.999497</td>\n",
       "      <td>0.000503</td>\n",
       "    </tr>\n",
       "    <tr>\n",
       "      <th>1</th>\n",
       "      <td>0.988978</td>\n",
       "      <td>0.011022</td>\n",
       "    </tr>\n",
       "    <tr>\n",
       "      <th>2</th>\n",
       "      <td>0.904789</td>\n",
       "      <td>0.095211</td>\n",
       "    </tr>\n",
       "    <tr>\n",
       "      <th>3</th>\n",
       "      <td>0.997957</td>\n",
       "      <td>0.002043</td>\n",
       "    </tr>\n",
       "    <tr>\n",
       "      <th>4</th>\n",
       "      <td>0.700050</td>\n",
       "      <td>0.299950</td>\n",
       "    </tr>\n",
       "  </tbody>\n",
       "</table>\n",
       "</div>"
      ],
      "text/plain": [
       "   tfidf_class_0_pp  tfidf_class_1_pp\n",
       "0          0.999497          0.000503\n",
       "1          0.988978          0.011022\n",
       "2          0.904789          0.095211\n",
       "3          0.997957          0.002043\n",
       "4          0.700050          0.299950"
      ]
     },
     "execution_count": 251,
     "metadata": {},
     "output_type": "execute_result"
    }
   ],
   "source": [
    "Y_pp_tfidf = pd.DataFrame(y_pp_temp, columns=['tfidf_class_0_pp','tfidf_class_1_pp'])\n",
    "Y_pp_tfidf.head() "
   ]
  },
  {
   "cell_type": "code",
   "execution_count": 40,
   "metadata": {
    "scrolled": true
   },
   "outputs": [
    {
     "name": "stdout",
     "output_type": "stream",
     "text": [
      "train score: 0.9430742013758804\n",
      "test score: 0.941714569213949\n"
     ]
    }
   ],
   "source": [
    "nb = MultinomialNB()\n",
    "nb.fit(X_train_tf_t, y_train)  \n",
    "test_score =  nb.score(X_test_tf_t, y_test)\n",
    "print('train score:', nb.score(X_train_tf_t, y_train))\n",
    "print('test score:', test_score)\n",
    "y_pred = nb.predict(X_test_tf_t)"
   ]
  },
  {
   "cell_type": "code",
   "execution_count": 41,
   "metadata": {},
   "outputs": [
    {
     "name": "stdout",
     "output_type": "stream",
     "text": [
      "0.14731182795698924\n",
      "0.5585689211985624\n",
      "0.941714569213949\n",
      "0.9189357341619414\n"
     ]
    },
    {
     "data": {
      "text/plain": [
       "array([[305855,    473],\n",
       "       [ 18559,   1644]], dtype=int64)"
      ]
     },
     "execution_count": 41,
     "metadata": {},
     "output_type": "execute_result"
    }
   ],
   "source": [
    "print(f1_score(y_test, y_pred) )\n",
    "print(f1_score(y_test, y_pred, average='macro') )\n",
    "print(f1_score(y_test, y_pred, average='micro') )\n",
    "print(f1_score(y_test, y_pred, average='weighted') )\n",
    "confusion_matrix(y_test, y_pred)"
   ]
  },
  {
   "cell_type": "code",
   "execution_count": null,
   "metadata": {},
   "outputs": [],
   "source": []
  },
  {
   "cell_type": "markdown",
   "metadata": {},
   "source": [
    "### NLTK Best Bigrams"
   ]
  },
  {
   "cell_type": "code",
   "execution_count": 42,
   "metadata": {},
   "outputs": [],
   "source": [
    "# recreate text using ngrams\n",
    "def ngram_to_corpus(data, ngram_list, n):\n",
    "#     ngram_list = set({('let', 'us'), ('as', 'soon')})  # {('let', 'us'), ('as', 'soon')}\n",
    "#     tokens = ['please', 'let', 'us', 'know', 'as', 'soon', 'as', 'possible']\n",
    "    new_data = []\n",
    "    for text in data:\n",
    "        tokens = nltk.word_tokenize(text)\n",
    "        output = []\n",
    "        q_iter = iter(range(len(tokens)))\n",
    "        \n",
    "        for idx in q_iter:\n",
    "            output.append(tokens[idx])\n",
    "            if n == 2:\n",
    "                if idx < (len(tokens) - 1) and (tokens[idx], tokens[idx+1]) in ngram_list:\n",
    "                    output[-1] += '_' + tokens[idx+1]\n",
    "                    next(q_iter)\n",
    "            elif n == 3:\n",
    "                if idx < (len(tokens) - 2) and (tokens[idx], tokens[idx+1], tokens[idx+2] ) in ngram_list:\n",
    "                    output[-1] += '_' + tokens[idx+1] + '_' + tokens[idx+2]\n",
    "                    next(q_iter)\n",
    "                    next(q_iter)\n",
    "        new_data.append( ' '.join(output))\n",
    "\n",
    "    return new_data"
   ]
  },
  {
   "cell_type": "code",
   "execution_count": 43,
   "metadata": {},
   "outputs": [
    {
     "name": "stdout",
     "output_type": "stream",
     "text": [
      "Wall time: 1min 52s\n"
     ]
    }
   ],
   "source": [
    "%%time\n",
    "# create one list of all question tokens\n",
    "full_text = []\n",
    "\n",
    "for text in X_train:\n",
    "    full_text += [w for w in nltk.word_tokenize(text) if w not in stopwords]"
   ]
  },
  {
   "cell_type": "code",
   "execution_count": 44,
   "metadata": {},
   "outputs": [
    {
     "data": {
      "text/plain": [
       "6384395"
      ]
     },
     "execution_count": 44,
     "metadata": {},
     "output_type": "execute_result"
    }
   ],
   "source": [
    "len(full_text)"
   ]
  },
  {
   "cell_type": "code",
   "execution_count": 45,
   "metadata": {},
   "outputs": [],
   "source": [
    "if 'would' in stopwords:\n",
    "    print(True)"
   ]
  },
  {
   "cell_type": "code",
   "execution_count": 46,
   "metadata": {
    "scrolled": true
   },
   "outputs": [
    {
     "name": "stdout",
     "output_type": "stream",
     "text": [
      "[('ca', \"n't\"), ('united', 'states'), ('year', 'old'), ('best', 'way'), ('donald', 'trump'), ('computer', 'science'), ('even', 'though'), ('high', 'school'), ('social', 'media'), ('would', 'happen'), ('north', 'korea'), ('pros', 'cons'), ('get', 'rid'), ('major', 'accomplishments'), ('jee', 'mains'), ('look', 'like'), ('wo', \"n't\"), ('would', 'win'), ('x', 'x'), ('new', 'york'), ('machine', 'learning'), ('harry', 'potter'), ('years', 'old'), ('real', 'estate'), ('ssc', 'cgl'), ('long', 'take'), ('saudi', 'arabia'), ('feel', 'like'), ('star', 'wars'), ('long', 'term'), ('mechanical', 'engineering'), ('elon', 'musk'), ('tv', 'show'), ('e', 'g'), ('hillary', 'clinton'), ('hong', 'kong'), ('tamil', 'nadu'), ('short', 'term'), ('useful', 'tips'), ('president', 'trump'), ('san', 'francisco'), ('b', 'tech'), ('artificial', 'intelligence'), ('prime', 'minister'), ('different', 'types'), ('tv', 'series'), ('years', 'ago'), ('credit', 'card'), ('literary', 'devices'), ('narendra', 'modi'), ('new', 'zealand'), ('digital', 'marketing'), ('many', 'people'), ('los', 'angeles'), ('win', 'fight'), ('get', 'job'), ('someone', 'else'), ('middle', 'east'), ('vice', 'versa'), ('stock', 'market'), ('kim', 'jong'), ('jee', 'advanced'), ('earn', 'money'), ('mental', 'illness'), ('civil', 'engineering'), ('advantages', 'disadvantages'), ('real', 'life'), ('lose', 'weight'), ('make', 'money'), ('much', 'money'), ('chances', 'getting'), (\"n't\", 'want'), ('youtube', 'channel'), ('programming', 'language'), ('south', 'korea'), ('south', 'africa'), ('jong', 'un'), ('hotels', 'short'), ('get', 'admission'), ('best', 'ways')]\n",
      "Wall time: 50.9 s\n"
     ]
    }
   ],
   "source": [
    "%%time\n",
    "# create bigram vocabulary\n",
    "bigram_measures = collocations.BigramAssocMeasures()\n",
    "\n",
    "finder = nltk.BigramCollocationFinder.from_words(full_text)\n",
    "# scored = finder.score_ngrams( bigram_measures.likelihood_ratio  )\n",
    "bigram_lkhd = finder.nbest(bigram_measures.likelihood_ratio, 80)\n",
    "print(bigram_lkhd)"
   ]
  },
  {
   "cell_type": "code",
   "execution_count": 47,
   "metadata": {
    "scrolled": true
   },
   "outputs": [
    {
     "name": "stdout",
     "output_type": "stream",
     "text": [
      "[('schr', 'dinger'), ('pepto', 'bismol'), ('michio', 'kaku'), ('muhoozi', 'kainerugaba'), ('neman', 'ashraf'), ('roald', 'dahl'), ('rudyard', 'kipling'), ('avada', 'kedavra'), ('aam', 'aadmi'), ('buenos', 'aires'), ('jaggi', 'vasudev'), ('disha', 'patani'), ('ronda', 'rousey'), ('abercrombie', 'fitch'), ('mosin', 'nagant'), ('zaira', 'wasim'), ('endoplasmic', 'reticulum'), ('deng', 'xiaoping'), ('gilgit', 'baltistan'), ('nathuram', 'godse'), ('sushma', 'swaraj'), ('jiang', 'zemin'), ('vande', 'mataram'), ('meryl', 'streep'), ('pakatan', 'harapan'), ('asim', 'qureshi'), ('sylvia', 'plath'), ('lata', 'mangeshkar'), ('kalpit', 'veerwal'), ('dima', 'vorobiev'), ('sindhu', 'satish'), ('pradhan', 'mantri'), ('aldous', 'huxley'), ('narsee', 'monjee'), ('ulcerative', 'colitis'), ('gauri', 'lankesh'), ('hadron', 'collider'), ('ballon', \"d'or\"), ('jiu', 'jitsu'), ('shel', 'silverstein'), ('mitt', 'romney'), ('khaled', 'hosseini'), ('petyr', 'baelish'), ('sourav', 'ganguly'), ('satoshi', 'nakamoto'), ('satya', 'nadella'), ('agatha', 'christie'), ('tubal', 'ligation'), ('jules', 'verne'), ('jimi', 'hendrix'), ('smriti', 'irani'), ('raghuram', 'rajan'), ('klux', 'klan'), ('shweta', 'shalini'), ('yoko', 'ono'), ('lingua', 'franca'), ('nigel', 'farage'), ('scooby', 'doo'), ('snoop', 'dogg'), ('jorah', 'mormont'), ('tic', 'tac'), ('forrest', 'gump'), ('scarlett', 'johansson'), ('nicki', 'minaj'), ('hrithik', 'roshan'), ('stony', 'brook'), ('trinidad', 'tobago'), ('dushka', 'zapata'), ('shinzo', 'abe'), ('nath', 'kovind'), ('fran', 'ois'), ('magna', 'carta'), ('rudy', 'giuliani'), ('kendriya', 'vidyalaya'), ('barkha', 'dutt'), ('chester', 'bennington'), ('falun', 'gong'), ('rabindranath', 'tagore'), ('vinay', 'kumaran'), ('arsene', 'wenger'), ('hafiz', 'saeed'), ('reza', 'pahlavi'), ('granth', 'sahib'), ('dawood', 'ibrahim'), ('ajit', 'pai'), ('notre', 'dame'), ('sergey', 'brin'), ('ravindrababu', 'ravula'), ('tsar', 'bomba'), ('mustafa', 'kemal'), ('waldo', 'emerson'), ('che', 'guevara'), ('kendrick', 'lamar'), ('elke', 'weiss'), ('mein', 'kampf'), ('sandeep', 'maheshwari'), ('kellyanne', 'conway'), ('britney', 'spears'), ('magnus', 'carlsen'), ('alia', 'bhatt'), ('mace', 'windu'), ('deathly', 'hallows'), ('spongebob', 'squarepants'), ('kyrie', 'irving'), ('winnie', 'pooh'), ('looney', 'tunes'), ('lex', 'luthor'), ('shawshank', 'redemption'), ('hannibal', 'lecter'), ('boba', 'fett'), ('lois', 'lowry'), ('terence', 'tao'), ('zack', 'snyder'), ('dalai', 'lama'), ('aurora', 'borealis'), ('brock', 'lesnar'), ('krav', 'maga'), ('nawaz', 'sharif'), ('milo', 'yiannopoulos'), ('zakir', 'naik'), ('noam', 'chomsky'), ('hans', 'zimmer'), ('fullmetal', 'alchemist'), ('hugh', 'hefner'), ('mar', 'lago'), ('sundar', 'pichai'), ('tel', 'aviv'), ('berkshire', 'hathaway'), ('chiang', 'mai'), ('stephenie', 'meyer'), ('ku', 'klux'), ('fidel', 'castro'), ('oprah', 'winfrey'), ('subramanian', 'swamy'), ('shashi', 'tharoor'), ('kj', 'somaiya'), ('miley', 'cyrus'), ('burj', 'khalifa'), ('travis', 'kalanick'), ('muammar', 'gaddafi'), ('paulo', 'coelho'), ('atat', 'rk'), ('ralph', 'waldo'), ('karni', 'sena'), ('kurt', 'cobain'), ('peyton', 'manning'), ('catcher', 'rye'), ('moderated', 'caucus'), ('ariana', 'grande'), ('acm', 'icpc'), ('otto', 'warmbier'), ('ivan', 'tregear'), ('dhinchak', 'pooja'), ('solitary', 'confinement'), ('bosnia', 'herzegovina'), ('ku', 'leuven'), ('mitch', 'mcconnell'), ('andaman', 'nicobar'), ('majin', 'buu'), ('consiglio', 'devastations'), ('monte', 'carlo'), ('habib', 'fanny'), ('kulbhushan', 'jadhav'), ('brad', 'pitt'), ('bunsen', 'burner'), ('shin', 'splints'), ('netaji', 'subhash'), ('aishwarya', 'rai'), ('selena', 'gomez'), ('truman', 'capote'), ('dennis', 'rodman'), ('euron', 'greyjoy'), ('deepika', 'padukone'), ('tipu', 'sultan'), ('jill', 'stein'), ('julian', 'assange'), ('martian', 'manhunter'), ('katrina', 'kaif'), ('arnab', 'goswami'), ('maya', 'angelou'), ('conor', 'mcgregor'), ('kung', 'fu'), ('amitabh', 'bachchan'), ('sergei', 'skripal'), ('arun', 'jaitley'), ('ping', 'pong'), ('marilyn', 'monroe'), ('palo', 'alto'), ('nikki', 'haley'), ('sigmund', 'freud'), ('pawan', 'kalyan'), ('ayn', 'rand'), ('millia', 'islamia'), ('nova', 'scotia'), ('degrasse', 'tyson'), ('inguinal', 'hernia'), ('buzz', 'aldrin'), ('kemal', 'ataturk'), ('rachel', 'maddow'), ('alfie', 'evans')]\n",
      "Wall time: 18.2 s\n"
     ]
    }
   ],
   "source": [
    "%%time\n",
    "# create bigram vocabulary\n",
    "bigram_measures = collocations.BigramAssocMeasures()\n",
    "\n",
    "\n",
    "finder = nltk.BigramCollocationFinder.from_words(full_text)\n",
    "finder.apply_freq_filter(10)\n",
    "bigram_pmi = finder.nbest(bigram_measures.pmi, 200)\n",
    "print(bigram_pmi)"
   ]
  },
  {
   "cell_type": "code",
   "execution_count": 48,
   "metadata": {},
   "outputs": [],
   "source": [
    "bigram_vocab = list(set(bigram_lkhd + bigram_pmi))"
   ]
  },
  {
   "cell_type": "code",
   "execution_count": 49,
   "metadata": {},
   "outputs": [
    {
     "data": {
      "text/plain": [
       "280"
      ]
     },
     "execution_count": 49,
     "metadata": {},
     "output_type": "execute_result"
    }
   ],
   "source": [
    "len(bigram_vocab)"
   ]
  },
  {
   "cell_type": "code",
   "execution_count": 50,
   "metadata": {},
   "outputs": [
    {
     "name": "stdout",
     "output_type": "stream",
     "text": [
      "[('ca', \"n't\", 'want'), ('ca', \"n't\", 'know'), ('ca', \"n't\", 'like'), ('ca', \"n't\", 'see'), ('ca', \"n't\", 'understand'), ('ca', \"n't\", 'care'), ('ca', \"n't\", 'afford'), ('ca', \"n't\", 'even'), ('ca', \"n't\", 'get'), ('ca', \"n't\", 'seem'), ('ca', \"n't\", 'find'), ('ca', \"n't\", 'feel'), ('ca', \"n't\", 'exist'), ('ca', \"n't\", 'believe'), ('ca', \"n't\", 'remember'), ('ca', \"n't\", 'let'), ('ca', \"n't\", 'stop'), ('ca', \"n't\", \"'s\"), ('ca', \"n't\", 'talk'), ('ca', \"n't\", 'think'), ('ca', \"n't\", 'would'), ('ca', \"n't\", 'use'), ('ca', \"n't\", 'best'), ('ca', \"n't\", 'speak'), ('ca', \"n't\", 'liberals'), ('ca', \"n't\", 'go'), ('ca', \"n't\", 'people'), ('even', 'ca', \"n't\"), ('ca', \"n't\", 'stand'), ('ca', \"n't\", 'give'), ('ca', \"n't\", 'need'), ('ca', \"n't\", 'accept'), ('ca', \"n't\", 'really'), ('best', 'ca', \"n't\"), ('ca', \"n't\", 'make'), ('ca', \"n't\", 'matter'), ('ca', \"n't\", 'realize'), ('ca', \"n't\", 'work'), ('ca', \"n't\", 'trust'), ('ca', \"n't\", 'allow')]\n",
      "Wall time: 8min 24s\n"
     ]
    }
   ],
   "source": [
    "%%time\n",
    "# create trigram vocabulary\n",
    "trigram_measures = collocations.TrigramAssocMeasures()\n",
    "finder = nltk.TrigramCollocationFinder.from_words(full_text)\n",
    "trigram_lkhd = finder.nbest(trigram_measures.likelihood_ratio, 40)\n",
    "print(trigram_lkhd)"
   ]
  },
  {
   "cell_type": "code",
   "execution_count": 51,
   "metadata": {},
   "outputs": [
    {
     "name": "stdout",
     "output_type": "stream",
     "text": [
      "[('ku', 'klux', 'klan'), ('atal', 'bihari', 'vajpayee'), ('ralph', 'waldo', 'emerson'), ('ravindra', 'babu', 'ravula'), ('edgar', 'allan', 'poe'), ('guru', 'granth', 'sahib'), ('tic', 'tac', 'toe'), ('netaji', 'subhash', 'chandra'), ('jamia', 'millia', 'islamia'), ('jamia', 'milia', 'islamia'), ('neil', 'degrasse', 'tyson'), ('subhash', 'chandra', 'bose'), ('apj', 'abdul', 'kalam'), ('osama', 'bin', 'laden'), ('lana', 'del', 'rey'), ('ho', 'chi', 'minh'), ('vincent', 'van', 'gogh'), ('ram', 'nath', 'kovind'), ('leonardo', 'da', 'vinci'), ('jar', 'jar', 'binks'), ('gurmeet', 'ram', 'rahim'), ('dr', 'vinay', 'kumaran'), ('yu', 'gi', 'oh'), ('grand', 'admiral', 'thrawn'), ('rio', 'de', 'janeiro'), ('obi', 'wan', 'kenobi'), ('sarah', 'huckabee', 'sanders'), ('iiit', 'naya', 'raipur'), ('aam', 'aadmi', 'party'), ('nvidia', 'geforce', 'gt'), ('walter', 'dean', 'myers'), ('icc', 'champions', 'trophy'), ('swollen', 'lymph', 'nodes'), ('aloe', 'vera', 'gel'), ('shah', 'rukh', 'khan'), ('bashar', 'al', 'assad'), ('irritable', 'bowel', 'syndrome'), ('fifty', 'shades', 'grey'), ('coveted', 'among', 'collectors'), ('ernest', 'w', 'adams')]\n",
      "Wall time: 39.7 s\n"
     ]
    }
   ],
   "source": [
    "%%time\n",
    "# create trigram vocabulary\n",
    "trigram_measures = collocations.TrigramAssocMeasures()\n",
    "finder = nltk.TrigramCollocationFinder.from_words(full_text)\n",
    "finder.apply_freq_filter(10)\n",
    "trigram_pmi = finder.nbest(trigram_measures.pmi, 40)\n",
    "print(trigram_pmi)"
   ]
  },
  {
   "cell_type": "code",
   "execution_count": 52,
   "metadata": {},
   "outputs": [
    {
     "data": {
      "text/plain": [
       "80"
      ]
     },
     "execution_count": 52,
     "metadata": {},
     "output_type": "execute_result"
    }
   ],
   "source": [
    "trigram_vocab = list(set(trigram_lkhd + trigram_pmi))\n",
    "len(trigram_vocab)"
   ]
  },
  {
   "cell_type": "code",
   "execution_count": 53,
   "metadata": {
    "scrolled": true
   },
   "outputs": [
    {
     "name": "stdout",
     "output_type": "stream",
     "text": [
      "Wall time: 3min 24s\n"
     ]
    }
   ],
   "source": [
    "%%time\n",
    "# create text with bigram replacement\n",
    "train['bigram_question_lkhd'] = ngram_to_corpus(clean_questions, bigram_vocab, 2)"
   ]
  },
  {
   "cell_type": "code",
   "execution_count": 54,
   "metadata": {},
   "outputs": [
    {
     "name": "stdout",
     "output_type": "stream",
     "text": [
      "Wall time: 5min 54s\n"
     ]
    }
   ],
   "source": [
    "%%time\n",
    "# create text with both tri and bigram in text, by applying trigram first\n",
    "train['trigram_question_lkhd'] = ngram_to_corpus(clean_questions, trigram_vocab, 3)\n",
    "train['trigram_question_lkhd'] = ngram_to_corpus(train['trigram_question_lkhd'], bigram_vocab, 2)"
   ]
  },
  {
   "cell_type": "code",
   "execution_count": 55,
   "metadata": {},
   "outputs": [
    {
     "data": {
      "text/plain": [
       "array(['know whether girl done sex sex',\n",
       "       'become fast learner professional career personal life',\n",
       "       'united_states become largest dictatorship world',\n",
       "       'strangest phenomenon know witnessed generated area electronics explanation terms modern physics',\n",
       "       'leave friends find new ones'], dtype=object)"
      ]
     },
     "execution_count": 55,
     "metadata": {},
     "output_type": "execute_result"
    }
   ],
   "source": [
    "train['trigram_question_lkhd'][20:25].values"
   ]
  },
  {
   "cell_type": "code",
   "execution_count": 56,
   "metadata": {},
   "outputs": [],
   "source": [
    "X = train[['bigram_question_lkhd','trigram_question_lkhd']]\n",
    "y = train.target"
   ]
  },
  {
   "cell_type": "code",
   "execution_count": 57,
   "metadata": {},
   "outputs": [],
   "source": [
    "X_train, X_test, y_train, y_test = train_test_split(X, y, stratify=y, random_state=495, test_size=0.2)"
   ]
  },
  {
   "cell_type": "code",
   "execution_count": 58,
   "metadata": {},
   "outputs": [
    {
     "data": {
      "text/plain": [
       "1044897"
      ]
     },
     "execution_count": 58,
     "metadata": {},
     "output_type": "execute_result"
    }
   ],
   "source": [
    "len(X_train)"
   ]
  },
  {
   "cell_type": "markdown",
   "metadata": {},
   "source": [
    "#### Bigram Model"
   ]
  },
  {
   "cell_type": "code",
   "execution_count": 59,
   "metadata": {},
   "outputs": [],
   "source": [
    "# model using bigram text\n",
    "X_train_bi, X_test_bi =  vect_trans(CountVectorizer(max_df=1.0,  min_df=1, ngram_range=(1,1), stop_words=stopwords),\n",
    "                                   X_train.bigram_question_lkhd, X_test.bigram_question_lkhd,)\n",
    "\n"
   ]
  },
  {
   "cell_type": "code",
   "execution_count": 60,
   "metadata": {},
   "outputs": [
    {
     "name": "stdout",
     "output_type": "stream",
     "text": [
      "Train Accuracy : 0.9384915450996606\n",
      "Test Accuracy: 0.9373796535553641\n",
      "Test F1 score: 0.5559235530459333\n",
      "Test Accuracy Mean: 0.9333580254775186\n",
      "Test Accuracy STD: 0.0004721084898449962\n",
      "Test F1: 0.5339598956292171\n"
     ]
    },
    {
     "data": {
      "text/html": [
       "<div>\n",
       "<style scoped>\n",
       "    .dataframe tbody tr th:only-of-type {\n",
       "        vertical-align: middle;\n",
       "    }\n",
       "\n",
       "    .dataframe tbody tr th {\n",
       "        vertical-align: top;\n",
       "    }\n",
       "\n",
       "    .dataframe thead th {\n",
       "        text-align: right;\n",
       "    }\n",
       "</style>\n",
       "<table border=\"1\" class=\"dataframe\">\n",
       "  <thead>\n",
       "    <tr style=\"text-align: right;\">\n",
       "      <th></th>\n",
       "      <th>Test_Accuracy</th>\n",
       "      <th>Test_F1_score</th>\n",
       "      <th>CV_Accuracy</th>\n",
       "      <th>CV_Acc_STD</th>\n",
       "      <th>CV_F1_score</th>\n",
       "    </tr>\n",
       "  </thead>\n",
       "  <tbody>\n",
       "    <tr>\n",
       "      <th>Raw_token_NB</th>\n",
       "      <td>0.934414</td>\n",
       "      <td>0.564609</td>\n",
       "      <td>0.932161</td>\n",
       "      <td>0.000523</td>\n",
       "      <td>0.548922</td>\n",
       "    </tr>\n",
       "    <tr>\n",
       "      <th>Token_NB</th>\n",
       "      <td>0.937249</td>\n",
       "      <td>0.556378</td>\n",
       "      <td>0.932654</td>\n",
       "      <td>0.000460</td>\n",
       "      <td>0.530663</td>\n",
       "    </tr>\n",
       "    <tr>\n",
       "      <th>Bigram_NB</th>\n",
       "      <td>0.947236</td>\n",
       "      <td>0.396511</td>\n",
       "      <td>0.944596</td>\n",
       "      <td>0.000387</td>\n",
       "      <td>0.481251</td>\n",
       "    </tr>\n",
       "    <tr>\n",
       "      <th>Trigram_NB</th>\n",
       "      <td>0.944777</td>\n",
       "      <td>0.271964</td>\n",
       "      <td>0.944946</td>\n",
       "      <td>0.000429</td>\n",
       "      <td>0.508466</td>\n",
       "    </tr>\n",
       "    <tr>\n",
       "      <th>Tfidf_t_NB</th>\n",
       "      <td>0.941715</td>\n",
       "      <td>0.147312</td>\n",
       "      <td>0.940417</td>\n",
       "      <td>0.000156</td>\n",
       "      <td>0.111642</td>\n",
       "    </tr>\n",
       "    <tr>\n",
       "      <th>Bigram_best_NB</th>\n",
       "      <td>0.937380</td>\n",
       "      <td>0.555924</td>\n",
       "      <td>0.933358</td>\n",
       "      <td>0.000472</td>\n",
       "      <td>0.533960</td>\n",
       "    </tr>\n",
       "  </tbody>\n",
       "</table>\n",
       "</div>"
      ],
      "text/plain": [
       "                Test_Accuracy  Test_F1_score  CV_Accuracy  CV_Acc_STD  \\\n",
       "Raw_token_NB         0.934414       0.564609     0.932161    0.000523   \n",
       "Token_NB             0.937249       0.556378     0.932654    0.000460   \n",
       "Bigram_NB            0.947236       0.396511     0.944596    0.000387   \n",
       "Trigram_NB           0.944777       0.271964     0.944946    0.000429   \n",
       "Tfidf_t_NB           0.941715       0.147312     0.940417    0.000156   \n",
       "Bigram_best_NB       0.937380       0.555924     0.933358    0.000472   \n",
       "\n",
       "                CV_F1_score  \n",
       "Raw_token_NB       0.548922  \n",
       "Token_NB           0.530663  \n",
       "Bigram_NB          0.481251  \n",
       "Trigram_NB         0.508466  \n",
       "Tfidf_t_NB         0.111642  \n",
       "Bigram_best_NB     0.533960  "
      ]
     },
     "execution_count": 60,
     "metadata": {},
     "output_type": "execute_result"
    }
   ],
   "source": [
    "model = MultinomialNB()\n",
    "model_label = 'Bigram_best_NB'\n",
    "\n",
    "model_score(model, X_train_bi, X_test_bi, y_train, y_test, score_df, model_label)\n",
    "cv_score(model, X_train_bi, y_train, model_label)\n",
    "score_df"
   ]
  },
  {
   "cell_type": "markdown",
   "metadata": {},
   "source": [
    "#### Trigram Model"
   ]
  },
  {
   "cell_type": "code",
   "execution_count": 61,
   "metadata": {},
   "outputs": [],
   "source": [
    "# model using bigram text\n",
    "X_train_tri, X_test_tri =  vect_trans(CountVectorizer(max_df=1.0,  min_df=1, ngram_range=(1,1), stop_words=stopwords),\n",
    "                                   X_train.trigram_question_lkhd, X_test.trigram_question_lkhd)\n",
    "\n"
   ]
  },
  {
   "cell_type": "code",
   "execution_count": 62,
   "metadata": {},
   "outputs": [
    {
     "name": "stdout",
     "output_type": "stream",
     "text": [
      "Train Accuracy : 0.9385279123205446\n",
      "Test Accuracy: 0.9373873097904105\n",
      "Test F1 score: 0.5558090272119929\n",
      "Test Accuracy Mean: 0.9333762090265946\n",
      "Test Accuracy STD: 0.0004630339130321128\n",
      "Test F1: 0.5340212053298803\n"
     ]
    },
    {
     "data": {
      "text/html": [
       "<div>\n",
       "<style scoped>\n",
       "    .dataframe tbody tr th:only-of-type {\n",
       "        vertical-align: middle;\n",
       "    }\n",
       "\n",
       "    .dataframe tbody tr th {\n",
       "        vertical-align: top;\n",
       "    }\n",
       "\n",
       "    .dataframe thead th {\n",
       "        text-align: right;\n",
       "    }\n",
       "</style>\n",
       "<table border=\"1\" class=\"dataframe\">\n",
       "  <thead>\n",
       "    <tr style=\"text-align: right;\">\n",
       "      <th></th>\n",
       "      <th>Test_Accuracy</th>\n",
       "      <th>Test_F1_score</th>\n",
       "      <th>CV_Accuracy</th>\n",
       "      <th>CV_Acc_STD</th>\n",
       "      <th>CV_F1_score</th>\n",
       "    </tr>\n",
       "  </thead>\n",
       "  <tbody>\n",
       "    <tr>\n",
       "      <th>Raw_token_NB</th>\n",
       "      <td>0.934414</td>\n",
       "      <td>0.564609</td>\n",
       "      <td>0.932161</td>\n",
       "      <td>0.000523</td>\n",
       "      <td>0.548922</td>\n",
       "    </tr>\n",
       "    <tr>\n",
       "      <th>Token_NB</th>\n",
       "      <td>0.937249</td>\n",
       "      <td>0.556378</td>\n",
       "      <td>0.932654</td>\n",
       "      <td>0.000460</td>\n",
       "      <td>0.530663</td>\n",
       "    </tr>\n",
       "    <tr>\n",
       "      <th>Bigram_NB</th>\n",
       "      <td>0.947236</td>\n",
       "      <td>0.396511</td>\n",
       "      <td>0.944596</td>\n",
       "      <td>0.000387</td>\n",
       "      <td>0.481251</td>\n",
       "    </tr>\n",
       "    <tr>\n",
       "      <th>Trigram_NB</th>\n",
       "      <td>0.944777</td>\n",
       "      <td>0.271964</td>\n",
       "      <td>0.944946</td>\n",
       "      <td>0.000429</td>\n",
       "      <td>0.508466</td>\n",
       "    </tr>\n",
       "    <tr>\n",
       "      <th>Tfidf_t_NB</th>\n",
       "      <td>0.941715</td>\n",
       "      <td>0.147312</td>\n",
       "      <td>0.940417</td>\n",
       "      <td>0.000156</td>\n",
       "      <td>0.111642</td>\n",
       "    </tr>\n",
       "    <tr>\n",
       "      <th>Bigram_best_NB</th>\n",
       "      <td>0.937380</td>\n",
       "      <td>0.555924</td>\n",
       "      <td>0.933358</td>\n",
       "      <td>0.000472</td>\n",
       "      <td>0.533960</td>\n",
       "    </tr>\n",
       "    <tr>\n",
       "      <th>Trigram_best_NB</th>\n",
       "      <td>0.937387</td>\n",
       "      <td>0.555809</td>\n",
       "      <td>0.933376</td>\n",
       "      <td>0.000463</td>\n",
       "      <td>0.534021</td>\n",
       "    </tr>\n",
       "  </tbody>\n",
       "</table>\n",
       "</div>"
      ],
      "text/plain": [
       "                 Test_Accuracy  Test_F1_score  CV_Accuracy  CV_Acc_STD  \\\n",
       "Raw_token_NB          0.934414       0.564609     0.932161    0.000523   \n",
       "Token_NB              0.937249       0.556378     0.932654    0.000460   \n",
       "Bigram_NB             0.947236       0.396511     0.944596    0.000387   \n",
       "Trigram_NB            0.944777       0.271964     0.944946    0.000429   \n",
       "Tfidf_t_NB            0.941715       0.147312     0.940417    0.000156   \n",
       "Bigram_best_NB        0.937380       0.555924     0.933358    0.000472   \n",
       "Trigram_best_NB       0.937387       0.555809     0.933376    0.000463   \n",
       "\n",
       "                 CV_F1_score  \n",
       "Raw_token_NB        0.548922  \n",
       "Token_NB            0.530663  \n",
       "Bigram_NB           0.481251  \n",
       "Trigram_NB          0.508466  \n",
       "Tfidf_t_NB          0.111642  \n",
       "Bigram_best_NB      0.533960  \n",
       "Trigram_best_NB     0.534021  "
      ]
     },
     "execution_count": 62,
     "metadata": {},
     "output_type": "execute_result"
    }
   ],
   "source": [
    "model = MultinomialNB()\n",
    "model_label = 'Trigram_best_NB'\n",
    "\n",
    "model_score(model, X_train_tri, X_test_tri, y_train, y_test, score_df, model_label)\n",
    "cv_score(model, X_train_tri, y_train, model_label)\n",
    "score_df"
   ]
  },
  {
   "cell_type": "markdown",
   "metadata": {},
   "source": [
    "# Regenerate bi/trigrams after replacing previous ngrams"
   ]
  },
  {
   "cell_type": "code",
   "execution_count": 63,
   "metadata": {},
   "outputs": [
    {
     "name": "stdout",
     "output_type": "stream",
     "text": [
      "Wall time: 1min 55s\n"
     ]
    }
   ],
   "source": [
    "%%time\n",
    "full_text_ngrams = []\n",
    "\n",
    "for text in X_train.trigram_question_lkhd:\n",
    "    full_text_ngrams += [w for w in nltk.word_tokenize(text) if w not in stopwords]"
   ]
  },
  {
   "cell_type": "code",
   "execution_count": 64,
   "metadata": {},
   "outputs": [
    {
     "name": "stdout",
     "output_type": "stream",
     "text": [
      "[('ca_', \"n't\"), ('wo_', \"n't\"), (\"'s\", 'major_accomplishments'), ('hotels_short', 'term'), ('would_win', 'fight'), ('useful_tips', 'someone'), ('trump', 'supporters'), ('kim_jong', 'un'), ('global', 'warming'), ('take', 'consideration'), ('many', 'times'), ('game', 'thrones'), ('software', 'engineer'), ('black', 'hole'), ('bad', 'neighborhoods'), ('silicon', 'valley'), ('entrance', 'exam'), ('th', 'century'), ('business', 'travelers'), ('world', 'war'), ('west', 'bengal'), ('advice', 'would'), ('much', 'cost'), ('good', 'idea'), (\"n't\", 'know'), ('data', 'science'), ('civil', 'war'), ('bits', 'pilani'), ('supreme', 'court'), ('video', 'games'), ('las', 'vegas'), ('best', 'friend'), ('bank', 'account'), ('personality', 'disorder'), ('first', 'time'), ('lesser', 'known'), ('mechanical', 'engineer'), ('gordon', 'miller'), ('mutual', 'funds'), ('much', 'time')]\n",
      "Wall time: 59.5 s\n"
     ]
    }
   ],
   "source": [
    "%%time\n",
    "# create bigram vocabulary\n",
    "bigram_measures = collocations.BigramAssocMeasures()\n",
    "\n",
    "finder = nltk.BigramCollocationFinder.from_words(full_text_ngrams)\n",
    "# scored = finder.score_ngrams( bigram_measures.likelihood_ratio  )\n",
    "bigram_vocab = finder.nbest(bigram_measures.likelihood_ratio, 40)\n",
    "print(bigram_vocab)"
   ]
  },
  {
   "cell_type": "code",
   "execution_count": 65,
   "metadata": {},
   "outputs": [
    {
     "name": "stdout",
     "output_type": "stream",
     "text": [
      "[('controversial', 'events', 'mentioned'), ('borderline', 'personality', 'disorder'), ('consideration', 'writing', 'biography'), ('avengers', 'infinity', 'war'), ('lesser', 'known', 'facts'), ('hotels_short', 'term', 'business'), ('term', 'business', 'travelers'), ('manufacturing', 'process', 'improved'), ('rbi', 'grade', 'b'), ('fifa', 'world', 'cup'), ('tips', 'write', 'summary'), ('characters', 'change', 'throughout'), ('useful_tips', 'someone', 'starting'), ('good', 'hotels_short', 'term'), ('student', 'organizations', 'join'), ('useful_tips', 'students', 'starting'), ('writing', 'style', 'structure'), ('take', 'consideration', 'writing'), ('starting', 'first', 'semester'), ('download', 'test', 'bank')]\n",
      "Wall time: 41.7 s\n"
     ]
    }
   ],
   "source": [
    "%%time\n",
    "# create trigram vocabulary\n",
    "trigram_measures = collocations.TrigramAssocMeasures()\n",
    "finder = nltk.TrigramCollocationFinder.from_words(full_text_ngrams)\n",
    "finder.apply_freq_filter(100)\n",
    "trigram_vocab = finder.nbest(trigram_measures.pmi, 20)\n",
    "print(trigram_vocab)"
   ]
  },
  {
   "cell_type": "code",
   "execution_count": 66,
   "metadata": {
    "scrolled": true
   },
   "outputs": [
    {
     "name": "stdout",
     "output_type": "stream",
     "text": [
      "Wall time: 2min 25s\n"
     ]
    }
   ],
   "source": [
    "%%time\n",
    "# create text with bigram replacement\n",
    "train['bigram_question_2'] = ngram_to_corpus(clean_questions, bigram_vocab, 2)"
   ]
  },
  {
   "cell_type": "code",
   "execution_count": 67,
   "metadata": {},
   "outputs": [
    {
     "name": "stdout",
     "output_type": "stream",
     "text": [
      "Wall time: 4min 41s\n"
     ]
    }
   ],
   "source": [
    "%%time\n",
    "# create text with both tri and bigram in text, by applying trigram first\n",
    "train['trigram_question_2'] = ngram_to_corpus(clean_questions, trigram_vocab, 3)\n",
    "train['trigram_question_2'] = ngram_to_corpus(train['trigram_question_2'], bigram_vocab, 2)"
   ]
  },
  {
   "cell_type": "code",
   "execution_count": 68,
   "metadata": {},
   "outputs": [],
   "source": [
    "X = train[['bigram_question_2','trigram_question_2']]\n",
    "y = train.target"
   ]
  },
  {
   "cell_type": "code",
   "execution_count": 69,
   "metadata": {},
   "outputs": [],
   "source": [
    "X_train, X_test, y_train, y_test = train_test_split(X, y, stratify=y, random_state=495, test_size=0.2)"
   ]
  },
  {
   "cell_type": "code",
   "execution_count": 70,
   "metadata": {},
   "outputs": [
    {
     "data": {
      "text/plain": [
       "1044897"
      ]
     },
     "execution_count": 70,
     "metadata": {},
     "output_type": "execute_result"
    }
   ],
   "source": [
    "len(X_train)"
   ]
  },
  {
   "cell_type": "markdown",
   "metadata": {},
   "source": [
    "#### Bigram Model"
   ]
  },
  {
   "cell_type": "code",
   "execution_count": 71,
   "metadata": {},
   "outputs": [],
   "source": [
    "# model using bigram text\n",
    "X_train_bi, X_test_bi =  vect_trans(CountVectorizer(max_df=1.0,  min_df=1, ngram_range=(1,1), stop_words=stopwords),\n",
    "                                   X_train.bigram_question_2, X_test.bigram_question_2,)\n",
    "\n"
   ]
  },
  {
   "cell_type": "code",
   "execution_count": 72,
   "metadata": {},
   "outputs": [
    {
     "name": "stdout",
     "output_type": "stream",
     "text": [
      "Train Accuracy : 0.9378790445374041\n",
      "Test Accuracy: 0.9367059048712796\n",
      "Test F1 score: 0.5546517265528201\n",
      "Test Accuracy Mean: 0.9327895484362143\n",
      "Test Accuracy STD: 0.000515417135448244\n",
      "Test F1: 0.533269039494086\n"
     ]
    },
    {
     "data": {
      "text/html": [
       "<div>\n",
       "<style scoped>\n",
       "    .dataframe tbody tr th:only-of-type {\n",
       "        vertical-align: middle;\n",
       "    }\n",
       "\n",
       "    .dataframe tbody tr th {\n",
       "        vertical-align: top;\n",
       "    }\n",
       "\n",
       "    .dataframe thead th {\n",
       "        text-align: right;\n",
       "    }\n",
       "</style>\n",
       "<table border=\"1\" class=\"dataframe\">\n",
       "  <thead>\n",
       "    <tr style=\"text-align: right;\">\n",
       "      <th></th>\n",
       "      <th>Test_Accuracy</th>\n",
       "      <th>Test_F1_score</th>\n",
       "      <th>CV_Accuracy</th>\n",
       "      <th>CV_Acc_STD</th>\n",
       "      <th>CV_F1_score</th>\n",
       "    </tr>\n",
       "  </thead>\n",
       "  <tbody>\n",
       "    <tr>\n",
       "      <th>Raw_token_NB</th>\n",
       "      <td>0.934414</td>\n",
       "      <td>0.564609</td>\n",
       "      <td>0.932161</td>\n",
       "      <td>0.000523</td>\n",
       "      <td>0.548922</td>\n",
       "    </tr>\n",
       "    <tr>\n",
       "      <th>Token_NB</th>\n",
       "      <td>0.937249</td>\n",
       "      <td>0.556378</td>\n",
       "      <td>0.932654</td>\n",
       "      <td>0.000460</td>\n",
       "      <td>0.530663</td>\n",
       "    </tr>\n",
       "    <tr>\n",
       "      <th>Bigram_NB</th>\n",
       "      <td>0.947236</td>\n",
       "      <td>0.396511</td>\n",
       "      <td>0.944596</td>\n",
       "      <td>0.000387</td>\n",
       "      <td>0.481251</td>\n",
       "    </tr>\n",
       "    <tr>\n",
       "      <th>Trigram_NB</th>\n",
       "      <td>0.944777</td>\n",
       "      <td>0.271964</td>\n",
       "      <td>0.944946</td>\n",
       "      <td>0.000429</td>\n",
       "      <td>0.508466</td>\n",
       "    </tr>\n",
       "    <tr>\n",
       "      <th>Tfidf_t_NB</th>\n",
       "      <td>0.941715</td>\n",
       "      <td>0.147312</td>\n",
       "      <td>0.940417</td>\n",
       "      <td>0.000156</td>\n",
       "      <td>0.111642</td>\n",
       "    </tr>\n",
       "    <tr>\n",
       "      <th>Bigram_best_NB</th>\n",
       "      <td>0.937380</td>\n",
       "      <td>0.555924</td>\n",
       "      <td>0.933358</td>\n",
       "      <td>0.000472</td>\n",
       "      <td>0.533960</td>\n",
       "    </tr>\n",
       "    <tr>\n",
       "      <th>Trigram_best_NB</th>\n",
       "      <td>0.937387</td>\n",
       "      <td>0.555809</td>\n",
       "      <td>0.933376</td>\n",
       "      <td>0.000463</td>\n",
       "      <td>0.534021</td>\n",
       "    </tr>\n",
       "    <tr>\n",
       "      <th>Bigram_best_NB2</th>\n",
       "      <td>0.936706</td>\n",
       "      <td>0.554652</td>\n",
       "      <td>0.932790</td>\n",
       "      <td>0.000515</td>\n",
       "      <td>0.533269</td>\n",
       "    </tr>\n",
       "  </tbody>\n",
       "</table>\n",
       "</div>"
      ],
      "text/plain": [
       "                 Test_Accuracy  Test_F1_score  CV_Accuracy  CV_Acc_STD  \\\n",
       "Raw_token_NB          0.934414       0.564609     0.932161    0.000523   \n",
       "Token_NB              0.937249       0.556378     0.932654    0.000460   \n",
       "Bigram_NB             0.947236       0.396511     0.944596    0.000387   \n",
       "Trigram_NB            0.944777       0.271964     0.944946    0.000429   \n",
       "Tfidf_t_NB            0.941715       0.147312     0.940417    0.000156   \n",
       "Bigram_best_NB        0.937380       0.555924     0.933358    0.000472   \n",
       "Trigram_best_NB       0.937387       0.555809     0.933376    0.000463   \n",
       "Bigram_best_NB2       0.936706       0.554652     0.932790    0.000515   \n",
       "\n",
       "                 CV_F1_score  \n",
       "Raw_token_NB        0.548922  \n",
       "Token_NB            0.530663  \n",
       "Bigram_NB           0.481251  \n",
       "Trigram_NB          0.508466  \n",
       "Tfidf_t_NB          0.111642  \n",
       "Bigram_best_NB      0.533960  \n",
       "Trigram_best_NB     0.534021  \n",
       "Bigram_best_NB2     0.533269  "
      ]
     },
     "execution_count": 72,
     "metadata": {},
     "output_type": "execute_result"
    }
   ],
   "source": [
    "model = MultinomialNB()\n",
    "model_label = 'Bigram_best_NB2'\n",
    "\n",
    "model_score(model, X_train_bi, X_test_bi, y_train, y_test, score_df, model_label)\n",
    "cv_score(model, X_train_bi, y_train, model_label)\n",
    "score_df"
   ]
  },
  {
   "cell_type": "markdown",
   "metadata": {},
   "source": [
    "#### Trigram Model"
   ]
  },
  {
   "cell_type": "code",
   "execution_count": 73,
   "metadata": {},
   "outputs": [],
   "source": [
    "# model using bigram text\n",
    "X_train_tri, X_test_tri =  vect_trans(CountVectorizer(max_df=1.0,  min_df=1, ngram_range=(1,1), stop_words=stopwords),\n",
    "                                   X_train.trigram_question_2, X_test.trigram_question_2)\n",
    "\n"
   ]
  },
  {
   "cell_type": "code",
   "execution_count": 74,
   "metadata": {},
   "outputs": [
    {
     "name": "stdout",
     "output_type": "stream",
     "text": [
      "Train Accuracy : 0.9378895718908179\n",
      "Test Accuracy: 0.9367288735764188\n",
      "Test F1 score: 0.5545253625141502\n",
      "Test Accuracy Mean: 0.9328249586011564\n",
      "Test Accuracy STD: 0.0005101941987877898\n",
      "Test F1: 0.5333633092724857\n"
     ]
    },
    {
     "data": {
      "text/html": [
       "<div>\n",
       "<style scoped>\n",
       "    .dataframe tbody tr th:only-of-type {\n",
       "        vertical-align: middle;\n",
       "    }\n",
       "\n",
       "    .dataframe tbody tr th {\n",
       "        vertical-align: top;\n",
       "    }\n",
       "\n",
       "    .dataframe thead th {\n",
       "        text-align: right;\n",
       "    }\n",
       "</style>\n",
       "<table border=\"1\" class=\"dataframe\">\n",
       "  <thead>\n",
       "    <tr style=\"text-align: right;\">\n",
       "      <th></th>\n",
       "      <th>Test_Accuracy</th>\n",
       "      <th>Test_F1_score</th>\n",
       "      <th>CV_Accuracy</th>\n",
       "      <th>CV_Acc_STD</th>\n",
       "      <th>CV_F1_score</th>\n",
       "    </tr>\n",
       "  </thead>\n",
       "  <tbody>\n",
       "    <tr>\n",
       "      <th>Raw_token_NB</th>\n",
       "      <td>0.934414</td>\n",
       "      <td>0.564609</td>\n",
       "      <td>0.932161</td>\n",
       "      <td>0.000523</td>\n",
       "      <td>0.548922</td>\n",
       "    </tr>\n",
       "    <tr>\n",
       "      <th>Token_NB</th>\n",
       "      <td>0.937249</td>\n",
       "      <td>0.556378</td>\n",
       "      <td>0.932654</td>\n",
       "      <td>0.000460</td>\n",
       "      <td>0.530663</td>\n",
       "    </tr>\n",
       "    <tr>\n",
       "      <th>Bigram_NB</th>\n",
       "      <td>0.947236</td>\n",
       "      <td>0.396511</td>\n",
       "      <td>0.944596</td>\n",
       "      <td>0.000387</td>\n",
       "      <td>0.481251</td>\n",
       "    </tr>\n",
       "    <tr>\n",
       "      <th>Trigram_NB</th>\n",
       "      <td>0.944777</td>\n",
       "      <td>0.271964</td>\n",
       "      <td>0.944946</td>\n",
       "      <td>0.000429</td>\n",
       "      <td>0.508466</td>\n",
       "    </tr>\n",
       "    <tr>\n",
       "      <th>Tfidf_t_NB</th>\n",
       "      <td>0.941715</td>\n",
       "      <td>0.147312</td>\n",
       "      <td>0.940417</td>\n",
       "      <td>0.000156</td>\n",
       "      <td>0.111642</td>\n",
       "    </tr>\n",
       "    <tr>\n",
       "      <th>Bigram_best_NB</th>\n",
       "      <td>0.937380</td>\n",
       "      <td>0.555924</td>\n",
       "      <td>0.933358</td>\n",
       "      <td>0.000472</td>\n",
       "      <td>0.533960</td>\n",
       "    </tr>\n",
       "    <tr>\n",
       "      <th>Trigram_best_NB</th>\n",
       "      <td>0.937387</td>\n",
       "      <td>0.555809</td>\n",
       "      <td>0.933376</td>\n",
       "      <td>0.000463</td>\n",
       "      <td>0.534021</td>\n",
       "    </tr>\n",
       "    <tr>\n",
       "      <th>Bigram_best_NB2</th>\n",
       "      <td>0.936706</td>\n",
       "      <td>0.554652</td>\n",
       "      <td>0.932790</td>\n",
       "      <td>0.000515</td>\n",
       "      <td>0.533269</td>\n",
       "    </tr>\n",
       "    <tr>\n",
       "      <th>Trigram_best_NB2</th>\n",
       "      <td>0.936729</td>\n",
       "      <td>0.554525</td>\n",
       "      <td>0.932825</td>\n",
       "      <td>0.000510</td>\n",
       "      <td>0.533363</td>\n",
       "    </tr>\n",
       "  </tbody>\n",
       "</table>\n",
       "</div>"
      ],
      "text/plain": [
       "                  Test_Accuracy  Test_F1_score  CV_Accuracy  CV_Acc_STD  \\\n",
       "Raw_token_NB           0.934414       0.564609     0.932161    0.000523   \n",
       "Token_NB               0.937249       0.556378     0.932654    0.000460   \n",
       "Bigram_NB              0.947236       0.396511     0.944596    0.000387   \n",
       "Trigram_NB             0.944777       0.271964     0.944946    0.000429   \n",
       "Tfidf_t_NB             0.941715       0.147312     0.940417    0.000156   \n",
       "Bigram_best_NB         0.937380       0.555924     0.933358    0.000472   \n",
       "Trigram_best_NB        0.937387       0.555809     0.933376    0.000463   \n",
       "Bigram_best_NB2        0.936706       0.554652     0.932790    0.000515   \n",
       "Trigram_best_NB2       0.936729       0.554525     0.932825    0.000510   \n",
       "\n",
       "                  CV_F1_score  \n",
       "Raw_token_NB         0.548922  \n",
       "Token_NB             0.530663  \n",
       "Bigram_NB            0.481251  \n",
       "Trigram_NB           0.508466  \n",
       "Tfidf_t_NB           0.111642  \n",
       "Bigram_best_NB       0.533960  \n",
       "Trigram_best_NB      0.534021  \n",
       "Bigram_best_NB2      0.533269  \n",
       "Trigram_best_NB2     0.533363  "
      ]
     },
     "execution_count": 74,
     "metadata": {},
     "output_type": "execute_result"
    }
   ],
   "source": [
    "model = MultinomialNB()\n",
    "model_label = 'Trigram_best_NB2'\n",
    "\n",
    "model_score(model, X_train_tri, X_test_tri, y_train, y_test, score_df, model_label)\n",
    "cv_score(model, X_train_tri, y_train, model_label)\n",
    "score_df"
   ]
  },
  {
   "cell_type": "code",
   "execution_count": 192,
   "metadata": {},
   "outputs": [],
   "source": [
    "# score_df.to_pickle('./base_score.pkl')"
   ]
  },
  {
   "cell_type": "code",
   "execution_count": 194,
   "metadata": {},
   "outputs": [],
   "source": [
    "score_df = pd.read_pickle('./base_score.pkl')"
   ]
  },
  {
   "cell_type": "code",
   "execution_count": 187,
   "metadata": {},
   "outputs": [],
   "source": [
    "acc_df = pd.DataFrame(index=['Baseline','Raw Token', 'Tokens', 'All Bigram', 'All Trigram', 'TFIDF', 'N Bigram', 'N Trigram'])\n",
    "acc_df['Accuracy'] = acc_list = [1-train.target.mean()] + list(score_df['Test_Accuracy'][:7])\n"
   ]
  },
  {
   "cell_type": "code",
   "execution_count": 188,
   "metadata": {},
   "outputs": [],
   "source": [
    "f1_df =  pd.DataFrame(index=['Raw Token', 'Tokens', 'All Bigram', 'All Trigram', 'TFIDF', 'N Bigram', 'N Trigram'])\n",
    "f1_df['F1 Score'] = list(score_df['Test_F1_score'][:7])\n"
   ]
  },
  {
   "cell_type": "code",
   "execution_count": 275,
   "metadata": {},
   "outputs": [],
   "source": [
    "style.use('seaborn-poster')\n",
    "\n",
    "style.use('seaborn-whitegrid') #sets the size of the charts\n",
    "style.use('tableau-colorblind10')"
   ]
  },
  {
   "cell_type": "code",
   "execution_count": 336,
   "metadata": {},
   "outputs": [],
   "source": [
    "f1_hue = sns.color_palette(\"Set3\")\n",
    "acc_hue  = sns.color_palette(\"Set3\")\n",
    "acc_hue.insert(0, (.7,.7,.7))"
   ]
  },
  {
   "cell_type": "code",
   "execution_count": 371,
   "metadata": {},
   "outputs": [
    {
     "data": {
      "image/png": "[encoded data removed]",
      "text/plain": [
       "<Figure size 1296x576 with 2 Axes>"
      ]
     },
     "metadata": {},
     "output_type": "display_data"
    }
   ],
   "source": [
    "fig, ax = plt.subplots(1,2, figsize=(18,8))\n",
    "\n",
    "ax1 = plt.subplot(121)\n",
    "ax1 = sns.barplot(x=f1_df.index, y=f1_df['F1 Score'], palette=f1_hue)\n",
    "ax1 = plt.xticks(rotation=45)\n",
    "\n",
    "ax2 = plt.subplot(122)\n",
    "ax2 = sns.barplot(x=acc_df.index, y=acc_df.Accuracy, palette=acc_hue)\n",
    "ax1 = plt.ylim(0.9, 1)\n",
    "ax2 = plt.xticks(rotation=45)\n",
    "\n",
    "\n"
   ]
  },
  {
   "cell_type": "code",
   "execution_count": 328,
   "metadata": {},
   "outputs": [
    {
     "data": {
      "application/vnd.jupyter.widget-view+json": {
       "model_id": "175f0d0259ae4d9ea269468fbc1fa966",
       "version_major": 2,
       "version_minor": 0
      },
      "text/plain": [
       "interactive(children=(Dropdown(description='name', options=('Set1', 'Set2', 'Set3', 'Paired', 'Accent', 'Paste…"
      ]
     },
     "metadata": {},
     "output_type": "display_data"
    },
    {
     "data": {
      "text/plain": [
       "[(0.8941176470588235, 0.10196078431372557, 0.10980392156862737),\n",
       " (0.21568627450980393, 0.4941176470588236, 0.7215686274509804),\n",
       " (0.3019607843137256, 0.6862745098039216, 0.29019607843137263),\n",
       " (0.5960784313725492, 0.3058823529411765, 0.6392156862745098),\n",
       " (1.0, 0.4980392156862745, 0.0),\n",
       " (0.9999999999999998, 1.0, 0.19999999999999996),\n",
       " (0.6509803921568629, 0.33725490196078434, 0.1568627450980391),\n",
       " (0.9686274509803922, 0.5058823529411766, 0.7490196078431374),\n",
       " (0.6, 0.6, 0.6)]"
      ]
     },
     "execution_count": 328,
     "metadata": {},
     "output_type": "execute_result"
    }
   ],
   "source": [
    "sns.choose_colorbrewer_palette( 'qualitative')"
   ]
  },
  {
   "cell_type": "code",
   "execution_count": 254,
   "metadata": {},
   "outputs": [
    {
     "data": {
      "image/png": "[encoded data removed]",
      "text/plain": [
       "<Figure size 576x576 with 1 Axes>"
      ]
     },
     "metadata": {
      "needs_background": "light"
     },
     "output_type": "display_data"
    }
   ],
   "source": [
    "# For class 1, find the area under the curve\n",
    "fpr_raw, tpr_raw, _ = roc_curve(y_test_raw, Y_pp.raw_class_1_pp)\n",
    "fpr_t, tpr_t, _ = roc_curve(y_test, Y_pp_t.t_class_1_pp)\n",
    "fpr_tfidf, tpr_tfidf, _ = roc_curve(y_test, Y_pp_tfidf.tfidf_class_1_pp)\n",
    "\n",
    "roc_auc = auc(fpr, tpr)\n",
    "\n",
    "# Plot of a ROC curve for class 1 (has_cancer)\n",
    "plt.figure(figsize=[8,8])\n",
    "\n",
    "\n",
    "plt.plot(fpr_raw, tpr_raw, label='ROC curve (area = %0.2f)' % roc_auc, linewidth=4)\n",
    "# plt.plot(fpr_t, tpr_t, label='ROC curve (area = %0.2f)' % roc_auc, linewidth=4)\n",
    "plt.plot(fpr_tfidf, tpr_tfidf, label='ROC curve (area = %0.2f)' % roc_auc, linewidth=4)\n",
    "\n",
    "\n",
    "plt.plot([0, 1], [0, 1], 'k--', linewidth=4)\n",
    "plt.xlim([-0.05, 1.0])\n",
    "plt.ylim([-0.05, 1.05])\n",
    "plt.xlabel('False Positive Rate', fontsize=18)\n",
    "plt.ylabel('True Positive Rate', fontsize=18)\n",
    "plt.title('Receiver operating characteristic for cancer detection', fontsize=18)\n",
    "plt.legend(loc=\"lower right\")\n",
    "plt.show()"
   ]
  },
  {
   "cell_type": "code",
   "execution_count": null,
   "metadata": {},
   "outputs": [],
   "source": []
  }
 ],
 "metadata": {
  "kernelspec": {
   "display_name": "Python 3",
   "language": "python",
   "name": "python3"
  },
  "language_info": {
   "codemirror_mode": {
    "name": "ipython",
    "version": 3
   },
   "file_extension": ".py",
   "mimetype": "text/x-python",
   "name": "python",
   "nbconvert_exporter": "python",
   "pygments_lexer": "ipython3",
   "version": "3.6.8"
  }
 },
 "nbformat": 4,
 "nbformat_minor": 2
}
