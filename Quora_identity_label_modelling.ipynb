{
 "cells": [
  {
   "cell_type": "code",
   "execution_count": 99,
   "metadata": {},
   "outputs": [],
   "source": [
    "# text manipulation\n",
    "import re\n",
    "import string\n",
    "\n",
    "# Data management\n",
    "import pandas as pd\n",
    "import numpy as np\n",
    "from scipy.sparse import *\n",
    "import scipy\n",
    "\n",
    "# NLP\n",
    "import nltk\n",
    "import nltk.collocations as collocations\n",
    "from nltk.tag import tnt\n",
    "import spacy\n",
    "\n",
    "# modelling\n",
    "from sklearn.feature_extraction.text import CountVectorizer, TfidfTransformer, TfidfVectorizer\n",
    "from sklearn.model_selection import train_test_split, cross_val_score, cross_validate, GridSearchCV\n",
    "from sklearn.naive_bayes import MultinomialNB\n",
    "from sklearn.ensemble import RandomForestClassifier\n",
    "from sklearn.pipeline import make_pipeline, Pipeline\n",
    "from sklearn.metrics import f1_score, confusion_matrix\n",
    "from sklearn.cluster import MeanShift\n",
    "\n",
    "#visualisation\n",
    "import matplotlib.pyplot as plt\n",
    "import seaborn as sns\n",
    "from IPython.display import display, clear_output\n",
    "import matplotlib.style as style \n",
    "\n",
    "%matplotlib inline"
   ]
  },
  {
   "cell_type": "code",
   "execution_count": 2,
   "metadata": {},
   "outputs": [],
   "source": [
    "train = pd.read_csv('./train.csv')"
   ]
  },
  {
   "cell_type": "code",
   "execution_count": 3,
   "metadata": {},
   "outputs": [
    {
     "data": {
      "text/html": [
       "<div>\n",
       "<style scoped>\n",
       "    .dataframe tbody tr th:only-of-type {\n",
       "        vertical-align: middle;\n",
       "    }\n",
       "\n",
       "    .dataframe tbody tr th {\n",
       "        vertical-align: top;\n",
       "    }\n",
       "\n",
       "    .dataframe thead th {\n",
       "        text-align: right;\n",
       "    }\n",
       "</style>\n",
       "<table border=\"1\" class=\"dataframe\">\n",
       "  <thead>\n",
       "    <tr style=\"text-align: right;\">\n",
       "      <th></th>\n",
       "      <th>qid</th>\n",
       "      <th>question_text</th>\n",
       "      <th>target</th>\n",
       "    </tr>\n",
       "  </thead>\n",
       "  <tbody>\n",
       "    <tr>\n",
       "      <th>0</th>\n",
       "      <td>00002165364db923c7e6</td>\n",
       "      <td>How did Quebec nationalists see their province...</td>\n",
       "      <td>0</td>\n",
       "    </tr>\n",
       "    <tr>\n",
       "      <th>1</th>\n",
       "      <td>000032939017120e6e44</td>\n",
       "      <td>Do you have an adopted dog, how would you enco...</td>\n",
       "      <td>0</td>\n",
       "    </tr>\n",
       "    <tr>\n",
       "      <th>2</th>\n",
       "      <td>0000412ca6e4628ce2cf</td>\n",
       "      <td>Why does velocity affect time? Does velocity a...</td>\n",
       "      <td>0</td>\n",
       "    </tr>\n",
       "    <tr>\n",
       "      <th>3</th>\n",
       "      <td>000042bf85aa498cd78e</td>\n",
       "      <td>How did Otto von Guericke used the Magdeburg h...</td>\n",
       "      <td>0</td>\n",
       "    </tr>\n",
       "    <tr>\n",
       "      <th>4</th>\n",
       "      <td>0000455dfa3e01eae3af</td>\n",
       "      <td>Can I convert montra helicon D to a mountain b...</td>\n",
       "      <td>0</td>\n",
       "    </tr>\n",
       "  </tbody>\n",
       "</table>\n",
       "</div>"
      ],
      "text/plain": [
       "                    qid                                      question_text  \\\n",
       "0  00002165364db923c7e6  How did Quebec nationalists see their province...   \n",
       "1  000032939017120e6e44  Do you have an adopted dog, how would you enco...   \n",
       "2  0000412ca6e4628ce2cf  Why does velocity affect time? Does velocity a...   \n",
       "3  000042bf85aa498cd78e  How did Otto von Guericke used the Magdeburg h...   \n",
       "4  0000455dfa3e01eae3af  Can I convert montra helicon D to a mountain b...   \n",
       "\n",
       "   target  \n",
       "0       0  \n",
       "1       0  \n",
       "2       0  \n",
       "3       0  \n",
       "4       0  "
      ]
     },
     "execution_count": 3,
     "metadata": {},
     "output_type": "execute_result"
    }
   ],
   "source": [
    "train.head()"
   ]
  },
  {
   "cell_type": "code",
   "execution_count": 4,
   "metadata": {},
   "outputs": [
    {
     "data": {
      "text/plain": [
       "(1306122, 3)"
      ]
     },
     "execution_count": 4,
     "metadata": {},
     "output_type": "execute_result"
    }
   ],
   "source": [
    "train.shape"
   ]
  },
  {
   "cell_type": "code",
   "execution_count": 5,
   "metadata": {},
   "outputs": [
    {
     "name": "stdout",
     "output_type": "stream",
     "text": [
      "No. of insincere questions: 80810\n",
      "No. of sincere questions: 1225312\n",
      "% of insincere questions: 0.06187017751787352\n",
      "Null score: 0.9381298224821265\n"
     ]
    }
   ],
   "source": [
    "no_insincere = train[train['target']==1].target.count()\n",
    "no_sincere = train[train['target']==0].target.count()\n",
    "\n",
    "print('No. of insincere questions:', no_insincere)\n",
    "print('No. of sincere questions:', no_sincere)\n",
    "print('% of insincere questions:', train.target.mean())\n",
    "print('Null score:', 1- train.target.mean())"
   ]
  },
  {
   "cell_type": "markdown",
   "metadata": {},
   "source": [
    "# Data Cleaning"
   ]
  },
  {
   "cell_type": "code",
   "execution_count": 6,
   "metadata": {},
   "outputs": [
    {
     "name": "stdout",
     "output_type": "stream",
     "text": [
      "Wall time: 12.2 s\n"
     ]
    }
   ],
   "source": [
    "%%time\n",
    "# remove digits\n",
    "clean_questions = [''.join(c for c in q if not c.isdigit()) for q in train.question_text]"
   ]
  },
  {
   "cell_type": "code",
   "execution_count": 7,
   "metadata": {},
   "outputs": [],
   "source": [
    "# replacing all identity labels each question with a common labels\n",
    "def labels_to_question(data, label_list, label_type):\n",
    "         \n",
    "    new_data = []\n",
    "    \n",
    "    # For every questions\n",
    "    i_data = 0\n",
    "    for i_data in range(len(data)):\n",
    "        question = data[i_data].lower()\n",
    "        output = []\n",
    "        \n",
    "        # compare each label to question\n",
    "        for label in label_list:\n",
    "\n",
    "            if label in question:\n",
    "\n",
    "                que_t = nltk.word_tokenize(question)\n",
    "                lab_t = nltk.word_tokenize(label)\n",
    "\n",
    "                i_que = 0\n",
    "                while i_que < len(que_t):\n",
    "                    i_lab = 0\n",
    "                    \n",
    "                    # If current token is same as first label token, continue compare rest of the tokens. \n",
    "                    if que_t[i_que] == lab_t[0]:\n",
    "                        que_t[i_que] = label_type\n",
    "                        i_lab += 1\n",
    "                        i_que += 1\n",
    "\n",
    "                        # Remove trailing question tokens if they match trailing label tokens\n",
    "                        while i_lab < len(lab_t):\n",
    "                            if que_t[i_que] == lab_t[i_lab]:\n",
    "                                que_t.pop(i_que)\n",
    "                                i_lab += 1\n",
    "                            else:\n",
    "                                break\n",
    "#                     elif que_t[i_que] == lab_t[0]:\n",
    "#                         print('Question: ',question, i_data)\n",
    "#                         print('label: ', label)\n",
    "                    i_que += 1\n",
    "                question = ' '.join(que_t)\n",
    "#                 print('after: ', question)\n",
    "#                 print('label: ', label)\n",
    "        new_data.append(question)                   \n",
    "        if i_data % 1000 == 0:\n",
    "            clear_output(wait=True)\n",
    "            display(i_data)\n",
    "    return new_data\n"
   ]
  },
  {
   "cell_type": "code",
   "execution_count": 9,
   "metadata": {},
   "outputs": [],
   "source": [
    "# Identity groupd filters, created from online lists, most frequent insincere words and manual editing.\n",
    "ID_filter = pd.read_csv('ID_filter.csv')"
   ]
  },
  {
   "cell_type": "code",
   "execution_count": 10,
   "metadata": {},
   "outputs": [
    {
     "data": {
      "text/html": [
       "<div>\n",
       "<style scoped>\n",
       "    .dataframe tbody tr th:only-of-type {\n",
       "        vertical-align: middle;\n",
       "    }\n",
       "\n",
       "    .dataframe tbody tr th {\n",
       "        vertical-align: top;\n",
       "    }\n",
       "\n",
       "    .dataframe thead th {\n",
       "        text-align: right;\n",
       "    }\n",
       "</style>\n",
       "<table border=\"1\" class=\"dataframe\">\n",
       "  <thead>\n",
       "    <tr style=\"text-align: right;\">\n",
       "      <th></th>\n",
       "      <th>RELIGIOUS_ID</th>\n",
       "      <th>RACIAL_ID</th>\n",
       "      <th>NATIONAL_ID</th>\n",
       "      <th>NATIONALITY_ID</th>\n",
       "      <th>GENDER_ID</th>\n",
       "      <th>Unnamed: 5</th>\n",
       "      <th>Political_groups</th>\n",
       "      <th>Political_figure</th>\n",
       "    </tr>\n",
       "  </thead>\n",
       "  <tbody>\n",
       "    <tr>\n",
       "      <th>0</th>\n",
       "      <td>buddhist</td>\n",
       "      <td>white people</td>\n",
       "      <td>Afghanistan</td>\n",
       "      <td>Afghans</td>\n",
       "      <td>girls</td>\n",
       "      <td>NaN</td>\n",
       "      <td>trump supporters</td>\n",
       "      <td>donald trump</td>\n",
       "    </tr>\n",
       "    <tr>\n",
       "      <th>1</th>\n",
       "      <td>catholic</td>\n",
       "      <td>black people</td>\n",
       "      <td>Albania</td>\n",
       "      <td>Albanians</td>\n",
       "      <td>boys</td>\n",
       "      <td>NaN</td>\n",
       "      <td>democrate</td>\n",
       "      <td>president trump</td>\n",
       "    </tr>\n",
       "  </tbody>\n",
       "</table>\n",
       "</div>"
      ],
      "text/plain": [
       "  RELIGIOUS_ID     RACIAL_ID  NATIONAL_ID NATIONALITY_ID GENDER_ID  \\\n",
       "0     buddhist  white people  Afghanistan        Afghans     girls   \n",
       "1     catholic  black people      Albania      Albanians      boys   \n",
       "\n",
       "   Unnamed: 5  Political_groups Political_figure  \n",
       "0         NaN  trump supporters     donald trump  \n",
       "1         NaN         democrate  president trump  "
      ]
     },
     "execution_count": 10,
     "metadata": {},
     "output_type": "execute_result"
    }
   ],
   "source": [
    "ID_filter.head(2)"
   ]
  },
  {
   "cell_type": "code",
   "execution_count": 11,
   "metadata": {},
   "outputs": [],
   "source": [
    "religious_ID = ID_filter.RELIGIOUS_ID.dropna()\n",
    "racial_ID = ID_filter.RACIAL_ID.dropna()\n",
    "national_ID = ID_filter.NATIONAL_ID.dropna()\n",
    "nationality_ID = ID_filter.NATIONALITY_ID.dropna()\n",
    "\n"
   ]
  },
  {
   "cell_type": "code",
   "execution_count": 12,
   "metadata": {
    "scrolled": false
   },
   "outputs": [
    {
     "data": {
      "text/plain": [
       "1306000"
      ]
     },
     "metadata": {},
     "output_type": "display_data"
    },
    {
     "name": "stdout",
     "output_type": "stream",
     "text": [
      "Wall time: 3min 36s\n"
     ]
    }
   ],
   "source": [
    "%%time\n",
    "clean_questions = labels_to_question(clean_questions, religious_ID, 'RELIGIOUS_ID')\n",
    "clean_questions = labels_to_question(clean_questions, racial_ID, 'RACIAL_ID')\n",
    "clean_questions = labels_to_question(clean_questions, national_ID, 'NATIONAL_ID')\n",
    "clean_questions = labels_to_question(clean_questions, nationality_ID, 'NATIONALITY_ID')"
   ]
  },
  {
   "cell_type": "code",
   "execution_count": 13,
   "metadata": {
    "scrolled": true
   },
   "outputs": [],
   "source": [
    "# q_sample = ['today united states will raise taxes', 'How did donald trump junior manage this']\n",
    "# label_sample = ('raise','united states', 'donald trump junior')\n",
    "# temp = labels_to_question(q_sample, label_sample, 'REPLACED')\n",
    "# temp"
   ]
  },
  {
   "cell_type": "code",
   "execution_count": 14,
   "metadata": {},
   "outputs": [],
   "source": [
    "stopwords = list(nltk.corpus.stopwords.words('english')) + list(string.punctuation) + [\"''\", '``','’','“','”', \"'s\", \"'d\", \"'ll\", \"'t\", \"n't\", \"ca\", 'wo']"
   ]
  },
  {
   "cell_type": "code",
   "execution_count": null,
   "metadata": {},
   "outputs": [],
   "source": [
    "%%time\n",
    "# remove stop words and lower all characters\n",
    "clean_questions = [' '.join(w for w in nltk.word_tokenize(q.lower()) if w not in stopwords) for q in clean_questions]"
   ]
  },
  {
   "cell_type": "code",
   "execution_count": 16,
   "metadata": {},
   "outputs": [
    {
     "data": {
      "text/plain": [
       "1306122"
      ]
     },
     "execution_count": 16,
     "metadata": {},
     "output_type": "execute_result"
    }
   ],
   "source": [
    "len(clean_questions)"
   ]
  },
  {
   "cell_type": "code",
   "execution_count": 41,
   "metadata": {},
   "outputs": [
    {
     "data": {
      "text/plain": [
       "'Do you have an adopted dog, how would you encourage people to adopt and not shop?'"
      ]
     },
     "execution_count": 41,
     "metadata": {},
     "output_type": "execute_result"
    }
   ],
   "source": [
    "train.question_text[1]"
   ]
  },
  {
   "cell_type": "code",
   "execution_count": 43,
   "metadata": {
    "collapsed": true
   },
   "outputs": [
    {
     "data": {
      "text/plain": [
       "['how did quebec nationalists see their province as a nation in the s?',\n",
       " 'do you have an adopted dog, how would you encourage people to adopt and not shop?',\n",
       " 'why does velocity affect time? does velocity affect space geometry?',\n",
       " 'how did otto von guericke used the magdeburg hemispheres?',\n",
       " 'can i convert montra helicon d to a mountain bike by just changing the tyres?',\n",
       " 'is gaza slowly becoming auschwitz, dachau or treblinka for palestinians?',\n",
       " 'why does quora automatically ban conservative opinions when reported, but does not do the same for liberal views?',\n",
       " 'is it crazy if i wash or wipe my groceries off? germs are everywhere.',\n",
       " 'is there such a thing as dressing moderately, and if so, how is that different than dressing modestly?',\n",
       " 'is it just me or have you ever been in this phase wherein you became ignorant to the people you once loved, completely disregarding their feelings/lives so you get to have something go your way and feel temporarily at ease. how did things change?',\n",
       " 'what can you say about feminism?',\n",
       " 'how were the calgary flames founded?',\n",
       " 'what is the dumbest, yet possibly true explanation for trump being elected?',\n",
       " 'can we use our external hard disk as a os as well as for data storage.will the data be affected?',\n",
       " 'i am , living at home and have no boyfriend. i would love a boyfriend and my own home. how can i progress my situation?',\n",
       " 'what do you know about bram fischer and the rivonia trial?',\n",
       " 'how difficult is it to find a good instructor to take a class near you?',\n",
       " 'have you licked the skin of a corpse?',\n",
       " 'do you think amazon will adopt an in house approach to manufacturing similar to the tesla or space x business models?',\n",
       " 'how many baronies might exist within a county palatine?',\n",
       " 'how i know whether a girl had done sex before sex with me?',\n",
       " 'how do i become a fast learner both in my professional career and in my personal life?',\n",
       " 'has the united states become the largest dictatorship in the world?',\n",
       " 'what is the strangest phenomenon you know of, have witnessed or have generated in the area of electronics that has no explanation in terms of modern physics?',\n",
       " 'should i leave my friends and find new ones?',\n",
       " 'can you make amazon alexa trigger events in the browser?',\n",
       " \"why haven't two democracies never ever went for a full fledged war? what stops them?\",\n",
       " 'how can i top cbse in  months?',\n",
       " 'what should i know before visiting mcleodganj and doing the triund trek?',\n",
       " 'how do modern military submarines reduce noise to achieve stealth?',\n",
       " 'which babies are more sweeter to their parents? dark skin babies or light skin babies?',\n",
       " 'how can i remove black heads which are all over my nose?',\n",
       " 'if lightsabers are created by individual wielders, does each saber have unique powers/abilities?',\n",
       " 'is anyone still using visual basic? is it worth learning in ? would there be professional jobs for visual basic programmers in --?',\n",
       " 'what is sykes enterprises all about?',\n",
       " 'is there any clear relations between the number of nodes/dofs and the computational performances and requirements in fea or cfd analyses (for ansys solutions in particular)?',\n",
       " \"why my package still is isc since may , and i don't have updated?\",\n",
       " 'what does great wit mean?',\n",
       " 'in your experience working with realtors, what do you wish realtors did better?',\n",
       " 'how do i get charge by contact?',\n",
       " 'do all public school teachers automatically get vacation whenever they ask for it?',\n",
       " 'what is the role of technology in using a resource?',\n",
       " 'should i opt jaypee university guna for mechanical engineering?',\n",
       " 'where can i download microsoft word for windows . in hungarian?',\n",
       " 'what do i need to know about buying a car in south africa as an american?',\n",
       " \"as someone who didn't enjoy harry potter and the order of the phoenix movie, can i at least enjoy the book of it?\",\n",
       " 'what is the writing style of the book \"how to resist prince charming\" by linda kage?',\n",
       " 'my mother expects me to memorize all her usernames and passwords. how can i make her more responsible about them as i will be going to college in one year?',\n",
       " 'what is that movie in which a kid is fooled into thinking that germs will kill him and so he lives in a bubble for most of his life, but then decides to travel the world in a portable germ-free bubble?',\n",
       " 'why most of the computer science student buy final year project from outside rather doing it by own, is our education system really that week?',\n",
       " 'what are some ways to shorten your period, and what are the risks of doing it?',\n",
       " 'why do we calead leap year.?',\n",
       " 'how many days will it take to get rid of spleen enlargement?',\n",
       " 'which machine learning techniques can be used to extract metadata (font color, size, indentation and alignment) of a word document (.docx) file, and can it be integrated with a web application?',\n",
       " 'does it work with girls the way hitch will smith asks not to dance too much?',\n",
       " 'why india act  was so special?',\n",
       " \"are there any sports that you don't like?\",\n",
       " 'how do dna and rna compare and contrast?',\n",
       " 'someone breaks into your house you shoot and kill them they were armed with only a knife what happens now?',\n",
       " 'how can i write a biography about gianni versace?',\n",
       " 'are extroverted better and faster at processing and expelling information than introverts?',\n",
       " 'have you ever been recognized at a place very far from your home?',\n",
       " 'why do price comparison websites work well in financial services?',\n",
       " 'does ragging happen at nift bangalore?',\n",
       " 'why their are so many bad reviews of bahubali  on imdb?',\n",
       " 'is swallowing listerine dangerous?',\n",
       " 'what are the theories in critical thinking?',\n",
       " 'what are the biggest problems, questions, doubts that you come across when trying to choose the paint color for a room?',\n",
       " 'how can i get cheap flights in edinburgh?',\n",
       " \"what is china's new chick?\",\n",
       " 'how do i send large picture files through an email?',\n",
       " \"why doesn't ebay allow the sale of wwii purple heart medals even though they have categories specifically for wwii military medals?\",\n",
       " 'what are the characteristics that define isovolumetric relaxation?',\n",
       " 'how do i work in cybersecurity overseas?',\n",
       " 'do web developer refer to wc standard practice?',\n",
       " 'why has the internet become a problem? why do we rely on it for everything?',\n",
       " 'can we get itc on charges levied by banks?',\n",
       " 'where is muhammed now?',\n",
       " 'what are the services that can be provided by a food testing lab and what are their certified requirements?',\n",
       " 'is it ok to be solo your whole life and pretend no one exists? is there such thing as being unwanted?',\n",
       " 'how do i change the owner of a current youtube account? the original owner was let go and i do not have access to change anything.',\n",
       " 'are the archer characters animated based on celebrities?',\n",
       " 'what is the best way to propose a girl without annoying her?',\n",
       " 'what can $ million get you in solar power?',\n",
       " 'what are the recommended d game engines for a beginning python programmer?',\n",
       " 'is there such a thing as teleological pantheism?',\n",
       " 'what are some best college for aircraft propulsion(m.s)?',\n",
       " 'what countries in the world have freedom of speech on par with the us?',\n",
       " 'what lead to the red terror in ethiopia?',\n",
       " 'what is the best pen at low cost in all sorts of things?',\n",
       " 'do you trust a business that has a facebook page as its website?',\n",
       " 'should we improve our piano skill by keep practicing hard pieces? is that the most effective way?',\n",
       " \"i wear an insulin pump, and a lot of girls don't like it. nick jonas wears one and dated selena gomez. is there difference between me and nick several zeros missing in my bank account?\",\n",
       " 'will turkey be seperated and give a land to kurds because of foreign powers like usa in the future?',\n",
       " 'r sq. cos- when r=. equals?',\n",
       " 'who sings the song in my head?',\n",
       " 'can chronicled replace supply chain?',\n",
       " 'how can you solve this equation… sin(a*t)-b*t=?',\n",
       " 'what are the demerits of excellence in academic pursuits?',\n",
       " 'how many indians are in melbourne, australia?',\n",
       " \"what do physicists, mathematicians, computer scientists and philosophers think of david deutsch's 'constructor theory'?\",\n",
       " 'why are old scriptures from eastern cultures appear lost in the current culture?',\n",
       " 'can i know my i.q, even if i hate numbers?',\n",
       " 'how can i really make up my mind and get rid of my bad habits like procrastination?',\n",
       " 'was there any relationship between napoleon and ali pasha of tepelene?',\n",
       " 'where are presynaptic neurons found?',\n",
       " 'what ways will a narcissist mother punish her child for going no contact if child goes back to contact with her?',\n",
       " \"can i start freelancing after finishing udacity's android basic nanodegree?\",\n",
       " 'what is the reason why we really need bitcoin?',\n",
       " 'what are some good songs for a long journey?',\n",
       " \"if blacks support school choice and mandatory sentencing for criminals why don't they vote republican?\",\n",
       " 'what should be added to thrice the rational number -/ to get /?',\n",
       " 'in a four movement symphony, what is typically the form of the second movement?',\n",
       " 'what are various stock exchanges?',\n",
       " 'i am gay boy and i love my cousin (boy). he is sexy, but i dont know what to do. he is hot, and i want to see his di**. what should i do?',\n",
       " 'which races have the smallest penis?',\n",
       " 'what do the terms computer architecture, microarchitecture and instruction set architecture(isa) mean?',\n",
       " 'are iphone users psychologically trapped in brand naming and avoiding to complain about very reasonable missing features such as battery life performance, that iphone lacks while other flagship in - are doing doing much better?',\n",
       " 'how long is one semester in ontario?',\n",
       " 'why do females find penises ugly?',\n",
       " 'what are the best ways to add flour to a homemade chili?',\n",
       " 'what advice do you have for anyone who wishes to accomplish what you have?',\n",
       " 'how do overcome my extreme fear of insects and bugs?',\n",
       " 'what are some examples of durable work gloves?',\n",
       " ' cars move  miles towards each other and then move  miles in oppostie direction, what is the distance between them?',\n",
       " 'what apps do you use the most for work in a given day?',\n",
       " 'can r only take a maximum  headers in a dataset? i noticed it will only print the first . is there anyway to change that?',\n",
       " 'how do i marry an american woman for a green card? how much do they charge?',\n",
       " 'what do companies look for when recruiting expat? does the nationality of the candidate play a huge role?',\n",
       " 'can transcranial magnetic stimulation (tms) be used to increase cognitive performance?',\n",
       " 'but, why did george washington free his slaves after what had happened in the revolutionary war? i think he should have',\n",
       " 'has the time come for india to adopt one-child policy?',\n",
       " 'can a us embassy deny a us citizen entry into the embassy?',\n",
       " 'what should i wear to a s party?',\n",
       " 'why should we test an energy meter periodically?',\n",
       " 'what is the best stationery for the home office vs the regular office?',\n",
       " 'where can i find genuine aviation jobs?',\n",
       " 'why do nonprofit organizations treat their employees so badly?',\n",
       " 'what is the procedure to invest in mutual fund?',\n",
       " 'what is osn?',\n",
       " 'what is the most aesthetically pleasing shade of green?',\n",
       " 'is it wise to do m.com (-) in calcutta university and start preparing for cat ?',\n",
       " 'what is the difference between a politician and a leech?',\n",
       " 'why does china not sponsor a regime change in north korea?',\n",
       " \"why do racial_id say they 're the superior race , when in fact it took them over , years until mid th century to surpass china 's largest economy ?\",\n",
       " 'why does the cytoplasm built up inside my lip?',\n",
       " \"if i'm creating an app using multiple programming languages, can i use the same ide?\",\n",
       " 'what are the good and bad neighborhoods of chuncheon, south korea?',\n",
       " 'how was your cpss/pabt at afsb varanasi?',\n",
       " 'has someone wrongfully jumped to conclusions about you?',\n",
       " 'how can i start troubleshooting a hewlett-packard printer?',\n",
       " \"isn't it unfair that only men has military duty in south korea?\",\n",
       " 'how did nsf spinoff from nsfnet helped sun microsystem?',\n",
       " 'how dangerous is south africa for a tourist?',\n",
       " 'have you ever known someone who has drastically changed?',\n",
       " 'why is university of louisville not listed in qs ranking?',\n",
       " 'did julius caesar bring a tyrannosaurus rex on his campaigns to frighten the celts into submission?',\n",
       " 'how will mercury (debilitated) dasa for simha lagna be?',\n",
       " 'what are the drivers of globalisation?',\n",
       " 'what are some people with a high emotional intelligence?',\n",
       " 'why do womens (mainstream) fashions change so much compared to mens?',\n",
       " 'what is the cause of magnetic force in magnet?',\n",
       " 'how are the nike football towels manufactured?',\n",
       " 'who would win, anizara (powered up) from dragon ball super anime episode  vs mystic gohan (powered up) from dragon ball super anime episode ?',\n",
       " 'which g phone should be best?',\n",
       " 'is it my fault that my teen daughter has bad social anxiety?',\n",
       " 'sunil and raju are absent today? is or are? which is appropriate?',\n",
       " \"in what manner has republican backing of 'states rights' been hypocritical and what ways have they actually restricted the ability of states to make their own laws?\",\n",
       " 'would racial_id continue to participate in the racial_id war for the destruction of israel and killing all the religious_id , if they knew that god himself defends israel and he will do to racial_id what the racial_id want to do to the religious_id ?',\n",
       " 'how do you start a conversation on quora?',\n",
       " 'which php framework should i choose for a website like olx?',\n",
       " 'what do you do as a forensic psychologist?',\n",
       " 'what can i do to be a better student in school?',\n",
       " 'why does fortnite lag everytime i’m fighting someone?',\n",
       " 'what are  examples of neurotransmitters?',\n",
       " 'why are puppies so hyper?',\n",
       " 'is jhargram, birbhum a safe place to visit in winter or there is any fear of terrorist or something?',\n",
       " 'how can i discover the one thing to change my life instantly?',\n",
       " 'why does my puppy lick his paws?',\n",
       " 'which is best powerbank for iphone  in india?',\n",
       " 'if an average nfl team obtained a kicker who could consistently make a field goals from  yards, would they win the super bowl?',\n",
       " 'can i kill myself now?',\n",
       " 'how can one earn from trading in derivative market?',\n",
       " 'what are some of the fastest cars in the world?',\n",
       " \"when can we know god's timing?\",\n",
       " 'what should i learn after html&css to become a good front-end developer?',\n",
       " 'why do lingayats bury their dead rather than burn like the other religious_id ?',\n",
       " 'is there a therapist who can help me regarding mental health issues?',\n",
       " 'what is the remaining useful life for a honda step wgn with a mileage of ?',\n",
       " \"do you think it's a sign of progress that singaporeans are adopting british, american, and australian accents?\",\n",
       " \"i'm the ds pokémon diamond game, how do you get to the top of mt. coronet?\",\n",
       " 'how do i create a merchant tracking system?',\n",
       " 'what is your life like  years from today?',\n",
       " 'why do people smoke clove cigarettes if they are very harmful?',\n",
       " 'how is arnab goswami able to ignore so many defamation cases against him while kejriwal is being dragged to court everyday on such cases?',\n",
       " 'which is the best institute for big data hadoop course in chandigarh?',\n",
       " 'what is the clipboard feature on a computer?',\n",
       " 'what is the best place to buy maths/physics t-shirts?',\n",
       " 'does the people who are rich and still claim reservation have any conscience? why are they given reservation if are rich?',\n",
       " 'are there instances of medieval latin text being later \"translated\" into classical latin (for the purpose of comparison)?',\n",
       " 'which location is the best for an investment in gurgaon?',\n",
       " 'both me and my husband are having myopia. i want to prevent our child from this (not yet conceive).is it possible?',\n",
       " 'how does it feel to travel mph in a fighter jet from the airforces?',\n",
       " 'which book is good for power electronics?',\n",
       " 'how is it possible to make directory on linux with size of megabites? how does it happen?',\n",
       " 'when going to an interview, is it a good idea to wear a black shirt with the suit, or wear the standard white or other light colored shirt?',\n",
       " 'does every stammering have melodious voice?',\n",
       " 'what are the five types of personal fouls in basetball?',\n",
       " 'why are americans, british, canadians, australians and new zealanders considered to be separate nations even when they all speak the same language?',\n",
       " 'which is best changer for redmi note ?',\n",
       " 'at what point do you give up trying to stay friends with someone?',\n",
       " 'what are the characteristics that define the frequency division multiple access (fdma)?',\n",
       " 'how we can use new line in vb can you explain with example?',\n",
       " 'do you want a funeral? if so, what for?',\n",
       " 'if both honey singh and justin bieber fall from the th floor, who will survive?',\n",
       " 'what makes you laugh the most and the loudest?',\n",
       " 'do you have to hold a professional state license to be a mandated reporter?',\n",
       " 'what is the worst emergency that has occurred on iss?',\n",
       " 'what is cost of guru granth sahib punjabi?',\n",
       " 'what women feel when she ruin the life of man by falsly accused him for rape/domestic violence?',\n",
       " 'who built fort louis in pondicherry a particular name?',\n",
       " 'what is the best nootropics stack that balances performance and risk?',\n",
       " 'how hard is it to be accepted to cs msc at université de montréal?',\n",
       " 'with the introduction of gst, what is the meaning left of maximum retail price of products as there is one nation one tax now?',\n",
       " 'why are liberal minorities so voilent towards poeple with diffrent poltical beleifs? should supporting trump be a sentence to be imprisoned or savegely attacked?',\n",
       " 'is  trillion dollars enough to create the starship enterprise?',\n",
       " 'what are the mating habits of alligators?',\n",
       " 'how did meetic become publicly quoted in ?',\n",
       " 'which is better to use, avro or orc?',\n",
       " 'how old would neil armstrong be today?',\n",
       " \"why doesn't telemundo film most of their telenovelas in the united states and not mexico although the telemundo headquarters are in florida?\",\n",
       " \"can you return a new vehicle if you don't like it?\",\n",
       " 'which is better psu to join between oil and ongc? i have been selected in both the companies for the same profile and same pay as is the case in psus. which company should i prefer and why?',\n",
       " 'what are some of the \"undervalued\" technologies now that you see will make a big impact in the future?',\n",
       " \"what is the main role of carbohydrates in a human's diet?\",\n",
       " \"can we all now admit that president trump doesn't really want congress to pass legislation replacing daca to protect dreamers?\",\n",
       " 'if you are from eee branch at manipal, can you pick up any coding or it related subjects as minor?',\n",
       " 'how does website like ohmagawd.com or gag.com make money?',\n",
       " 'what area some steps that i need to take in my ph.d. in order to be able to launch a consulting firm right after it?',\n",
       " 'can you leave a battery blanket plugged in over night?',\n",
       " 'how do you feel about relationships with people who are disabled?',\n",
       " 'sourcing and procurement folks, have you used a crm (like salesforce) to manage your vendors/suppliers and contracts? if not, then what *do* you use?',\n",
       " \"what does it mean that my boyfriend of  years almost always has  or  ejaculations without losing an erection when he is with me? it's great. but is that normal?\",\n",
       " 'where is srinagar garhwal and what are the places to visit there?',\n",
       " 'what happens when you are accused of plagiarism?',\n",
       " 'why do people need to talk about their pain?',\n",
       " 'where do i buy best dry fruits in hyderabad india?',\n",
       " \"i have a best friend and i want to spend some personal time with him, but he keeps inviting other people to come join us, how do i tell him i want some 'us' time without him thinking weird of it?\",\n",
       " 'how can i install fifa.-duplex on ps through a usb?',\n",
       " 'what are the characteristics of performix sst fat burner?',\n",
       " 'do icy cold water help pain in hand?',\n",
       " \"when will the gulenist movement stop being falsely accused of crimes it didn't commit, and stop being oppressed?\",\n",
       " \"is there a time you felt like killing yourself because you couldn't escape an eternal torment of the same thing over and over?\",\n",
       " 'how do you germinate hen and chicks poppies?',\n",
       " 'which college majors will increase my chances of getting a high paying job?',\n",
       " 'how to download mp song with artist photo?',\n",
       " 'how many robots work in new york city?',\n",
       " 'what does run app for  seconds mean?',\n",
       " 'woes mercury and venuas have a moon?',\n",
       " 'can dogs actually cry out of sadness?',\n",
       " 'the american economy is growing under trump’s presidency, why do people still hate trump as a president?',\n",
       " 'what are the scope of electronics and communication branch?',\n",
       " 'as of april , what is barack obama current up to? how is he spending his time and energy?',\n",
       " 'when is leverage investment (ie., borrow to invest) a viable option?',\n",
       " 'which is the best projector under  rupees?',\n",
       " \"what's the scariest thing that ever happened to anyone?\",\n",
       " 'how do i make a gravitational wave transmitter antenna?',\n",
       " 'is rle international (chennai branch) worth for career development?',\n",
       " 'is there a difference between watching videos for knowledge vs reading for knowledge? which medium leads to the best outcome?',\n",
       " 'how are we supposed to get these guys out of spider-man web ball?',\n",
       " 'what is an example of pakkstani-indian collaboration?',\n",
       " 'is there a chicken breed that is known for producing extra large yolks regardless the size of their eggs?',\n",
       " 'is settling in germany easy?',\n",
       " \"is trump's speech at the value voters summit a presidential endorsement of homophobia?\",\n",
       " 'what are + r,-r,+i,-i groups in organic chemistry?',\n",
       " 'what is the diff () serotype and biotypes of bacteria?',\n",
       " 'what component can you use to transition from dcv to acv?',\n",
       " \"i'm considering to buy a bike, a cc japanese one. which is better, cbrrr, r, gsx-r , or the zx-r?\",\n",
       " 'which is the most culturally diverse city the united states?',\n",
       " 'if energy can neither be created nor destroyed, then how does it even exist (because no one can create it)?',\n",
       " 'what is the procedure to get admission in ipu for llb?',\n",
       " 'how do i win my divorce over my narcissistic ex?',\n",
       " 'what would happen if every iphone ever sold exploded at the same time?',\n",
       " 'how do i redecorate my room without money?',\n",
       " 'how much time would it take for china to destroy the whole india?',\n",
       " 'is  too late to learn programming and make a career in it?',\n",
       " \"why don't poor countries print more money to use for paying for education, etc.?\",\n",
       " 'who do you like more, my chemical romance or elvis presley?',\n",
       " \"the girl i'm talking to isn't looking for a romantic relationship. should i ask if there's a possibility in the future?\",\n",
       " \"why do all the people who claim florida has great weather go silent every time there's a new hurricane?\",\n",
       " 'should i factory reset my macbook or get a new computer?',\n",
       " \"could the leader of iran be dead many years ago and the leader of today's iran is actually a fake leader?\",\n",
       " 'what are some quotes from tomás de torquemada?',\n",
       " 'which programming language should i learn to open a software company?',\n",
       " 'is laser a good option to remove these blavk lines around my nose?',\n",
       " 'what are some spicy italian food recipes?',\n",
       " 'how can low productivity lead to lower incomes in a closed economy?',\n",
       " 'how can you tell a jerk from a narcissist?',\n",
       " 'have you ever run an online background check on someone? what prompted you to do it?',\n",
       " 'which software do i prefer good for gst billings?',\n",
       " 'what is the largest rattlesnake that can be found in florida?',\n",
       " 'do you think we all deserve happiness?',\n",
       " 'why do the liberals who run schools choose not to have controlled access? the kids in florida were killed due to an unlocked door.',\n",
       " 'among these practices, which do you consider as strenghts that any preschool should possess?',\n",
       " 'how does the society react during your term breaks at nda?',\n",
       " 'do intelligent people ask questions?',\n",
       " 'why do i feel sad watching my parents age?',\n",
       " 'how can i use python in biological researchers?',\n",
       " 'was count dooku a sith lord?',\n",
       " 'what led to the success of british efforts to claim the territory where aboriginal australians lived?',\n",
       " 'is there any typing app on bodhi linux?',\n",
       " \"why aren't lives of all animals equal?\",\n",
       " \"how can i legally use a web link in a court of law if that link doesn't exist anymore?\",\n",
       " 'what is input subsidy?',\n",
       " 'how can i create the most exciting essay to read?',\n",
       " 'why did pakistan pass the religious_id marriage act before india ?',\n",
       " 'what is another word for \"hello\"?',\n",
       " 'what’s it like living in the ghetto?',\n",
       " 'is there a good religious_id devotional about dating ?',\n",
       " 'what are the main working of big data?',\n",
       " 'how can i prevent my septic tank from overflowing?',\n",
       " 'what does the average survivor of / and families of the victims think about what really happened that day, esp. fire fighters who were there?',\n",
       " 'when did late medieval middle easterners, near easterner, nomads, and mongols eat their meals?',\n",
       " 'how can the psychology of aging be explained?',\n",
       " 'which app is best to listen to kpop music?',\n",
       " 'is our nationalism on social media only?',\n",
       " 'where is the best place for window tinting in greenville sc?',\n",
       " 'why does the hr guys in my company gives me cold shoulder?',\n",
       " 'what is the process of issuing corporate bonds?',\n",
       " 'what are some useful tips for someone who is starting work at raymond james?',\n",
       " 'how did you lose that last layer of stubborn fat?',\n",
       " 'which engineering branch should be choose to apply for junior scientist in isro?',\n",
       " 'what creative jobs can i take up and where?',\n",
       " 'how do i train my dogs to kill raccoons?',\n",
       " \"would you forgive your husband if you caught him having sex with his favorite celibrity? if he later says he couldn't control himself as his lifetime fantasy was becoming true.?\",\n",
       " 'can downloading pirated content be considered as a violation of the second precept of buddhism?',\n",
       " 'why is it that arranged marriages which happened in our previous generation have greater chances of surviving the entire life duration as compared to the ones happening in our generation?',\n",
       " 'what is a good example explaining \"occam\\'s razor\"?',\n",
       " 'why does life gives pain and sadness?',\n",
       " 'how can i tackle obsession?',\n",
       " 'what are the advantages and disadvantages of automatic headlamp on (aho) especially in two wheelers in india?',\n",
       " \"what things doing daily will change one's ecomonic condition and personality?\",\n",
       " 'what is the best way to learn manga drawing?',\n",
       " 'when writing manual test cases and scripts, how much detail is too much detail when documenting the steps?',\n",
       " 'what are some small yet important battles that occurred in ww?',\n",
       " 'is this the best time to buy a kyber token at .$ as of the th of oct ′?',\n",
       " 'why did my taskbar stopped responding?',\n",
       " 'what are the best way to answer a question on quora and get more up vote?',\n",
       " 'can i use images from other blogs just giving credit to the original author?',\n",
       " \"shouldn't republicans be given a free pass to run the government any way they see fit?\",\n",
       " 'did the british parliament just abolish itself?',\n",
       " 'how can i apply for topik exam in india online?',\n",
       " 'what is better than steak?',\n",
       " 'dis advantages of education?',\n",
       " 'is there a way to start a mongodb server from a mongodump without having to use mongorestore?',\n",
       " 'why do people feel hesitate or humiliate while speaking hindi?',\n",
       " 'how should i prepare for ese  (civil) if i had - marks in ese  and i am in my last semester of college?',\n",
       " 'ingredio milk shake was harmful to use long time?',\n",
       " 'what are some examples of motion- without force?',\n",
       " 'what is transient voltage?',\n",
       " 'what is bass heads?',\n",
       " 'why is the poem \"ramayana\" one of the largest ancient epics in world literature?',\n",
       " 'is there any woman ( other than religious_id ) who is happy after marrying a religious_id guy , as there are a lot of answers on quora about love jihad , and all of them suffered a lot after marrying a religious_id guy ?',\n",
       " 'how does the chain rule work?',\n",
       " 'what happens when a computer needs to be accessed for an investigation? what tools do the police use?',\n",
       " 'are there many famous polygamist celebrities in modern day indonesia today?',\n",
       " 'which are the best trusted sites for applying scholarships in class ? i scored good marks in th.',\n",
       " 'which book is best in british history for graduation?',\n",
       " 'what is the best free online lecture video site for neet pg and mbbs?',\n",
       " 'how good is the bachelor of information technology from the university of queensland australia?',\n",
       " 'how does the rise of china change the view of dictatorship?',\n",
       " 'if it possible to score a good sectional percentile in lrdi by only solving di questions?',\n",
       " 'how is the best way to speak english like a british?',\n",
       " 'how can i do scientific research and get published at age ?',\n",
       " 'which are the best places to party in bangalore?',\n",
       " 'is it safe to invest larger amount of money in online stock market trading in india? if not what would be the alternative solutions?',\n",
       " 'how much does increasing funding for education increase the quality of education?',\n",
       " 'why do bushfires happen?',\n",
       " 'what are the best ways to clean your remington woodmaster model  .-?',\n",
       " 'why do police officers get to go on paid administrative leave before getting fired where the average joe just gets fired? who negotiated this inequality?',\n",
       " 'how can i become certified in revit?',\n",
       " 'what is the primary cause of post-traumatic stress disorder in the military?',\n",
       " 'is a soy latte a healthy drink?',\n",
       " 'why would a deployed army ranger ask for a steam gift card?',\n",
       " 'which type of clutch is used in activa?',\n",
       " 'in psychology, what is compliance?',\n",
       " 'as an exceptionally or profound gifted individual, which way of thinking is most dominant, verbal or non-verbal?',\n",
       " 'how much weight can i stack on top of my laptop?',\n",
       " 'how do i become scientist after class ?',\n",
       " 'why if a man who has had me over  times. who we both know are attracted to and like each other, ask why i came when he asks me over? is he looking for confirmation? when there i stay for / hours at a time.',\n",
       " 'how much a new lawyer earns in india? and how many types of lawyers are there?',\n",
       " \"my samsung galaxy s edge is not being recognized by any pc's or usb flash drives. how can i fix this issue?\",\n",
       " 'what would have stalin thought of the late cold war era soviet union?',\n",
       " 'which army was better, spartan or roman?',\n",
       " 'what should i reply when i ask my friend for a little help and he tells me jocularly that i will have to pay for his help?',\n",
       " 'what are the steps to become an analyst in cricket (be it video or data)?',\n",
       " 'what are some characteristics of deoxyribose and ribose sugar?',\n",
       " 'do moms have sex with their sons?',\n",
       " 'is dear zindagi a good movie?',\n",
       " 'what is it like to work as an employee for oprah?',\n",
       " 'why did the pope say that `` religious_id are a curse to this world `` ?',\n",
       " 'what is the meaning of relationship with a girl from two year?',\n",
       " 'which mba program is suitable for a doctor in the field of private practice for over  years?',\n",
       " \"why didn't the romans conquer ireland they failed to conquer scotland?\",\n",
       " 'how much money do i need to buy a gas station?',\n",
       " 'what is the ladder operator method for determining the energy eigenvalues in a quantum harmonic oscillator?',\n",
       " \"if xrp doesn't gain mass adoption, what would most likely be the causes?\",\n",
       " 'what animals are native to spain?',\n",
       " 'can coffee make you more productive?',\n",
       " 'create the most advanced animal ever from currently living or extinct species…?',\n",
       " 'where is a good place for filming time lapse videos of planes landing in heathrow airport?',\n",
       " 'what are the roles of royal british guards?',\n",
       " \"excluding online / e-commerce businesses like uber & airbnb, what's the best referral program you've heard about or used?\",\n",
       " 'what was the main reason of conflict between suhrawardy and bhashani?',\n",
       " 'can i buy airticket with amadeus after booking it? and how?',\n",
       " \"why can't i become a businessman?\",\n",
       " 'can weed be a good antidepressant?',\n",
       " 'how much is the world worth?',\n",
       " 'if you had to choose between instagram and quora, what would you choose?',\n",
       " 'what is the past form of must have been?',\n",
       " 'what are some of the good textbooks for learning philosophical logic for an absolute beginner?',\n",
       " \"how can we indians make sri lankan people understand that india created and funded the ltte for the benefit of sri lanka itself and india didn't have any ill intentions?\",\n",
       " 'what is the best way to consume a lot of educational material?',\n",
       " 'can my followers see my anonymous questions? (since  anonymity changes)?',\n",
       " \"how does lady macbeth plan to kill duncan in shakespeare's play?\",\n",
       " \"why do n't the gulf racial_id post pictures of women in their countries ?\",\n",
       " 'how free or democratic is in the usa? what does it mean to you personally?',\n",
       " 'what are the modern superstitions blindly believed by educated masses?',\n",
       " 'how can i convince a  year old to eat healthy?',\n",
       " 'what are the disadvantages of using react native for developing native apps (e.g. instead of swift)?',\n",
       " 'what is the mindset and motives of the westerners who join isis?',\n",
       " 'how do i become a delivery partner at amazon?',\n",
       " 'who is the sexiest female in the world?',\n",
       " 'what happened to lsi corporation?',\n",
       " 'i almost constantly feel uneasy. why?',\n",
       " 'how can i find a government job?',\n",
       " 'what is the difference between a split squat and a lunge?',\n",
       " 'where can i download test bank for entrepreneurship the art, science, and process for success, bamford, e?',\n",
       " 'how many students appear for imucet every year?',\n",
       " 'how peoples in india seems hypocritical about womans empowerment?',\n",
       " 'what does a certified energy auditor do?',\n",
       " 'what really happens in \"flapping/r-voicing\" english dialects when unstressed /t/ or /d/ are preceded by /n/ (e.g. /nt/ and /nd/ in \"winter, blender\")? is it a nasalized tap [ɾ̃], [nɖ], [nɾ] or just [n] with the /t, d/ dropping (winter-winner merger)?',\n",
       " 'who are you going to meet, if you go to heaven?',\n",
       " \"why wasn't john diggle the green arrow in crisis on earth-x? arrow se seemed to conclusively show him taking up the mantle.\",\n",
       " 'do the royals prefer william to harry?',\n",
       " 'is it necessary to disclose your salary from the last employer while interviewing in a new company in it?',\n",
       " 'how many optionals are there in up pcs  exam?',\n",
       " 'why is relational algebra s the basis for relational databases?',\n",
       " 'what is the difference between structural breaks and regime shifts?',\n",
       " \"what's some of the biggest book discussion websites/forums?\",\n",
       " \"when did deviantart's fetish culture become as prevalent as it is now? and how can the site moderate this content better without being too tyrannical?\",\n",
       " 'on what day are checks being mailed out for july?',\n",
       " 'what kind of therapy can help you forget a memory? does hypnosis actually work?',\n",
       " \"why at times i can sing perfecty and can hit every single note easily, and then at times i stuter when i speak and can't even sing and become out of breathe?\",\n",
       " 'which black superhero can beat superman or is as strong as him?',\n",
       " 'what is the difference between a maverick and an indecisive person?',\n",
       " 'why do trading card game copanies pretend like kids are their main demographic when % of their customers are above  years old?',\n",
       " 'what different magic does the lucas sequence have than the fibonacci?',\n",
       " 'what did you buy on a hunch that turned out to be the smartest investment you ever made?',\n",
       " 'can i crack jee advanced with air  if i study one year having good basic knowledge?',\n",
       " 'how much more political fumbling will it take for republicans to turn on trump?',\n",
       " 'what is the most recognizable short story?',\n",
       " 'does the skin get affected after shaving the hair (skin on arms and legs)?',\n",
       " 'how can i use real time database on my wordpress website?',\n",
       " 'what are the procedures (forms) to be followed to accept loans from director is a nri?',\n",
       " 'what if the indians had been in place of the red sox in the  world series?',\n",
       " 'why are citizens of the netherlands called dutch?',\n",
       " 'why do so many racial_id wear masks ?',\n",
       " 'what are the chinese fortune sticks meanings?',\n",
       " 'how can i find out the carrier by only using the tracking number in the uk?',\n",
       " 'why do i love starting fights and making people angry?',\n",
       " 'should i use my brain more?',\n",
       " 'how does the electrostatic force f revolving electron becomes equal to the centripetal force?',\n",
       " 'how does bikini look like?',\n",
       " 'what is a   dollar worth?',\n",
       " 'why did my clock stop at : in the morning?',\n",
       " 'what is the difference between dimension table and fact table?',\n",
       " 'how dangerous of an animal is a mandrill?',\n",
       " \"what are some ways for a layperson to profit from a country's currency failing?\",\n",
       " 'how can certain pro-lifers call themselves that when they believe a woman should die than have an abortion to save her life?',\n",
       " 'how is asking a data scientist to analyze the national economy different than asking an economist to analyze the same economy?',\n",
       " 'how can i get bansal classes sheets?',\n",
       " \"aren't religious people afraid that their deceased loved ones are watching them while they're using the bathroom, masturbating or having sex?\",\n",
       " 'how much weight can a toy wooden boat hold in kilograms?',\n",
       " 'is there a way to report a business review of your business on facebook? how do you do it?',\n",
       " 'which models does the chevrolet caprice ppv primarily compete with? how do they compare?',\n",
       " 'what type of franchise can be thought of in a city like surat (gujarat) with a small investment?',\n",
       " 'how do i score good marks in economic application for icse examinaton?',\n",
       " 'how does radar guidance for anti-aircraft guns work?',\n",
       " 'why was a non-offensive photo without nudity or profanity deleted?',\n",
       " \"why are chik-fil-a's restaurants always so nice compared to most other chains?\",\n",
       " 'is there any way to get insurance of damaged two wheeler?',\n",
       " 'what are my chances to grab an mbbs seat under % state quota in west bengal with  marks in neet  in a government college?',\n",
       " 'what are some unique live/study abroad experiences that you have?',\n",
       " 'when he has to go somewhere or take or do something for his sister, he says i can go but when i do  min in the car ride he starts a fight and accuses me and says im ruining his day why?',\n",
       " \"what does curvature of space time mean. we know that there isn't a humongous net in space that is curved, so what is it?\",\n",
       " 'why do americans prefer just to not show up somewhere rather than face even the mildest of conflicts? (my colleagues and i have noted a growing number of people who skip any face to face meetings without any explanation at all.)',\n",
       " 'how harmful is electromagnetic interference?',\n",
       " 'how can i distinguish between relative scales such as b-flat major and g-minor or c major and a minor?',\n",
       " 'do we feel our breath?',\n",
       " 'what are the reasons for drug trafficking?',\n",
       " 'what should the normal fetal heart rate be during pregnancy?',\n",
       " 'how can shoulder pads protect you in american football?',\n",
       " 'my ex-girlfriend and i live in different countries, we are very much in love, and cannot be together for  more years. what should we do?',\n",
       " 'what are the similarities between communication and information?',\n",
       " 'which company can i apply in web development domain having  years of experience in cognizant?',\n",
       " 'what happens if i drink  can of monster energy?',\n",
       " 'which is the biggest alphabet in the english dictionary?',\n",
       " 'who invented the modern portfolio theory?',\n",
       " 'can we convert heat directly into elecric energy without a cold body?',\n",
       " 'is finix coin ico legit or scam?',\n",
       " 'how good are my chances of getting accepted for phd at mit, caltech, berkeley? see comments for details.',\n",
       " 'is .… equal to .… because of rounding?',\n",
       " 'why is india actually called as india?',\n",
       " 'what causes weevil infestations at your home?',\n",
       " 'why does my boyfriend give me the silent treatment?',\n",
       " 'what is the history of matrices in computer science?',\n",
       " 'how do you stop making mistakes when playing chess?',\n",
       " 'what is the best step to work as a freelance writer?',\n",
       " 'why would you expect to have dilute urine with addisons disease?',\n",
       " 'what is supercharging in ic engine?',\n",
       " 'does stiffness attracts load in beams?',\n",
       " 'what are somen well designed social experiments?',\n",
       " 'if reincarnation is not true, why do some people remember their past lives?',\n",
       " \"why super respectful and successful entrepreneurs who are millionaires or billionaires don't want to be lead in politics?\",\n",
       " 'who is likely to be fluent in english: a ghanaian or a nigerian?',\n",
       " 'who is objectively the most powerful character in the marvel/dc universes?',\n",
       " 'why are all of the most popular comments on nyt are against the memo, whereas the ones on wsj are pro-memo, given nyt and wsj have similar political bias?',\n",
       " 'what does the diet of the mantis shrimp consists of?',\n",
       " 'is the term \"linguistic differential\" an actual linguistic term?',\n",
       " 'why do so many people decide against graph databases? scalability? not enough experts? mostly \"unconnected\" data to start with?',\n",
       " 'what is your opinion on chicken waffles?',\n",
       " 'what is the best diet for teddy bear hamsters?',\n",
       " 'have you ever taken your sweet time imagining a fiction book?',\n",
       " 'what is the scope in sound engineering in india and what is the annual income of sound engineers?',\n",
       " \"i just lost a tooth. why can't i see my new tooth forming? it has been already  days.\",\n",
       " 'is it possible for a human to think faster?',\n",
       " 'will it be helpful if i drop  year and appear for it again if my results this year are not good enough?',\n",
       " 'liberals are pro-choice, but the choices must be approved by them first. is this an accurate description of liberals?',\n",
       " 'is it normal to lose your mucus plug during an early pregnancy?',\n",
       " 'what is the value of sin^a+sin^b?',\n",
       " 'what do the dutch think of the roosevelts?',\n",
       " 'have you ever met or befriended a woman who has enough physical strength and is ready psychologically to overpower, tie up and gag an average man in case of being that necessary for her safety?',\n",
       " 'what software would you recomend in order to find the posts with the most likes on a facebook group or page?',\n",
       " 'why are south indian dishes which are prepared by north indians more tasty than dishes prepared by south indian restaurants?',\n",
       " 'how much employment does a super yacht represent? how many people are employed and for how long, in sourcing the materials & then building the vessel?',\n",
       " 'which private college is good in wbjee?',\n",
       " 'how can i change my last name in california?',\n",
       " 'what are some practical and possible applications of machine learning in life sciences, ecology, conservation biology, and environmental sciences?',\n",
       " 'how do you load a black powder rifle?',\n",
       " 'should you be able to name specific companies you have introduced to opportunities if no transaction has resulted?',\n",
       " 'what is a fiduciary? how is it different from a financial advisor?',\n",
       " 'how can we build self-confidence in women?',\n",
       " 'why do american firms steal chinese technology?',\n",
       " 'what proves i was born from another human being? i don’t remember being born.',\n",
       " 'can i get mbbs seat in govt medical colege in gujarat if my state ramk is ?',\n",
       " \"getting a - reading from white wire that's tied to the ground bar what does that mean?\",\n",
       " 'how long do you think it will take for quora to remove this question? closest guess wins a prize.',\n",
       " 'where can i purches some dmt in orange county?',\n",
       " 'what is the recipe for boiled egg noodles?',\n",
       " 'is paddy a herb?',\n",
       " 'do therapists actually care about you like they would a friend or do they care cause it’s their job?',\n",
       " 'what does it mean if i have a light sensitivity and sometimes my head is in pain and it i feel that it will broke into half?',\n",
       " 'can i get cse branch in vit chennai if my rank is ?',\n",
       " 'is it legal for a debtor or quit their job to avoid a creditors collection efforts and still claim unemployment in california?',\n",
       " 'among all which software service based companies have higher salary?',\n",
       " 'how long would it take for someone to notice if you suddenly disappeared?',\n",
       " 'how social networking sites work with opinion mining techniques applied on user comments?',\n",
       " 'are you doing your dream job?',\n",
       " 'why is jinping the biggest serial religion murderer and rapist leader of the world after mao?',\n",
       " 'how is ammonium bicarbonate used in production of bread?',\n",
       " 'are\\xa0jat\\xa0and\\xa0gujjar\\xa0girls beautiful?',\n",
       " 'does a box of ammo just explode or does each individual bullet go off like fireworks?',\n",
       " 'what is the best method for determining what your values are?',\n",
       " 'what is the difference between impression materials and impression compound?',\n",
       " 'is someone from sci graduate marine engineers (gme) mumbai?',\n",
       " 'how do animals defend themselves out in the wild?',\n",
       " 'how do i get a job as an ilustrator?',\n",
       " 'can california legally require that tinder stop charging users over  years old a higher rate?',\n",
       " 'what is the book \"nothing succeeds like success\" about?',\n",
       " 'what cold war and its effects?',\n",
       " 'why has polythene been banned in our state and country?',\n",
       " 'do state bureaus of investigation investigate homicide more than the fbi does?',\n",
       " 'how religious are tunisians?',\n",
       " 'is it difficult for animal welfare charities to compete against those that benefit humans, epecially when many of us have limited funds to contribute?',\n",
       " 'why should you consider taking a train ride from philadelphia to baltimore?',\n",
       " \"what are howie seago's major accomplishments as an actor?\",\n",
       " 'what are the risks of bleeding and clotting during early pregnancy?',\n",
       " 'do animals make noise when having sex?',\n",
       " 'how is it that i can get  to  hours of sleep before my graveyard shift and still have trouble staying awake for my  hours of work?',\n",
       " 'what is considered a babyface in wwe?',\n",
       " 'what are the new topics for research in human resource management?',\n",
       " 'what are the challenges that lori anne allison has faced as a makeup artist?',\n",
       " 'what are some of the most remote areas in the world?',\n",
       " 'where can one apply for aadhar in bandhup west lbs marg?',\n",
       " \"what are objective criteria in evaluating cell's health in culture?\",\n",
       " 'what is the salary range of the salary of rich people?',\n",
       " 'what happens to those who have less than % attendance?',\n",
       " 'who is the worst usa president, bush or trump?',\n",
       " 'i have corrected only my exam centre in neet form do i have to pay any correction fee?',\n",
       " 'do you know about mumbai call girl service?',\n",
       " 'what is the full procedure of cutoff based admission in delhi university?',\n",
       " 'what is the longest practical distance that light rays could converge? (on earth, in a standard atmosphere)',\n",
       " 'why did captain phasma give up so easily? i, personally thought that she was going to somehow resist or trick the gang.',\n",
       " 'what is scope of ba?',\n",
       " 'why there is lots of suicide?',\n",
       " \"is it racism what this australian girl did to me ? i 'm racial_id .\",\n",
       " 'what do you think about the protests against padmaavat (padmavati)?',\n",
       " 'how did we decide that the earth rotates from west to east?',\n",
       " 'how can i be a great footballer?',\n",
       " 'what is the diff between lte and volte phone in providing facility?',\n",
       " 'prevent forwarding of your whatsapp videos?',\n",
       " 'what songs should we play during the cocktail hour at our wedding?',\n",
       " 'how common is injury due to friendly fire in military operations?',\n",
       " 'where can i find a free carpet installation invoice template?',\n",
       " 'why do people on quora not answer my question about gun control? i just want to debate with people who support gun control, but no one answers it.',\n",
       " 'why do i always mess everything up?',\n",
       " 'when will the us stop supporting kosovo terrorists (albanians), who are actually the same as isis?',\n",
       " 'what s born celebrities were still alive in the s?',\n",
       " 'how do sex workers handle and secure their cash earnings?',\n",
       " \"i have made payment for aa recruitment fee but transaction didn't complete and balance deducted from my bank account and the site is still asking for payment, why so?\",\n",
       " \"i've got / in mu oet . what branch and rank can i expect?\",\n",
       " 'has it become more difficult since  to land a job through the usc ms cs program?',\n",
       " 'what should indian teenager never try in there life?',\n",
       " 'is the job market bad for experience holders in india currently?',\n",
       " 'would a famous person on social media ask a fan for something like money or itunes cards?',\n",
       " \"what are robin gibb's major accomplishments as a singer?\",\n",
       " \"why do americans need the second amendment? don't want to start a fight but the right says it is necessary for a democracy and such and why are they so worried about the government.\",\n",
       " 'what is the budget for new year camping in jaisalmer?',\n",
       " 'what are the best humour or jokes in the world?',\n",
       " 'what role did leigh francis develop as the fictional character \"keith lemon\"?',\n",
       " 'will cars be still around in  years?',\n",
       " 'is it true that chennai is developed because of telugu people?',\n",
       " 'is it dangerous to have blood in cough in morning?',\n",
       " 'why would more people live in one country over another?',\n",
       " 'is mack  blood?',\n",
       " 'whatis the difference between a stag and a buck?',\n",
       " 'can i lose weight without eating eggs?',\n",
       " 'can a restaurant play loud music in?',\n",
       " 'what are some cultural taboos in russia?',\n",
       " 'what if i want to start practice after articleship in big ? if not practice, what are other options available?',\n",
       " 'what does racial_id think of anti semites attacks by religious_id in their countries ?',\n",
       " 'how did james burke become deaf?',\n",
       " 'is there any directory for it professionals in bangalore?',\n",
       " 'is it possible to suffer from depression without knowing it?',\n",
       " 'how can i disassemble . double-action revolvers?',\n",
       " 'will you be able to play a co-op games between a nintendo ds and the nintendo switch?',\n",
       " 'why is it hard to download games from the play store?',\n",
       " 'how do i get cheap flight tickets from delhi to london?',\n",
       " 'how can i quickly learn breakdance power moves?',\n",
       " 'is there a stereotype attached to people from sydney’s northern beaches?',\n",
       " 'do you think inflation hits rich businessman?',\n",
       " 'can you make more money as an electrician?',\n",
       " 'why indian girls have fetish for white guys?',\n",
       " 'what are some tips to write a summary about \"until they bring the streetcars back\"?',\n",
       " 'who is the best broker for a new real estate agent in california?',\n",
       " 'whats the cleanshot way to express ones feelings to a girl irrespective of the outcome?',\n",
       " 'what are your views on barkha dutt switching to newsx?',\n",
       " \"would twitter hire you if you don't have a twitter account?\",\n",
       " 'how was swagatham  program by csa, iisc for gate  toppers? how people are selected/invited and do they invite only computer science students or others also?',\n",
       " 'i get st place or otherwise in the top three for hashtags on nearly all of my posts, even with million-post hashtags. however i do not get much traffic from that, only getting follows through following. what am i doing wrong?',\n",
       " 'how can i get market research report on kids apparel industry india?',\n",
       " 'what are the different types of consultants and what is the qualification to become a consultant?',\n",
       " \"what's your favourite?\",\n",
       " 'what is the difference in listed and unlisted company?',\n",
       " 'should i ask any questions?',\n",
       " 'which are the best books to read for indian politics and which tells truth about all the political matter?',\n",
       " 'does an analog energy meter rotate when the load is off?',\n",
       " 'what will people know about generation z in ?',\n",
       " 'could the modern canadian military take on nazi germany of ww?',\n",
       " 'if i throw an ice cube into the ocean, what is the chance that i will come in contact with one of those water molecules (from the ice) again in my lifetime?',\n",
       " 'why my acer aspire v  laptop show me \"no battery is detected\"?',\n",
       " 'how can i forcibly convert all chinese people to religious_id wahabbi islam ?',\n",
       " 'can i get a friend from uk or usa?',\n",
       " 'what are the requirements to get in princeton?',\n",
       " 'how are the two types of urban local bodies constituted?',\n",
       " 'did the idea of yin and yang originate in china?',\n",
       " 'what should you take into consideration when making a hank hill costume?',\n",
       " 'can a chinese person start a political party?',\n",
       " 'why iron is not found in its free state?',\n",
       " 'how fast will humans die if the sun suddenly turn off and solidify maintaining the same gravitational force?',\n",
       " 'how do you search for and find mass graves?',\n",
       " 'do crime reporters face death threats?',\n",
       " 'which is the best elevator company in india?',\n",
       " 'will the end of net neutrality help traditional media rebound?',\n",
       " 'is there any apps for mining bitcoin with paid version?',\n",
       " 'who was the shortest professional wrestler ever?',\n",
       " 'which offices or agencies are legally able to arrest a sitting u.s. president?',\n",
       " 'who are the major jute exporters in bangladesh?',\n",
       " 'which university should i apply for a bachelor in the liberal arts in europe?',\n",
       " \"tum masters in communication requires recommender to state that the candidate was in top %, why will he do when he wasn't?\",\n",
       " \"my body temperature has increased slightly, but i don't have any feverish feeling. is there any matter of concern?\",\n",
       " 'what summer internships are available for marketing aspirants?',\n",
       " 'what are the differences between depression and melancholia?',\n",
       " 'how did you manage to overcome childhood adversity to become the person you are today? what were the prime motivators during your journey?',\n",
       " 'what is the genetic background in details?',\n",
       " 'if men have a better pain tolerance than women, does that mean they would handle childbirth, menstrual pain and breastfeeding better?',\n",
       " \"what was the historical significance of mesopotamia's god?\",\n",
       " 'why is it ironic about the meaning of salem where so many people were hanged in the crucible?',\n",
       " \"is it wrong that i love someone i've never met?\",\n",
       " 'is there anything called love at first sight?',\n",
       " 'do akshay thakre has naag-mani with him?',\n",
       " 'this guy tells everyone that he hates me, but i have never talked to this guy. if he does why does he keep staring at me and try to look at me when i’m not looking?',\n",
       " 'where is the answer key of mock test for aiims  which is distributed tomorrow?',\n",
       " 'why some lg phone tempature get too high?',\n",
       " 'can teachers smack students at school in australia?',\n",
       " 'why is aerogel so expensive?',\n",
       " 'is it ok to walk your dog in the rain, or what are alternatives?',\n",
       " 'what is the plural of \"mathematics\"?',\n",
       " \"why do people act like having sex is this amazing thing and everybody else should want to have it? i don't care if people enjoy sex if they're happy, but i hate when they act like my asexuality means i'm either missing out on life or being childish.\",\n",
       " 'how much does it cost to live in paris for a month?',\n",
       " 'how can i say (and write) \"are you tibetan?\" in tibetan?',\n",
       " 'how do you change the wording in a groupon review that i already submitted?',\n",
       " 'if jorge luis borges was alive now, where would he publish his short stories?',\n",
       " 'how do you make sure you are implementing the ideas you get from the books you read?',\n",
       " 'what is the point of intersection between y= \\\\sqrt {-x} and y=x?',\n",
       " 'what is the best way to report fraud by a hospital or medical practice?',\n",
       " 'why do people on youtube disrespect my opinions with fake exhausts on cars such as mercedes-benz and audi?',\n",
       " 'do you shower before breakfast, or have breakfast before showering?',\n",
       " 'given a constant volume, does pressure drop as gas is absorbed?',\n",
       " 'what is the name of the bird that lives in gir forest and freezes when threatened?',\n",
       " 'is it possible knowingly to stop your own heart or heartbeat?',\n",
       " 'doctor injected anesthetic into my skin for minor surgery. i felt a cold rush through my body, but absolutely no numbing in the area whatsoever, i felt it all and it was horrible. could he have injected directly into my bloodstream?',\n",
       " 'what is cryptorchidism and how is it treated?',\n",
       " 'why is education better than business?',\n",
       " \"should i really feel that it's okay not to love or respect women?\",\n",
       " 'is there a way to switch accounts you signed up with on your windows  pc?',\n",
       " 'why did most of the colonial empires come out of racial_id countries ?',\n",
       " 'you can swap your identity with anyone in the world but you are stuck with their body, money, house, debts and family forever, who do you choose?',\n",
       " \"does buying a graphic card holding laptop damage the laptop's performance faster than that of a ordinary laptop?\",\n",
       " \"what is the orthodox religious_id argument against `` filioque ? ''\",\n",
       " 'how do you know when your boyfriend is bipolar?',\n",
       " 'economically speaking, were wages higher for men before women entered the workforce?',\n",
       " 'is the x bike waterproof?',\n",
       " 'what are the most resent challenges in human resources management that need to be addressed?',\n",
       " 'what are those kid gang genre movies like the goonies, e.t or stand by me called?',\n",
       " 'what are some examples of fables and folktales?',\n",
       " 'why is snapchat popularity declining?',\n",
       " 'what does the chairman of a regional federal reserve do?',\n",
       " 'is canada a better country to pursue mba in banking and finance after  years of experience in indian banking system?',\n",
       " 'what is the colour of methyl orange in limewater?',\n",
       " 'what causes itchiness in my breasts?',\n",
       " 'can comrades of quora answer, who are the ias, ips. ifs, ies officers that suffer due to their mentally retarded children?',\n",
       " 'if every other car is autonomous and you had the only non-autonomous car, what would you do?',\n",
       " 'how can i start earning after doing my mbbs other than private clinics? like how to apply for hospitals and what would be the salary?',\n",
       " 'what is the best collection of amazing facts?',\n",
       " \"which are some of the world's most dangerous for activists?\",\n",
       " \"is it bad for a  year old girl to be extremely close to a  year old girl if they're not related?\",\n",
       " 'how can i train a yorkie-pom dog to follow my commands?',\n",
       " 'what are the best running shoes for flat feet?',\n",
       " 'what is the easiest way to convert cubic feet into liters in basic chemistry?',\n",
       " 'are there any uses of sports certificates at school level in any interview?',\n",
       " 'how many times has the u.s. air force failed to send over court martial records to the f.b.i.?',\n",
       " 'what should i do if i’m electrical engineer but very intrested in mechanical machines & equipments?',\n",
       " 'what is future of administrator in linux?',\n",
       " 'why do gopal krishna gokhale was considered an important mentor to gandhi?',\n",
       " 'where can i buy unique and quirky products online?',\n",
       " 'game of thrones, what does arya find out about littlefinger?',\n",
       " 'what are some of the foods which should be taken at least once in a week?',\n",
       " \"what's the weight of undergraduate research while applying for integrated phd (physics) in india? does not having a research paper published after bachelor degree deter the chances of getting selected?\",\n",
       " 'm.planning or m.des, whats better after b.tech in civil engineering?',\n",
       " \"what are some of your 'bakkushan' moments?\",\n",
       " 'does walmartlabs give new hire stock grants and how does the rsu vesting work?',\n",
       " 'what do you think will happen to bitcoin ?',\n",
       " 'what is actually happening in syria with children?',\n",
       " 'if racial_id are so proud of their countries , why do they move out ?',\n",
       " 'what are the job prospects after doing an msc in chemistry or biology?',\n",
       " 'what would you name a cognitive automation solution?',\n",
       " \"does facebook record audio on users' devices for ad-targeting purposes?\",\n",
       " 'how is pre-ordering considered bad?',\n",
       " \"which college i could get with  marks in neet' specially in up?\",\n",
       " 'what is the point of speed limits on interstate highways and nonresidential/city roads? stationing police officers on these roads seems like a huge waste of limited police resources.',\n",
       " 'what are some good tips for eso?',\n",
       " 'which dog collars are the best to use when training dogs?',\n",
       " 'why does quora have a text limit?',\n",
       " 'what is the easiest way to get rid of debt?',\n",
       " 'how does the multiple-hit hypothesis explain the development of cancer?',\n",
       " 'what happened in the year ?',\n",
       " 'how do are non-dihydropyridine calcium channel blockers used?',\n",
       " 'how can i cope with my boyfriend being extremely jealous?',\n",
       " 'a governmental organisation is threatening your life. you have five hours to hide. what do you do?',\n",
       " 'what does car mean?',\n",
       " 'do you have a particular kind of music that you listen to when you are sad?',\n",
       " 'can i give a reward to my virtual assistants for their efforts?',\n",
       " 'what are the admission requirements in stanford university for an indian student?',\n",
       " 'what are some sites on the web that criticise indie films?',\n",
       " 'which type of questions may asked to a civil engineer in upsc civil services interview?',\n",
       " 'are the u.s, sanctions against iran legal and in good faith?',\n",
       " 'what do you think will happen in seasons  and  of the americans?',\n",
       " 'why do people think it is okay to ask people online advice about health issues?',\n",
       " 'what are some signs that indicate trump is trying to turn the united states into an authoritarian state?',\n",
       " 'what are the harsh truths about africa?',\n",
       " 'how is your experience with husky dogs in india? can they sustain indian tropical environment?',\n",
       " 'what are the prerequisites to become an assistant professor?',\n",
       " 'is it helpful to do mtech with low aggregate in mechanical engineering?',\n",
       " 'do you , as a religious_id , think that religious_id should convert to christianity in order to be saved ?',\n",
       " 'did augustus get married?',\n",
       " 'are there any theories about how human memory is stored other than in synapses?',\n",
       " 'who is paying for the royal family besides the brits?',\n",
       " 'is queen elizabeth related to king henry viii?',\n",
       " 'why are drain flies common on sewage systems?',\n",
       " 'how long does it take you to process a cow?',\n",
       " 'how do charities become so huge?',\n",
       " \"why are racial_id so ungrateful for america ? they 'd be speaking german without us and because we cover their military costs , they can spend more on social safety programs .\",\n",
       " 'where do i find the class clowns at harvard?',\n",
       " 'is there a future for us?',\n",
       " 'which city in india has a good ecosystem for developing prototypes real fast and real cheap for inventors?',\n",
       " 'is it worth to study in mba in tier  colleges like tapmi / bim / kj somaiya?',\n",
       " 'what is the lease agreement for common.com or ollie.co or coliving.com?',\n",
       " 'do companies like tcs, wipro, infosys give salary during their training period?',\n",
       " 'what supplements work for growing boobs?',\n",
       " 'should we be more concerned with whether carter page is a russian spy and why was he working for the trump campaign?',\n",
       " 'is there any sense for native english person to immigrate to germany from great britain?',\n",
       " \"do fl police record any data when they check a citizen's id without issuance of any citations or infractions?\",\n",
       " 'do electric cars have gears?',\n",
       " 'how do i live on , a year?',\n",
       " 'what is an impersonal god?',\n",
       " \"how can i avoid my dog from getting wet when it rains if i can't allow her to come inside and there is no dry area available for her to stay under?\",\n",
       " 'what is the best way to deal with sex withdrawal?',\n",
       " \"where's wechat symbol?\",\n",
       " 'where are the best colleges and why (e.g. free tuition, job opportunities?',\n",
       " 'what is the purpose of the siliceous ooze?',\n",
       " 'how do i sell pakistan? i need lots of money so i decided to sell pakistan any one wanna buy?',\n",
       " 'where are the first  employees of flipkart now?',\n",
       " 'the solar system is not a fixed reference frame in the universe, so are we experiencing any time dilation effects due to its movement?',\n",
       " \"would thin plated armour with folded leather scales underneath make a good knight's armor?\",\n",
       " 'what are some unique bandeau outfits ideas for teenagers?',\n",
       " 'what the simlarity between computer organization and computer arichtecture?',\n",
       " 'what were the most important  causes of the great depression?',\n",
       " 'are you covered by insurance if you die on a roller coaster?',\n",
       " 'how did civic nationalism originate?',\n",
       " 'what other big investment options with less risk are there in india except real estate?',\n",
       " 'what eventuality are you prepared to survive and would such a collapse be worth surviving?',\n",
       " \"why can't people change gender physically the way animals can?\",\n",
       " \"why do my gmail passwords keep disappearing? i'm on a mac, and all my gmail boxes are in the sidebar along the left. every so often, i lose connection to my gmail boxes, and have to reset all the passwords. i access these mail boxes every day.\",\n",
       " 'what do i need to do to become a great electrical engineer?',\n",
       " 'can weed cause cardiac arrest?',\n",
       " 'are there any types of tooth-coloured fillings?',\n",
       " 'why do i think it\\'s good for a country to have more cctv surveillance and phone surveillance despite \"human rights abuse claim\"?',\n",
       " 'how can i notify one of my tweeter contacts about the fact that his account is possibly hacked, since it likes pornographic content, is it possible to send an anonymous message?',\n",
       " 'choose your least favorite mcu villain. how would you improve him/her?',\n",
       " 'why cant indians stop comparing themselves with much developed countries and start working on building themselves instead?',\n",
       " 'between armfeldt, lewenhaupt and rehnskiöld, who was the best swedish general?',\n",
       " 'what do psychopaths think about the fat acceptance movement?',\n",
       " 'how do you know if a guy is just sweet and caring or has feelings for you?',\n",
       " \"have you ever cheated on someone's test in school?\",\n",
       " 'which companies in india hire sql developers?',\n",
       " 'what was the most fun you have ever had in your life?',\n",
       " 'what area is considered to be western europe?',\n",
       " 'what is the best laptop for everyday use and some light gaming?',\n",
       " 'who are bigger the red blood cells or the white blood cells?',\n",
       " 'what is the significant of logarithm in image processing?',\n",
       " 'which area in banglore is safest for working women?',\n",
       " 'what is the meaning of nudge in hike?',\n",
       " 'what is the most real thing or idea?',\n",
       " \"what's your penis size? isn't that funny?\",\n",
       " 'what is the relation between the rotation of earth and changing polarities?',\n",
       " 'what is the difference between active duty and the coast guard?',\n",
       " 'how is dynamic  team at microsoft idc hyderabad?',\n",
       " 'how do i keep my lazyness away?',\n",
       " 'which posion can kill human in few mintues?',\n",
       " 'how long does a stand-up count take in prison?',\n",
       " 'why is my dad unnecessarily harsh on me than when compared to my siblings (i am a first-born)?',\n",
       " 'are all anti-missile systems thaads?',\n",
       " 'can we have hybrid bike wheels on a mountain bike frame?',\n",
       " 'how do i win over a married man?',\n",
       " \"what do you think of donald trump's new 'real news' program hosted by his daughter-in-law?\",\n",
       " 'how was buddhism an improvement for women in religious_id cultures ?',\n",
       " 'what is the largest state in terms of population?',\n",
       " 'what do liberals think the nra is? why do they protest the nra and feel they are evil?',\n",
       " 'how do grown men look in skinny jeans?',\n",
       " 'what is the best site to learn basic computer?',\n",
       " 'what is the background of the hammer v. dagenhart case?',\n",
       " 'are there british actors who have lost their accents either completely or partially from living in america for so long?',\n",
       " 'what would it take for us homeowners to begin putting solar panels on their roofs en masse?',\n",
       " 'how would i be able to record clips of tv shows and upload them on youtube? what tool is best to use? and does anyone know how i could do it?',\n",
       " 'how can i treat a watery discharge after  weeks pregnant?',\n",
       " 'do most  year olds have bad mums and dads?',\n",
       " 'apparently cold showers are good for your skin and hair. how often should i take them? once a day or twice a day?',\n",
       " 'how likely is facebook going bankruptcy?',\n",
       " 'what is the maximum size possible for a thunderstike?',\n",
       " 'what can be revealed throughout the genome of the platypus?',\n",
       " 'what do you think of the % renewable feasibility evaluation by lut and ewg? are there any major flaws in this study?',\n",
       " 'do you really think you could follow through with taking a actual bullet for someone?',\n",
       " 'if you inject within the marked areas on this rat, what would you risk penetrating?',\n",
       " 'if a venomous snake bites a human and that human is sick and that venom can cure that human but also harm it how would you go by proceeding that medical procedure?',\n",
       " 'why is it important to amplify a signal before sending it to the recipient?',\n",
       " 'what can we do for our society?',\n",
       " 'why are the lifeguards necessary at any aquatic facility?',\n",
       " 'does the diameter of a bob affect the pendulum?',\n",
       " \"what's the difference between multiplication and quantitative percentages?\",\n",
       " 'if i delete my quora account, can i use the same email address to create another one?',\n",
       " 'is there an intuitive way to understand how radon–nikodym derivative is useful?',\n",
       " 'is south africa a safe country to visit?',\n",
       " 'what is the best route from houston to san francisco if i have one week?',\n",
       " \"what is the structure of white blood cells'?\",\n",
       " \"why can't we stop religious conversions in india?\",\n",
       " \"i like to start a business or continue my dad's business. should i do bba or bbm?\",\n",
       " 'what is the fee for comedk mbbs ?',\n",
       " \"what is the best motivation you've ever received?\",\n",
       " 'my skin turns dark with any body lotion that i use. why?',\n",
       " 'why does my mother call me her favorite when were alone but when we are around my other siblings she says she has no favorites?',\n",
       " \"what is the best way to tackle the situation where i am earning much more than my friends and they look at me with 'expectations'?\",\n",
       " 'does “t” go silent in ‘it’ll”?',\n",
       " 'hypothetically, how effective would a mercury filled grenade be at killing enemy combatants?',\n",
       " 'are the syllabic consonants of the sanskrit varnamala {ऋ, ॠ, ऌ, ॡ} considered vowels or consonants?',\n",
       " 'should i buy clothes or a phone?',\n",
       " 'which government medical college can get with  marks in neet  (sc category)?',\n",
       " 'what are the articles that come from a famous journals and their content is to compare tow things and the writing model or writing skill is worth learning?',\n",
       " 'what would you do if you had total obedience over all living creatures for one day?',\n",
       " 'how do i select the best dental practice marketing agency for dentists?',\n",
       " 'who are the best professors at the university of cambridge?',\n",
       " 'which is best jaypee  or mit pune for cse?',\n",
       " 'what are some important chapters for neet  for biology?',\n",
       " 'do we get foreign assignments in public relations?',\n",
       " 'if britain revokes article  now, would the value of the pound go up? if yes, by how much?',\n",
       " 'my apple radio keeps surging whenever i turn on the radio. how can i fix it?',\n",
       " 'which field of work does india have the least members?',\n",
       " 'what parts of your job are fun?',\n",
       " 'how does a business-major student incorporate an international dimension to his/her undergraduate education?',\n",
       " \"how well would have ike ibeabuchi done in boxing if he didn't have his career damaged by legal issues?\",\n",
       " 'can somebody guide me about purchasing an exercise bike for home? what are some good models in the range of rs.  to  with features?',\n",
       " 'why do people find pleasure in enemas?',\n",
       " 'which football should i buy?',\n",
       " 'what were general walter bedell \"beetle\" smith\\'s major accomplishments?',\n",
       " 'is kenya safe foe residents?',\n",
       " 'what are some good examples of suspension in chemistry?',\n",
       " 'how profitable is the car leasing business post gst?',\n",
       " 'what are the best plants for increasing indoor air quality that are easily maintanable?',\n",
       " 'what is the biggest fear of newly retired people?',\n",
       " 'can we move outside after midnight in kota just to swing our mood?',\n",
       " 'which presidents since kennedy has committed the most crimes?',\n",
       " 'why do people in beijing put a traffic cone next to their parked car?',\n",
       " 'what is the experience of an indian-american going to india for medical school?',\n",
       " 'does it make sense for a container component to render several presentation components?',\n",
       " 'why does ronaldinho looks like a girl?',\n",
       " 'what companies sell non-branded high quality smart casual clothes?',\n",
       " 'who is the present education minister of karnataka?',\n",
       " 'in videos of north korean military parades, they march with what appears to be a very exaggerated goose step. is this their normal marching step?',\n",
       " 'who are often unsuccessful to catch their prey?',\n",
       " 'how soon after wwii was a right-wing political party founded in germany?',\n",
       " 'my boss watched porn on his work computer, how can i get him to stop?',\n",
       " 'what is mostly imortant in being a doctor?',\n",
       " 'how tall do your parents have to be for you to become  feet?',\n",
       " 'what steps i should be taking if i am having an idea about a product that can solve the problem that sportsmen face?',\n",
       " 'what are the most effective strategies that startups are using to reach out to target audience other than paid ads and blogs?',\n",
       " 'if the devil really exists, what is currently working on?',\n",
       " 'why does my grandmother call wrestling \"wrastling\"?',\n",
       " 'why do i have sudden intrusive thoughts about being in pain?',\n",
       " 'what are some good and unique crochet scarf patterns?',\n",
       " 'is brian griffin a good role model on family guy?',\n",
       " 'frequently, part of my legs starts getting very itchy for no apparent reason and usually there will be an isolated hive/bump or a heat-rash-like condition. does anyone know what causes this?',\n",
       " 'what is difference between a gene and a allele?',\n",
       " 'what are the uses of face oil? which face oil is good for dry skin (i have extremely dry skin)?',\n",
       " 'what are cons of surface mining?',\n",
       " 'what are some great places according to you to travel solo?',\n",
       " 'what pleasure is there in keeping snakes as pets?',\n",
       " 'can you get sick from old water?',\n",
       " 'has it ever happened that you lost your faith and belief in god?',\n",
       " 'how do i find out the password for my elite paycheck plus debit card if i haven’t set one up?',\n",
       " 'what are my chances at  mp state rank in neet?',\n",
       " 'what are your favourite before and after sentences?',\n",
       " 'since sasuke and naruto are the reincarnation of indra and ashura, are they brothers?',\n",
       " 'can i do genetic engineering after doing chemical engineering?',\n",
       " \"why is it that the phrase 'the dead of night' makes sense, but 'the alive of day' doesn't?\",\n",
       " 'what are the job opportunities after doing ma (economics)?',\n",
       " 'which player had the greatest performance in super bowl ?',\n",
       " 'what is something that never needs to be said?',\n",
       " 'what is wrong with bjp in punjab?',\n",
       " 'shouldnt there be more women in ips?',\n",
       " 'could the president sign an executive order banning the nra from making campaign contributions at any level?',\n",
       " 'where can i find abandoned places in campania, italy?',\n",
       " 'how does lyft track who i am after deleting and reinstalling their app?',\n",
       " 'would you die to save your loved one?',\n",
       " 'did you by any chance go to a naval school?',\n",
       " 'how many agni  missiles do india have?',\n",
       " 'are mughals descendants of genghis khan?',\n",
       " 'what is the best city you have ever visited in turkey?',\n",
       " 'what are the best lifehacks for hairs?',\n",
       " 'will america\\'s current \"civil war\" go hot and if so how will it go?',\n",
       " 'how can i improve my high kick technique?',\n",
       " 'what are the functions of amylose?',\n",
       " 'how much does it cost to build a professional basketball half-court in france?',\n",
       " 'what will happen to bitcoin when power goes out for weeks across the world from a cme?',\n",
       " 'are motorcycles in toronto highways exempt from the speed limit?',\n",
       " 'how can i learn making a stop motion whiteboard video (like the video in the link) and does it take so much time to make one?',\n",
       " 'today, my friend came up to me at lunch and said “this morning i started my period and i have cramps”. i just went “um i didn’t ask…”. she said that it was weird that i was uncomfortable when she told me. was my response the correct one to give?',\n",
       " 'what are the parts of a nucleus?',\n",
       " 'a new software developer insisted to use kubernetes for a backend project where no developers in the company have experience in docker and kubernetes, as the cto, what should i do?',\n",
       " 'dating is boring for me. am i the only one?',\n",
       " 'how was early christianity practiced diffferently than today ?',\n",
       " 'why is my stream pixelated and choppy?',\n",
       " 'what would have happened if indian subcontinent had stayed together?',\n",
       " 'how do i make a girlfriend in bangalore? i work in it, have sufficient money, and i am good looking. and no girls at workplace.',\n",
       " 'what are the personal benefits of giving to charity, other than tax breaks?',\n",
       " 'is there any organisation/club in pune which helps to appear for the ham radio licencing (asoc) examination?',\n",
       " 'why chinese people are always not welcome in all countries?',\n",
       " 'why do clouds look solid from the ground?',\n",
       " 'is frieza a man or a woman?',\n",
       " 'who will win in video game battle : adam d angelo vs kim kardasian ?']"
      ]
     },
     "execution_count": 43,
     "metadata": {},
     "output_type": "execute_result"
    }
   ],
   "source": [
    "clean_questions[:1000]"
   ]
  },
  {
   "cell_type": "code",
   "execution_count": null,
   "metadata": {},
   "outputs": [],
   "source": []
  },
  {
   "cell_type": "code",
   "execution_count": null,
   "metadata": {},
   "outputs": [],
   "source": []
  },
  {
   "cell_type": "code",
   "execution_count": null,
   "metadata": {},
   "outputs": [],
   "source": []
  },
  {
   "cell_type": "code",
   "execution_count": null,
   "metadata": {},
   "outputs": [],
   "source": []
  },
  {
   "cell_type": "markdown",
   "metadata": {},
   "source": [
    "# Define functions and pipelines"
   ]
  },
  {
   "cell_type": "code",
   "execution_count": 44,
   "metadata": {},
   "outputs": [],
   "source": [
    "def vect_trans(vectorizer, X_train, X_test):\n",
    "    # can also take a transformer\n",
    "    vect = vectorizer\n",
    "    vect.fit(X_train)\n",
    "    return vect.transform(X_train), vect.transform(X_test)"
   ]
  },
  {
   "cell_type": "code",
   "execution_count": 45,
   "metadata": {},
   "outputs": [],
   "source": [
    "# MultinominalNB function for printing scores and storing into df.\n",
    "def model_score(model, X_train, X_test, y_train, y_test, score_df, model_label):\n",
    "    estimator = model\n",
    "    estimator.fit(X_train, y_train)\n",
    "    test_score =  estimator.score(X_test, y_test)\n",
    "    f1 = f1_score(y_test, estimator.predict(X_test))\n",
    "    \n",
    "    print('Train Accuracy :', estimator.score(X_train, y_train))\n",
    "    print('Test Accuracy:', test_score)\n",
    "    print('Test F1 score:', f1)\n",
    "    score_df.loc[model_label, 'Test_Accuracy'] = test_score\n",
    "    score_df.loc[model_label, 'Test_F1_score'] = f1"
   ]
  },
  {
   "cell_type": "code",
   "execution_count": 46,
   "metadata": {},
   "outputs": [],
   "source": [
    "# Cross Validate function for printing scores and storing into df.\n",
    "def cv_score(model, X, y, model_label,  cv=5, ):    \n",
    "    \n",
    "    # instantiating model\n",
    "    estimator = model\n",
    "    \n",
    "    cv_result = cross_validate(estimator, X, y, cv = cv, n_jobs=-1, scoring=['accuracy', 'f1'])\n",
    "    \n",
    "    print('Test Accuracy Mean:',cv_result['test_accuracy'].mean())\n",
    "    print('Test Accuracy STD:',cv_result['test_accuracy'].std())\n",
    "    print('Test F1:', cv_result['test_f1'].mean())\n",
    "    score_df.loc[model_label, 'CV_Accuracy'] = cv_result['test_accuracy'].mean()\n",
    "    score_df.loc[model_label, 'CV_Acc_STD'] = cv_result['test_accuracy'].std()\n",
    "    score_df.loc[model_label, 'CV_F1_score'] = cv_result['test_f1'].mean()"
   ]
  },
  {
   "cell_type": "code",
   "execution_count": 47,
   "metadata": {},
   "outputs": [],
   "source": [
    "# GridSearchCV function, auto display best score and parameters and storing in df\n",
    "def gridcv(model, X, y, params, cv= 5 ):\n",
    "    \n",
    "    # instantiating model can also be a pipeline\n",
    "    estimator = model\n",
    "    \n",
    "    gridcv = GridSearchCV(estimator=estimator, param_grid=params, cv = cv, verbose=10, n_jobs=6)\n",
    "    gridcv.fit(X, y)\n",
    "    \n",
    "    print(gridcv.best_params_)\n",
    "    print(gridcv.best_score_)\n",
    "    "
   ]
  },
  {
   "cell_type": "code",
   "execution_count": 48,
   "metadata": {},
   "outputs": [],
   "source": [
    "# CountVectorizer pipeline and parameters\n",
    "pipeCVNB = Pipeline([('CV',CountVectorizer(stop_words=stopwords)), \n",
    "                    ('NB',MultinomialNB())])\n",
    "\n",
    "paramsCVNB = {'CV__max_df':(1.0, 0.9, 0.8, 0.7),\n",
    "       'CV__min_df': (1, 2, 0.01 , 0.1, 0.2),\n",
    "         'CV__ngram_range':((1,1), (1,2), (1,3))}"
   ]
  },
  {
   "cell_type": "code",
   "execution_count": 49,
   "metadata": {},
   "outputs": [],
   "source": [
    "# TfidfVectorizer pipeline and parameters\n",
    "pipeTVNB = Pipeline([('TV',TfidfVectorizer(stop_words=stopwords)), \n",
    "                    ('NB',MultinomialNB())])\n",
    "\n",
    "paramsTVNB = {'TV__max_df':(1.0, 0.9, 0.8, 0.7, 0.6),\n",
    "       'TV__min_df': (1, 2, 0.01, 0.05, 0.1),\n",
    "         'TV__ngram_range':((1,1), (1,2), (1,3), (2,2), (2,3))}"
   ]
  },
  {
   "cell_type": "code",
   "execution_count": 50,
   "metadata": {},
   "outputs": [],
   "source": [
    "score_df = pd.DataFrame()"
   ]
  },
  {
   "cell_type": "markdown",
   "metadata": {},
   "source": [
    "# Default count vectorizer on raw text"
   ]
  },
  {
   "cell_type": "code",
   "execution_count": 51,
   "metadata": {},
   "outputs": [
    {
     "name": "stdout",
     "output_type": "stream",
     "text": [
      "Wall time: 35.4 s\n"
     ]
    }
   ],
   "source": [
    "%%time\n",
    "\n",
    "X_train_raw, X_test_raw, y_train_raw, y_test_raw = train_test_split(train.question_text, train.target,\n",
    "                                                                    stratify=train.target, random_state = 495)\n",
    "\n",
    "X_train_raw_t, X_test_raw_t=  vect_trans(CountVectorizer(), X_train_raw, X_test_raw)"
   ]
  },
  {
   "cell_type": "code",
   "execution_count": 52,
   "metadata": {},
   "outputs": [
    {
     "name": "stdout",
     "output_type": "stream",
     "text": [
      "Train Accuracy : 0.9350739237089765\n",
      "Test Accuracy: 0.9344135778838762\n",
      "Test F1 score: 0.5646092542896641\n",
      "Test Accuracy Mean: 0.9321614838567932\n",
      "Test Accuracy STD: 0.0005228593021778298\n",
      "Test F1: 0.5489215714930169\n"
     ]
    },
    {
     "data": {
      "text/html": [
       "<div>\n",
       "<style scoped>\n",
       "    .dataframe tbody tr th:only-of-type {\n",
       "        vertical-align: middle;\n",
       "    }\n",
       "\n",
       "    .dataframe tbody tr th {\n",
       "        vertical-align: top;\n",
       "    }\n",
       "\n",
       "    .dataframe thead th {\n",
       "        text-align: right;\n",
       "    }\n",
       "</style>\n",
       "<table border=\"1\" class=\"dataframe\">\n",
       "  <thead>\n",
       "    <tr style=\"text-align: right;\">\n",
       "      <th></th>\n",
       "      <th>Test_Accuracy</th>\n",
       "      <th>Test_F1_score</th>\n",
       "      <th>CV_Accuracy</th>\n",
       "      <th>CV_Acc_STD</th>\n",
       "      <th>CV_F1_score</th>\n",
       "    </tr>\n",
       "  </thead>\n",
       "  <tbody>\n",
       "    <tr>\n",
       "      <th>Raw_token_NB</th>\n",
       "      <td>0.934414</td>\n",
       "      <td>0.564609</td>\n",
       "      <td>0.932161</td>\n",
       "      <td>0.000523</td>\n",
       "      <td>0.548922</td>\n",
       "    </tr>\n",
       "  </tbody>\n",
       "</table>\n",
       "</div>"
      ],
      "text/plain": [
       "              Test_Accuracy  Test_F1_score  CV_Accuracy  CV_Acc_STD  \\\n",
       "Raw_token_NB       0.934414       0.564609     0.932161    0.000523   \n",
       "\n",
       "              CV_F1_score  \n",
       "Raw_token_NB     0.548922  "
      ]
     },
     "execution_count": 52,
     "metadata": {},
     "output_type": "execute_result"
    }
   ],
   "source": [
    "model = MultinomialNB()\n",
    "model_label = 'Raw_token_NB'\n",
    "\n",
    "model_score(model, X_train_raw_t, X_test_raw_t, y_train_raw, y_test_raw, score_df, model_label)\n",
    "cv_score(model, X_train_raw_t, y_train_raw, model_label)\n",
    "score_df"
   ]
  },
  {
   "cell_type": "code",
   "execution_count": 53,
   "metadata": {},
   "outputs": [
    {
     "name": "stdout",
     "output_type": "stream",
     "text": [
      "train score: 0.9350739237089765\n",
      "test score: 0.9344135778838762\n"
     ]
    }
   ],
   "source": [
    "nb = MultinomialNB()\n",
    "nb.fit(X_train_raw_t, y_train_raw)  \n",
    "test_score =  nb.score(X_test_raw_t, y_test_raw)\n",
    "print('train score:', nb.score(X_train_raw_t, y_train_raw))\n",
    "print('test score:', test_score)\n",
    "y_pred = nb.predict(X_test_raw_t)"
   ]
  },
  {
   "cell_type": "code",
   "execution_count": 54,
   "metadata": {},
   "outputs": [
    {
     "name": "stdout",
     "output_type": "stream",
     "text": [
      "0.5646092542896641\n",
      "0.7645724512273393\n",
      "0.9344135778838762\n",
      "0.9397915566837656\n"
     ]
    },
    {
     "data": {
      "text/plain": [
       "array([[291229,  15099],\n",
       "       [  6317,  13886]], dtype=int64)"
      ]
     },
     "execution_count": 54,
     "metadata": {},
     "output_type": "execute_result"
    }
   ],
   "source": [
    "print(f1_score(y_test_raw, y_pred) )\n",
    "print(f1_score(y_test_raw, y_pred, average='macro') )\n",
    "print(f1_score(y_test_raw, y_pred, average='micro') )\n",
    "print(f1_score(y_test_raw, y_pred, average='weighted') )\n",
    "confusion_matrix(y_test_raw, y_pred)"
   ]
  },
  {
   "cell_type": "code",
   "execution_count": null,
   "metadata": {},
   "outputs": [],
   "source": []
  },
  {
   "cell_type": "markdown",
   "metadata": {},
   "source": [
    "# Basic Token and Ngram modelling on cleaned data"
   ]
  },
  {
   "cell_type": "markdown",
   "metadata": {},
   "source": [
    "Creating train/test sets"
   ]
  },
  {
   "cell_type": "code",
   "execution_count": 55,
   "metadata": {},
   "outputs": [],
   "source": [
    "X = clean_questions\n",
    "y = train.target"
   ]
  },
  {
   "cell_type": "code",
   "execution_count": 56,
   "metadata": {},
   "outputs": [],
   "source": [
    "X_train, X_test, y_train, y_test = train_test_split(X, y, stratify=y, random_state = 495)"
   ]
  },
  {
   "cell_type": "markdown",
   "metadata": {},
   "source": [
    "### Tokens only"
   ]
  },
  {
   "cell_type": "code",
   "execution_count": 57,
   "metadata": {},
   "outputs": [
    {
     "name": "stdout",
     "output_type": "stream",
     "text": [
      "Wall time: 32.7 s\n"
     ]
    }
   ],
   "source": [
    "%%time\n",
    "X_train_t, X_test_t=  vect_trans(CountVectorizer(max_df=1.0, min_df=1, ngram_range=(1,1)), X_train, X_test)"
   ]
  },
  {
   "cell_type": "code",
   "execution_count": 58,
   "metadata": {},
   "outputs": [
    {
     "name": "stdout",
     "output_type": "stream",
     "text": [
      "Train Accuracy : 0.9342000896292433\n",
      "Test Accuracy: 0.9335132039530704\n",
      "Test F1 score: 0.5615735692071571\n",
      "Test Accuracy Mean: 0.9312692746998665\n",
      "Test Accuracy STD: 0.0005412122745367851\n",
      "Test F1: 0.5469019096807259\n"
     ]
    },
    {
     "data": {
      "text/html": [
       "<div>\n",
       "<style scoped>\n",
       "    .dataframe tbody tr th:only-of-type {\n",
       "        vertical-align: middle;\n",
       "    }\n",
       "\n",
       "    .dataframe tbody tr th {\n",
       "        vertical-align: top;\n",
       "    }\n",
       "\n",
       "    .dataframe thead th {\n",
       "        text-align: right;\n",
       "    }\n",
       "</style>\n",
       "<table border=\"1\" class=\"dataframe\">\n",
       "  <thead>\n",
       "    <tr style=\"text-align: right;\">\n",
       "      <th></th>\n",
       "      <th>Test_Accuracy</th>\n",
       "      <th>Test_F1_score</th>\n",
       "      <th>CV_Accuracy</th>\n",
       "      <th>CV_Acc_STD</th>\n",
       "      <th>CV_F1_score</th>\n",
       "    </tr>\n",
       "  </thead>\n",
       "  <tbody>\n",
       "    <tr>\n",
       "      <th>Raw_token_NB</th>\n",
       "      <td>0.934414</td>\n",
       "      <td>0.564609</td>\n",
       "      <td>0.932161</td>\n",
       "      <td>0.000523</td>\n",
       "      <td>0.548922</td>\n",
       "    </tr>\n",
       "    <tr>\n",
       "      <th>Token_NB</th>\n",
       "      <td>0.933513</td>\n",
       "      <td>0.561574</td>\n",
       "      <td>0.931269</td>\n",
       "      <td>0.000541</td>\n",
       "      <td>0.546902</td>\n",
       "    </tr>\n",
       "  </tbody>\n",
       "</table>\n",
       "</div>"
      ],
      "text/plain": [
       "              Test_Accuracy  Test_F1_score  CV_Accuracy  CV_Acc_STD  \\\n",
       "Raw_token_NB       0.934414       0.564609     0.932161    0.000523   \n",
       "Token_NB           0.933513       0.561574     0.931269    0.000541   \n",
       "\n",
       "              CV_F1_score  \n",
       "Raw_token_NB     0.548922  \n",
       "Token_NB         0.546902  "
      ]
     },
     "execution_count": 58,
     "metadata": {},
     "output_type": "execute_result"
    }
   ],
   "source": [
    "model = MultinomialNB()\n",
    "model_label = 'Token_NB'\n",
    "X_train_arg = X_train_t\n",
    "X_test_arg = X_test_t\n",
    "\n",
    "model_score(model, X_train_arg, X_test_arg, y_train, y_test, score_df, model_label)\n",
    "cv_score(model, X_train_arg, y_train, model_label)\n",
    "score_df"
   ]
  },
  {
   "cell_type": "markdown",
   "metadata": {},
   "source": [
    "### All Bigrams"
   ]
  },
  {
   "cell_type": "code",
   "execution_count": 59,
   "metadata": {},
   "outputs": [
    {
     "name": "stdout",
     "output_type": "stream",
     "text": [
      "Wall time: 1min 27s\n"
     ]
    }
   ],
   "source": [
    "%%time\n",
    "X_train_bi, X_test_bi=  vect_trans(CountVectorizer(ngram_range=(1,2)), X_train, X_test)"
   ]
  },
  {
   "cell_type": "markdown",
   "metadata": {},
   "source": [
    "Naive Bayes"
   ]
  },
  {
   "cell_type": "code",
   "execution_count": 61,
   "metadata": {},
   "outputs": [
    {
     "name": "stdout",
     "output_type": "stream",
     "text": [
      "Train Accuracy : 0.9605151537733605\n",
      "Test Accuracy: 0.9484306237386343\n",
      "Test F1 score: 0.5147402092158727\n",
      "Test Accuracy Mean: 0.9405425336098666\n",
      "Test Accuracy STD: 0.00034472274054820435\n",
      "Test F1: 0.5050867545625731\n"
     ]
    },
    {
     "data": {
      "text/html": [
       "<div>\n",
       "<style scoped>\n",
       "    .dataframe tbody tr th:only-of-type {\n",
       "        vertical-align: middle;\n",
       "    }\n",
       "\n",
       "    .dataframe tbody tr th {\n",
       "        vertical-align: top;\n",
       "    }\n",
       "\n",
       "    .dataframe thead th {\n",
       "        text-align: right;\n",
       "    }\n",
       "</style>\n",
       "<table border=\"1\" class=\"dataframe\">\n",
       "  <thead>\n",
       "    <tr style=\"text-align: right;\">\n",
       "      <th></th>\n",
       "      <th>Test_Accuracy</th>\n",
       "      <th>Test_F1_score</th>\n",
       "      <th>CV_Accuracy</th>\n",
       "      <th>CV_Acc_STD</th>\n",
       "      <th>CV_F1_score</th>\n",
       "    </tr>\n",
       "  </thead>\n",
       "  <tbody>\n",
       "    <tr>\n",
       "      <th>Raw_token_NB</th>\n",
       "      <td>0.934414</td>\n",
       "      <td>0.564609</td>\n",
       "      <td>0.932161</td>\n",
       "      <td>0.000523</td>\n",
       "      <td>0.548922</td>\n",
       "    </tr>\n",
       "    <tr>\n",
       "      <th>Token_NB</th>\n",
       "      <td>0.933513</td>\n",
       "      <td>0.561574</td>\n",
       "      <td>0.931269</td>\n",
       "      <td>0.000541</td>\n",
       "      <td>0.546902</td>\n",
       "    </tr>\n",
       "    <tr>\n",
       "      <th>Bigram_NB</th>\n",
       "      <td>0.948431</td>\n",
       "      <td>0.514740</td>\n",
       "      <td>0.940543</td>\n",
       "      <td>0.000345</td>\n",
       "      <td>0.505087</td>\n",
       "    </tr>\n",
       "  </tbody>\n",
       "</table>\n",
       "</div>"
      ],
      "text/plain": [
       "              Test_Accuracy  Test_F1_score  CV_Accuracy  CV_Acc_STD  \\\n",
       "Raw_token_NB       0.934414       0.564609     0.932161    0.000523   \n",
       "Token_NB           0.933513       0.561574     0.931269    0.000541   \n",
       "Bigram_NB          0.948431       0.514740     0.940543    0.000345   \n",
       "\n",
       "              CV_F1_score  \n",
       "Raw_token_NB     0.548922  \n",
       "Token_NB         0.546902  \n",
       "Bigram_NB        0.505087  "
      ]
     },
     "execution_count": 61,
     "metadata": {},
     "output_type": "execute_result"
    }
   ],
   "source": [
    "model = MultinomialNB()\n",
    "model_label = 'Bigram_NB'\n",
    "X_train_arg = X_train_bi\n",
    "X_test_arg = X_test_bi\n",
    "\n",
    "model_score(model, X_train_arg, X_test_arg, y_train, y_test, score_df, model_label)\n",
    "cv_score(model, X_train_arg, y_train, model_label)\n",
    "score_df"
   ]
  },
  {
   "cell_type": "markdown",
   "metadata": {},
   "source": [
    "Random Forest"
   ]
  },
  {
   "cell_type": "code",
   "execution_count": null,
   "metadata": {},
   "outputs": [],
   "source": [
    "# %%time\n",
    "# model = RandomForestClassifier(n_estimators= 100, max_depth=20, n_jobs=-1)\n",
    "# model_label = 'Bigram_RF'\n",
    "\n",
    "\n",
    "# model_score(model, X_train_bi, X_test_bi, y_train, y_test, score_df, model_label)\n",
    "# cv_score(model, X_train_bi, y_train, model_label)\n",
    "# score_df"
   ]
  },
  {
   "cell_type": "code",
   "execution_count": null,
   "metadata": {},
   "outputs": [],
   "source": [
    "# score_df"
   ]
  },
  {
   "cell_type": "markdown",
   "metadata": {},
   "source": [
    "### Tri-gram"
   ]
  },
  {
   "cell_type": "code",
   "execution_count": 62,
   "metadata": {},
   "outputs": [
    {
     "name": "stdout",
     "output_type": "stream",
     "text": [
      "Wall time: 1min 44s\n"
     ]
    }
   ],
   "source": [
    "%%time\n",
    "X_train_tri, X_test_tri=  vect_trans(CountVectorizer(ngram_range=(1,3), stop_words=stopwords), X_train, X_test)"
   ]
  },
  {
   "cell_type": "markdown",
   "metadata": {},
   "source": [
    "Naive Bayes"
   ]
  },
  {
   "cell_type": "code",
   "execution_count": 66,
   "metadata": {},
   "outputs": [
    {
     "name": "stdout",
     "output_type": "stream",
     "text": [
      "Train Accuracy : 0.9877755103915818\n",
      "Test Accuracy: 0.9445718783208945\n",
      "Test F1 score: 0.2688159011028966\n",
      "Test Accuracy Mean: 0.9444206818481715\n",
      "Test Accuracy STD: 0.0003769540695862718\n",
      "Test F1: 0.5028029677561217\n"
     ]
    },
    {
     "data": {
      "text/html": [
       "<div>\n",
       "<style scoped>\n",
       "    .dataframe tbody tr th:only-of-type {\n",
       "        vertical-align: middle;\n",
       "    }\n",
       "\n",
       "    .dataframe tbody tr th {\n",
       "        vertical-align: top;\n",
       "    }\n",
       "\n",
       "    .dataframe thead th {\n",
       "        text-align: right;\n",
       "    }\n",
       "</style>\n",
       "<table border=\"1\" class=\"dataframe\">\n",
       "  <thead>\n",
       "    <tr style=\"text-align: right;\">\n",
       "      <th></th>\n",
       "      <th>Test_Accuracy</th>\n",
       "      <th>Test_F1_score</th>\n",
       "      <th>CV_Accuracy</th>\n",
       "      <th>CV_Acc_STD</th>\n",
       "      <th>CV_F1_score</th>\n",
       "    </tr>\n",
       "  </thead>\n",
       "  <tbody>\n",
       "    <tr>\n",
       "      <th>Raw_token_NB</th>\n",
       "      <td>0.934414</td>\n",
       "      <td>0.564609</td>\n",
       "      <td>0.932161</td>\n",
       "      <td>0.000523</td>\n",
       "      <td>0.548922</td>\n",
       "    </tr>\n",
       "    <tr>\n",
       "      <th>Token_NB</th>\n",
       "      <td>0.933513</td>\n",
       "      <td>0.561574</td>\n",
       "      <td>0.931269</td>\n",
       "      <td>0.000541</td>\n",
       "      <td>0.546902</td>\n",
       "    </tr>\n",
       "    <tr>\n",
       "      <th>Bigram_NB</th>\n",
       "      <td>0.948431</td>\n",
       "      <td>0.514740</td>\n",
       "      <td>0.940543</td>\n",
       "      <td>0.000345</td>\n",
       "      <td>0.505087</td>\n",
       "    </tr>\n",
       "    <tr>\n",
       "      <th>Trigram_NB</th>\n",
       "      <td>0.944572</td>\n",
       "      <td>0.268816</td>\n",
       "      <td>0.944421</td>\n",
       "      <td>0.000377</td>\n",
       "      <td>0.502803</td>\n",
       "    </tr>\n",
       "  </tbody>\n",
       "</table>\n",
       "</div>"
      ],
      "text/plain": [
       "              Test_Accuracy  Test_F1_score  CV_Accuracy  CV_Acc_STD  \\\n",
       "Raw_token_NB       0.934414       0.564609     0.932161    0.000523   \n",
       "Token_NB           0.933513       0.561574     0.931269    0.000541   \n",
       "Bigram_NB          0.948431       0.514740     0.940543    0.000345   \n",
       "Trigram_NB         0.944572       0.268816     0.944421    0.000377   \n",
       "\n",
       "              CV_F1_score  \n",
       "Raw_token_NB     0.548922  \n",
       "Token_NB         0.546902  \n",
       "Bigram_NB        0.505087  \n",
       "Trigram_NB       0.502803  "
      ]
     },
     "execution_count": 66,
     "metadata": {},
     "output_type": "execute_result"
    }
   ],
   "source": [
    "model = MultinomialNB()\n",
    "model_label = 'Trigram_NB'\n",
    "X_train_arg = X_train_tri\n",
    "X_test_arg = X_test_tri\n",
    "\n",
    "model_score(model, X_train_arg, X_test_arg, y_train, y_test, score_df, model_label)\n",
    "cv_score(model, X_train_arg, y_train, model_label)\n",
    "score_df"
   ]
  },
  {
   "cell_type": "markdown",
   "metadata": {},
   "source": [
    "Random Forest"
   ]
  },
  {
   "cell_type": "code",
   "execution_count": null,
   "metadata": {},
   "outputs": [],
   "source": [
    "# %%time\n",
    "# model = RandomForestClassifier(n_estimators= 100, max_depth=20, n_jobs=-1)\n",
    "# model_label = 'Trigram_RF'\n",
    "\n",
    "# model_score(model, X_train_tri, X_test_tri, y_train, y_test, score_df, model_label)\n",
    "# cv_score(model, X_train_tri, y_train, model_label)\n"
   ]
  },
  {
   "cell_type": "code",
   "execution_count": null,
   "metadata": {},
   "outputs": [],
   "source": [
    "# score_df"
   ]
  },
  {
   "cell_type": "markdown",
   "metadata": {},
   "source": [
    "### GridSearch min/max df"
   ]
  },
  {
   "cell_type": "code",
   "execution_count": null,
   "metadata": {},
   "outputs": [],
   "source": [
    "# params = {'CV__max_df':(1.0, 0.9),\n",
    "#        'CV__min_df': (1, 2, 0.01, 0.02),\n",
    "#         'CV__ngram_range':((1,1), (1,2), (1,3))}\n",
    "\n",
    "# gridcv(pipeCVNB, X_train, y_train, params)"
   ]
  },
  {
   "cell_type": "code",
   "execution_count": null,
   "metadata": {},
   "outputs": [],
   "source": [
    "# %%time\n",
    "# X_train_t, X_test_t=  vect_trans(CountVectorizer(max_df=1.0, min_df=1, ngram_range=(1,2), \n",
    "#                                                     stop_words=stopwords), X_train, X_test)"
   ]
  },
  {
   "cell_type": "code",
   "execution_count": null,
   "metadata": {},
   "outputs": [],
   "source": [
    "# model = MultinomialNB()\n",
    "# model_label = 'Grid_DFNB'\n",
    "\n",
    "# model_score(model, X_train_t, X_test_t, y_train, y_test, score_df, model_label)\n",
    "# cv_score(model, X_train_t, y_train, model_label)\n",
    "# score_df"
   ]
  },
  {
   "cell_type": "markdown",
   "metadata": {},
   "source": [
    "### TFIDF"
   ]
  },
  {
   "cell_type": "code",
   "execution_count": 67,
   "metadata": {},
   "outputs": [],
   "source": [
    "X_train_tf_t, X_test_tf_t = vect_trans(TfidfTransformer(), X_train_t, X_test_t)"
   ]
  },
  {
   "cell_type": "code",
   "execution_count": 68,
   "metadata": {},
   "outputs": [
    {
     "name": "stdout",
     "output_type": "stream",
     "text": [
      "Train Accuracy : 0.9421003255440281\n",
      "Test Accuracy: 0.9408172577795064\n",
      "Test F1 score: 0.11022606934020904\n",
      "Test Accuracy Mean: 0.9397738446164585\n",
      "Test Accuracy STD: 0.00017236565380319963\n",
      "Test F1: 0.0821610873024041\n"
     ]
    },
    {
     "data": {
      "text/html": [
       "<div>\n",
       "<style scoped>\n",
       "    .dataframe tbody tr th:only-of-type {\n",
       "        vertical-align: middle;\n",
       "    }\n",
       "\n",
       "    .dataframe tbody tr th {\n",
       "        vertical-align: top;\n",
       "    }\n",
       "\n",
       "    .dataframe thead th {\n",
       "        text-align: right;\n",
       "    }\n",
       "</style>\n",
       "<table border=\"1\" class=\"dataframe\">\n",
       "  <thead>\n",
       "    <tr style=\"text-align: right;\">\n",
       "      <th></th>\n",
       "      <th>Test_Accuracy</th>\n",
       "      <th>Test_F1_score</th>\n",
       "      <th>CV_Accuracy</th>\n",
       "      <th>CV_Acc_STD</th>\n",
       "      <th>CV_F1_score</th>\n",
       "    </tr>\n",
       "  </thead>\n",
       "  <tbody>\n",
       "    <tr>\n",
       "      <th>Raw_token_NB</th>\n",
       "      <td>0.934414</td>\n",
       "      <td>0.564609</td>\n",
       "      <td>0.932161</td>\n",
       "      <td>0.000523</td>\n",
       "      <td>0.548922</td>\n",
       "    </tr>\n",
       "    <tr>\n",
       "      <th>Token_NB</th>\n",
       "      <td>0.933513</td>\n",
       "      <td>0.561574</td>\n",
       "      <td>0.931269</td>\n",
       "      <td>0.000541</td>\n",
       "      <td>0.546902</td>\n",
       "    </tr>\n",
       "    <tr>\n",
       "      <th>Bigram_NB</th>\n",
       "      <td>0.948431</td>\n",
       "      <td>0.514740</td>\n",
       "      <td>0.940543</td>\n",
       "      <td>0.000345</td>\n",
       "      <td>0.505087</td>\n",
       "    </tr>\n",
       "    <tr>\n",
       "      <th>Trigram_NB</th>\n",
       "      <td>0.944572</td>\n",
       "      <td>0.268816</td>\n",
       "      <td>0.944421</td>\n",
       "      <td>0.000377</td>\n",
       "      <td>0.502803</td>\n",
       "    </tr>\n",
       "    <tr>\n",
       "      <th>Tfidf_t_NB</th>\n",
       "      <td>0.940817</td>\n",
       "      <td>0.110226</td>\n",
       "      <td>0.939774</td>\n",
       "      <td>0.000172</td>\n",
       "      <td>0.082161</td>\n",
       "    </tr>\n",
       "  </tbody>\n",
       "</table>\n",
       "</div>"
      ],
      "text/plain": [
       "              Test_Accuracy  Test_F1_score  CV_Accuracy  CV_Acc_STD  \\\n",
       "Raw_token_NB       0.934414       0.564609     0.932161    0.000523   \n",
       "Token_NB           0.933513       0.561574     0.931269    0.000541   \n",
       "Bigram_NB          0.948431       0.514740     0.940543    0.000345   \n",
       "Trigram_NB         0.944572       0.268816     0.944421    0.000377   \n",
       "Tfidf_t_NB         0.940817       0.110226     0.939774    0.000172   \n",
       "\n",
       "              CV_F1_score  \n",
       "Raw_token_NB     0.548922  \n",
       "Token_NB         0.546902  \n",
       "Bigram_NB        0.505087  \n",
       "Trigram_NB       0.502803  \n",
       "Tfidf_t_NB       0.082161  "
      ]
     },
     "execution_count": 68,
     "metadata": {},
     "output_type": "execute_result"
    }
   ],
   "source": [
    "model = MultinomialNB()\n",
    "model_label = 'Tfidf_t_NB'\n",
    "\n",
    "model_score(model, X_train_tf_t , X_test_tf_t, y_train, y_test, score_df, model_label)\n",
    "cv_score(model, X_train_tf_t, y_train, model_label)\n",
    "score_df"
   ]
  },
  {
   "cell_type": "code",
   "execution_count": 69,
   "metadata": {},
   "outputs": [
    {
     "name": "stdout",
     "output_type": "stream",
     "text": [
      "train score: 0.9421003255440281\n",
      "test score: 0.9408172577795064\n"
     ]
    }
   ],
   "source": [
    "nb = MultinomialNB()\n",
    "nb.fit(X_train_tf_t, y_train)  \n",
    "test_score =  nb.score(X_test_tf_t, y_test)\n",
    "print('train score:', nb.score(X_train_tf_t, y_train))\n",
    "print('test score:', test_score)\n",
    "y_pred = nb.predict(X_test_tf_t)"
   ]
  },
  {
   "cell_type": "code",
   "execution_count": 70,
   "metadata": {},
   "outputs": [
    {
     "name": "stdout",
     "output_type": "stream",
     "text": [
      "0.11022606934020904\n",
      "0.5398083587649309\n",
      "0.9408172577795064\n",
      "0.9162327489810163\n"
     ]
    },
    {
     "data": {
      "text/plain": [
       "array([[306009,    319],\n",
       "       [ 19006,   1197]], dtype=int64)"
      ]
     },
     "execution_count": 70,
     "metadata": {},
     "output_type": "execute_result"
    }
   ],
   "source": [
    "print(f1_score(y_test, y_pred) )\n",
    "print(f1_score(y_test, y_pred, average='macro') )\n",
    "print(f1_score(y_test, y_pred, average='micro') )\n",
    "print(f1_score(y_test, y_pred, average='weighted') )\n",
    "confusion_matrix(y_test, y_pred)"
   ]
  },
  {
   "cell_type": "code",
   "execution_count": null,
   "metadata": {},
   "outputs": [],
   "source": []
  },
  {
   "cell_type": "markdown",
   "metadata": {},
   "source": [
    "### NLTK Best Bigrams"
   ]
  },
  {
   "cell_type": "code",
   "execution_count": 71,
   "metadata": {},
   "outputs": [],
   "source": [
    "# recreate text using ngrams\n",
    "def ngram_to_corpus(data, ngram_list, n):\n",
    "#     ngram_list = set({('let', 'us'), ('as', 'soon')})  # {('let', 'us'), ('as', 'soon')}\n",
    "#     tokens = ['please', 'let', 'us', 'know', 'as', 'soon', 'as', 'possible']\n",
    "    new_data = []\n",
    "    for text in data:\n",
    "        tokens = nltk.word_tokenize(text)\n",
    "        output = []\n",
    "        q_iter = iter(range(len(tokens)))\n",
    "        \n",
    "        for idx in q_iter:\n",
    "            output.append(tokens[idx])\n",
    "            if n == 2:\n",
    "                if idx < (len(tokens) - 1) and (tokens[idx], tokens[idx+1]) in ngram_list:\n",
    "                    output[-1] += '_' + tokens[idx+1]\n",
    "                    next(q_iter)\n",
    "            elif n == 3:\n",
    "                if idx < (len(tokens) - 2) and (tokens[idx], tokens[idx+1], tokens[idx+2] ) in ngram_list:\n",
    "                    output[-1] += '_' + tokens[idx+1] + '_' + tokens[idx+2]\n",
    "                    next(q_iter)\n",
    "                    next(q_iter)\n",
    "        new_data.append( ' '.join(output))\n",
    "\n",
    "    return new_data"
   ]
  },
  {
   "cell_type": "code",
   "execution_count": 72,
   "metadata": {},
   "outputs": [
    {
     "name": "stdout",
     "output_type": "stream",
     "text": [
      "Wall time: 2min 47s\n"
     ]
    }
   ],
   "source": [
    "%%time\n",
    "# create one list of all question tokens\n",
    "full_text = []\n",
    "\n",
    "for text in X_train:\n",
    "    full_text += [w for w in nltk.word_tokenize(text) if w not in stopwords]"
   ]
  },
  {
   "cell_type": "code",
   "execution_count": 73,
   "metadata": {},
   "outputs": [
    {
     "data": {
      "text/plain": [
       "6223173"
      ]
     },
     "execution_count": 73,
     "metadata": {},
     "output_type": "execute_result"
    }
   ],
   "source": [
    "len(full_text)"
   ]
  },
  {
   "cell_type": "code",
   "execution_count": 75,
   "metadata": {},
   "outputs": [
    {
     "name": "stdout",
     "output_type": "stream",
     "text": [
      "[('united', 'states'), ('best', 'way'), ('donald', 'trump'), ('year', 'old'), ('computer', 'science'), ('even', 'though'), ('high', 'school'), ('would', 'happen'), ('social', 'media'), ('north', 'korea'), ('pros', 'cons'), ('get', 'rid'), ('major', 'accomplishments'), ('jee', 'mains'), ('look', 'like'), ('would', 'win'), ('new', 'york'), ('machine', 'learning'), ('harry', 'potter'), ('years', 'old'), ('real', 'estate'), ('long', 'take'), ('saudi', 'arabia'), ('feel', 'like'), ('star', 'wars'), ('ssc', 'cgl'), ('mechanical', 'engineering'), ('elon', 'musk'), ('tv', 'show'), ('hillary', 'clinton'), ('hong', 'kong'), ('tamil', 'nadu'), ('president', 'trump'), ('useful', 'tips'), ('san', 'francisco'), ('different', 'types'), ('hotels', 'short-term'), ('artificial', 'intelligence'), ('prime', 'minister'), ('years', 'ago'), ('literary', 'devices'), ('tv', 'series'), ('credit', 'card'), ('narendra', 'modi'), ('many', 'people'), ('digital', 'marketing'), ('new', 'zealand'), ('los', 'angeles'), ('win', 'fight'), ('long', 'term'), ('someone', 'else'), ('get', 'job'), ('middle', 'east'), ('stock', 'market'), ('jee', 'advanced'), ('earn', 'money'), ('civil', 'engineering'), ('mental', 'illness'), ('lose', 'weight'), ('make', 'money'), ('vice', 'versa'), ('advantages', 'disadvantages'), ('real', 'life'), ('much', 'money'), ('black', 'hole'), ('chances', 'getting'), ('trump', 'supporters'), ('programming', 'language'), ('youtube', 'channel'), ('south', 'korea'), ('south', 'africa'), ('get', 'admission'), ('best', 'ways'), ('take', 'consideration'), ('global', 'warming'), ('west', 'bengal'), ('entrance', 'exam'), ('software', 'engineer'), ('silicon', 'valley'), ('game', 'thrones')]\n",
      "Wall time: 53.3 s\n"
     ]
    }
   ],
   "source": [
    "%%time\n",
    "# create bigram vocabulary\n",
    "bigram_measures = collocations.BigramAssocMeasures()\n",
    "\n",
    "finder = nltk.BigramCollocationFinder.from_words(full_text)\n",
    "# scored = finder.score_ngrams( bigram_measures.likelihood_ratio  )\n",
    "bigram_vocab = finder.nbest(bigram_measures.likelihood_ratio, 80)\n",
    "print(bigram_vocab)"
   ]
  },
  {
   "cell_type": "code",
   "execution_count": 76,
   "metadata": {},
   "outputs": [
    {
     "name": "stdout",
     "output_type": "stream",
     "text": [
      "[('jiu', 'jitsu'), ('muhoozi', 'kainerugaba'), ('neman', 'ashraf'), ('roald', 'dahl'), ('rudyard', 'kipling'), ('michio', 'kaku'), ('avada', 'kedavra'), ('aam', 'aadmi'), ('buenos', 'aires'), ('jaggi', 'vasudev'), ('disha', 'patani'), ('deng', 'xiaoping'), ('ronda', 'rousey'), ('abercrombie', 'fitch'), ('zaira', 'wasim'), ('endoplasmic', 'reticulum'), ('nathuram', 'godse'), ('sushma', 'swaraj'), ('jiang', 'zemin'), ('vande', 'mataram'), ('meryl', 'streep'), ('pakatan', 'harapan'), ('asim', 'qureshi'), ('sylvia', 'plath'), ('lata', 'mangeshkar'), ('dima', 'vorobiev'), ('kalpit', 'veerwal'), ('sindhu', 'satish'), ('pradhan', 'mantri'), ('aldous', 'huxley'), ('narsee', 'monjee'), ('ulcerative', 'colitis'), ('gauri', 'lankesh'), ('hadron', 'collider'), ('ballon', \"d'or\"), ('mitt', 'romney'), ('petyr', 'baelish'), ('shel', 'silverstein'), ('khaled', 'hosseini'), ('sourav', 'ganguly'), ('satoshi', 'nakamoto'), ('tubal', 'ligation'), ('satya', 'nadella'), ('agatha', 'christie'), ('klux', 'klan'), ('nigel', 'farage'), ('lingua', 'franca'), ('jules', 'verne'), ('jimi', 'hendrix'), ('smriti', 'irani'), ('raghuram', 'rajan'), ('shweta', 'shalini'), ('yoko', 'ono'), ('snoop', 'dogg'), ('winnie', 'pooh'), ('forrest', 'gump'), ('scarlett', 'johansson'), ('nicki', 'minaj'), ('magna', 'carta'), ('shinzo', 'abe'), ('hrithik', 'roshan'), ('stony', 'brook'), ('trinidad', 'tobago'), ('dushka', 'zapata'), ('nath', 'kovind'), ('rudy', 'giuliani'), ('kendriya', 'vidyalaya'), ('notre', 'dame'), ('des', 'moines'), ('hafiz', 'saeed'), ('barkha', 'dutt'), ('chester', 'bennington'), ('falun', 'gong'), ('che', 'guevara'), ('rabindranath', 'tagore'), ('vinay', 'kumaran'), ('arsene', 'wenger'), ('reza', 'pahlavi'), ('granth', 'sahib'), ('mustafa', 'kemal'), ('dawood', 'ibrahim'), ('ajit', 'pai'), ('sergey', 'brin'), ('ravindrababu', 'ravula'), ('tsar', 'bomba'), ('waldo', 'emerson'), ('kendrick', 'lamar'), ('mein', 'kampf'), ('elke', 'weiss'), ('sandeep', 'maheshwari'), ('looney', 'tunes'), ('lois', 'lowry'), ('ku', 'klux'), ('kellyanne', 'conway'), ('britney', 'spears'), ('milo', 'yiannopoulos'), ('magnus', 'carlsen'), ('mace', 'windu'), ('deathly', 'hallows'), ('alia', 'bhatt'), ('spongebob', 'squarepants'), ('kyrie', 'irving'), ('kj', 'somaiya'), ('acm', 'icpc'), ('tel', 'aviv'), ('lex', 'luthor'), ('hannibal', 'lecter'), ('nawaz', 'sharif'), ('boba', 'fett'), ('aurora', 'borealis'), ('krav', 'maga'), ('terence', 'tao'), ('zack', 'snyder'), ('bashar', 'al-assad'), ('dalai', 'lama'), ('brock', 'lesnar'), ('noam', 'chomsky'), ('zakir', 'naik'), ('fullmetal', 'alchemist'), ('hans', 'zimmer'), ('hugh', 'hefner'), ('muammar', 'gaddafi'), ('sundar', 'pichai'), ('stephenie', 'meyer'), ('ku', 'leuven'), ('berkshire', 'hathaway'), ('chiang', 'mai'), ('fidel', 'castro'), ('kung', 'fu'), ('travis', 'kalanick'), ('subramanian', 'swamy'), ('miley', 'cyrus'), ('burj', 'khalifa'), ('shashi', 'tharoor'), ('catcher', 'rye'), ('oprah', 'winfrey'), ('karni', 'sena'), ('paulo', 'coelho'), ('ralph', 'waldo'), ('kurt', 'cobain'), ('peyton', 'manning'), ('bosnia', 'herzegovina'), ('moderated', 'caucus'), ('otto', 'warmbier'), ('ariana', 'grande'), ('dhinchak', 'pooja'), ('shin', 'splints'), ('coca', 'cola'), ('mitch', 'mcconnell'), ('ivan', 'tregear'), ('truman', 'capote'), ('selena', 'gomez'), ('solitary', 'confinement'), ('monte', 'carlo'), ('andaman', 'nicobar'), ('majin', 'buu'), ('bunsen', 'burner'), ('consiglio', 'devastations'), ('habib', 'fanny'), ('kulbhushan', 'jadhav'), ('tipu', 'sultan'), ('brad', 'pitt'), ('netaji', 'subhash'), ('jill', 'stein'), ('aishwarya', 'rai'), ('ping', 'pong'), ('dennis', 'rodman'), ('julian', 'assange'), ('euron', 'greyjoy'), ('martian', 'manhunter'), ('deepika', 'padukone'), ('conor', 'mcgregor'), ('babe', 'ruth'), ('dy', 'patil'), ('katrina', 'kaif'), ('amitabh', 'bachchan'), ('arnab', 'goswami'), ('nova', 'scotia'), ('arun', 'jaitley'), ('maya', 'angelou'), ('en', 'masse'), ('pawan', 'kalyan'), ('nikki', 'haley'), ('sergei', 'skripal'), ('marilyn', 'monroe'), ('palo', 'alto'), ('bharati', 'vidyapeeth'), ('sigmund', 'freud'), ('ayn', 'rand'), ('dunkin', 'donuts'), ('millia', 'islamia'), ('déjà', 'vu'), ('buzz', 'aldrin'), ('degrasse', 'tyson'), ('inguinal', 'hernia'), ('ellen', 'degeneres'), ('rachel', 'maddow'), ('deja', 'vu'), ('alfie', 'evans'), ('são', 'paulo')]\n",
      "Wall time: 20.4 s\n"
     ]
    }
   ],
   "source": [
    "%%time\n",
    "# create bigram vocabulary\n",
    "bigram_measures = collocations.BigramAssocMeasures()\n",
    "\n",
    "\n",
    "finder3 = nltk.BigramCollocationFinder.from_words(full_text)\n",
    "finder3.apply_freq_filter(10)\n",
    "finder3.apply_word_filter(lambda x: x in stopwords)\n",
    "best_pmi = finder3.nbest(bigram_measures.pmi, 200)\n",
    "print(best_pmi)"
   ]
  },
  {
   "cell_type": "code",
   "execution_count": null,
   "metadata": {},
   "outputs": [],
   "source": []
  },
  {
   "cell_type": "code",
   "execution_count": 77,
   "metadata": {},
   "outputs": [
    {
     "name": "stdout",
     "output_type": "stream",
     "text": [
      "[('united', 'states', 'america'), ('president', 'united', 'states'), ('united', 'states', 'india'), ('states', 'united', 'states'), ('history', 'united', 'states'), ('united', 'states', 'constitution'), ('united', 'states', 'government'), ('united', 'states', 'matter'), ('united', 'states', 'like'), ('united', 'states', 'army'), ('united', 'states', 'us'), ('united', 'states', 'usa'), ('united', 'states', 'united'), ('south', 'united', 'states'), ('coast', 'united', 'states'), ('canada', 'united', 'states'), ('united', 'states', 'military'), ('united', 'states', 'marine'), ('outside', 'united', 'states'), ('happen', 'united', 'states')]\n",
      "Wall time: 8min 53s\n"
     ]
    }
   ],
   "source": [
    "%%time\n",
    "# create trigram vocabulary\n",
    "trigram_measures = collocations.TrigramAssocMeasures()\n",
    "finder = nltk.TrigramCollocationFinder.from_words(full_text)\n",
    "trigram_vocab = finder.nbest(trigram_measures.likelihood_ratio, 20)\n",
    "print(trigram_vocab)"
   ]
  },
  {
   "cell_type": "code",
   "execution_count": 78,
   "metadata": {},
   "outputs": [
    {
     "name": "stdout",
     "output_type": "stream",
     "text": [
      "Wall time: 4min 5s\n"
     ]
    }
   ],
   "source": [
    "%%time\n",
    "# create text with bigram replacement\n",
    "train['bigram_question_lkhd'] = ngram_to_corpus(clean_questions, bigram_vocab, 2)"
   ]
  },
  {
   "cell_type": "code",
   "execution_count": 79,
   "metadata": {},
   "outputs": [
    {
     "name": "stdout",
     "output_type": "stream",
     "text": [
      "Wall time: 7min 37s\n"
     ]
    }
   ],
   "source": [
    "%%time\n",
    "# create text with both tri and bigram in text, by applying trigram first\n",
    "train['trigram_question_lkhd'] = ngram_to_corpus(clean_questions, trigram_vocab, 3)\n",
    "train['trigram_question_lkhd'] = ngram_to_corpus(train['trigram_question_lkhd'], bigram_vocab, 2)"
   ]
  },
  {
   "cell_type": "code",
   "execution_count": 80,
   "metadata": {},
   "outputs": [
    {
     "data": {
      "text/plain": [
       "array(['how i know whether a girl had done sex before sex with me ?',\n",
       "       'how do i become a fast learner both in my professional career and in my personal life ?',\n",
       "       'has the united_states become the largest dictatorship in the world ?',\n",
       "       'what is the strangest phenomenon you know of , have witnessed or have generated in the area of electronics that has no explanation in terms of modern physics ?',\n",
       "       'should i leave my friends and find new ones ?'], dtype=object)"
      ]
     },
     "execution_count": 80,
     "metadata": {},
     "output_type": "execute_result"
    }
   ],
   "source": [
    "train['trigram_question_lkhd'][20:25].values"
   ]
  },
  {
   "cell_type": "code",
   "execution_count": 81,
   "metadata": {},
   "outputs": [],
   "source": [
    "X = train[['bigram_question_lkhd','trigram_question_lkhd']]\n",
    "y = train.target"
   ]
  },
  {
   "cell_type": "code",
   "execution_count": 82,
   "metadata": {},
   "outputs": [],
   "source": [
    "X_train, X_test, y_train, y_test = train_test_split(X, y, stratify=y, random_state=495, test_size=0.2)"
   ]
  },
  {
   "cell_type": "code",
   "execution_count": 83,
   "metadata": {},
   "outputs": [
    {
     "data": {
      "text/plain": [
       "1044897"
      ]
     },
     "execution_count": 83,
     "metadata": {},
     "output_type": "execute_result"
    }
   ],
   "source": [
    "len(X_train)"
   ]
  },
  {
   "cell_type": "code",
   "execution_count": 84,
   "metadata": {},
   "outputs": [
    {
     "data": {
      "text/html": [
       "<div>\n",
       "<style scoped>\n",
       "    .dataframe tbody tr th:only-of-type {\n",
       "        vertical-align: middle;\n",
       "    }\n",
       "\n",
       "    .dataframe tbody tr th {\n",
       "        vertical-align: top;\n",
       "    }\n",
       "\n",
       "    .dataframe thead th {\n",
       "        text-align: right;\n",
       "    }\n",
       "</style>\n",
       "<table border=\"1\" class=\"dataframe\">\n",
       "  <thead>\n",
       "    <tr style=\"text-align: right;\">\n",
       "      <th></th>\n",
       "      <th>bigram_question_lkhd</th>\n",
       "      <th>trigram_question_lkhd</th>\n",
       "    </tr>\n",
       "  </thead>\n",
       "  <tbody>\n",
       "    <tr>\n",
       "      <th>1077331</th>\n",
       "      <td>what is the procedure of officially changing n...</td>\n",
       "      <td>what is the procedure of officially changing n...</td>\n",
       "    </tr>\n",
       "    <tr>\n",
       "      <th>334276</th>\n",
       "      <td>what is the ancient egypt polytheism ?</td>\n",
       "      <td>what is the ancient egypt polytheism ?</td>\n",
       "    </tr>\n",
       "    <tr>\n",
       "      <th>620299</th>\n",
       "      <td>whenever i put on the blood pressure monitor ,...</td>\n",
       "      <td>whenever i put on the blood pressure monitor ,...</td>\n",
       "    </tr>\n",
       "    <tr>\n",
       "      <th>1098236</th>\n",
       "      <td>how does the ego react to suicide ?</td>\n",
       "      <td>how does the ego react to suicide ?</td>\n",
       "    </tr>\n",
       "    <tr>\n",
       "      <th>548923</th>\n",
       "      <td>how do i join tcs as a fresher if i missed off...</td>\n",
       "      <td>how do i join tcs as a fresher if i missed off...</td>\n",
       "    </tr>\n",
       "  </tbody>\n",
       "</table>\n",
       "</div>"
      ],
      "text/plain": [
       "                                      bigram_question_lkhd  \\\n",
       "1077331  what is the procedure of officially changing n...   \n",
       "334276              what is the ancient egypt polytheism ?   \n",
       "620299   whenever i put on the blood pressure monitor ,...   \n",
       "1098236                how does the ego react to suicide ?   \n",
       "548923   how do i join tcs as a fresher if i missed off...   \n",
       "\n",
       "                                     trigram_question_lkhd  \n",
       "1077331  what is the procedure of officially changing n...  \n",
       "334276              what is the ancient egypt polytheism ?  \n",
       "620299   whenever i put on the blood pressure monitor ,...  \n",
       "1098236                how does the ego react to suicide ?  \n",
       "548923   how do i join tcs as a fresher if i missed off...  "
      ]
     },
     "execution_count": 84,
     "metadata": {},
     "output_type": "execute_result"
    }
   ],
   "source": [
    "X_train.head()"
   ]
  },
  {
   "cell_type": "markdown",
   "metadata": {},
   "source": [
    "#### Bigram Model"
   ]
  },
  {
   "cell_type": "code",
   "execution_count": 85,
   "metadata": {},
   "outputs": [],
   "source": [
    "# model using bigram text\n",
    "X_train_bi, X_test_bi =  vect_trans(CountVectorizer(max_df=1.0,  min_df=1, ngram_range=(1,1), stop_words=stopwords),\n",
    "                                   X_train.bigram_question_lkhd, X_test.bigram_question_lkhd,)\n",
    "\n"
   ]
  },
  {
   "cell_type": "code",
   "execution_count": 87,
   "metadata": {},
   "outputs": [
    {
     "name": "stdout",
     "output_type": "stream",
     "text": [
      "Train Accuracy : 0.9380359978064824\n",
      "Test Accuracy: 0.9372724662647143\n",
      "Test F1 score: 0.5531253408966947\n",
      "Test Accuracy Mean: 0.9327885912694457\n",
      "Test Accuracy STD: 0.0004463320545615013\n",
      "Test F1: 0.5290648950920555\n"
     ]
    },
    {
     "data": {
      "text/html": [
       "<div>\n",
       "<style scoped>\n",
       "    .dataframe tbody tr th:only-of-type {\n",
       "        vertical-align: middle;\n",
       "    }\n",
       "\n",
       "    .dataframe tbody tr th {\n",
       "        vertical-align: top;\n",
       "    }\n",
       "\n",
       "    .dataframe thead th {\n",
       "        text-align: right;\n",
       "    }\n",
       "</style>\n",
       "<table border=\"1\" class=\"dataframe\">\n",
       "  <thead>\n",
       "    <tr style=\"text-align: right;\">\n",
       "      <th></th>\n",
       "      <th>Test_Accuracy</th>\n",
       "      <th>Test_F1_score</th>\n",
       "      <th>CV_Accuracy</th>\n",
       "      <th>CV_Acc_STD</th>\n",
       "      <th>CV_F1_score</th>\n",
       "    </tr>\n",
       "  </thead>\n",
       "  <tbody>\n",
       "    <tr>\n",
       "      <th>Raw_token_NB</th>\n",
       "      <td>0.934414</td>\n",
       "      <td>0.564609</td>\n",
       "      <td>0.932161</td>\n",
       "      <td>0.000523</td>\n",
       "      <td>0.548922</td>\n",
       "    </tr>\n",
       "    <tr>\n",
       "      <th>Token_NB</th>\n",
       "      <td>0.933513</td>\n",
       "      <td>0.561574</td>\n",
       "      <td>0.931269</td>\n",
       "      <td>0.000541</td>\n",
       "      <td>0.546902</td>\n",
       "    </tr>\n",
       "    <tr>\n",
       "      <th>Bigram_NB</th>\n",
       "      <td>0.948431</td>\n",
       "      <td>0.514740</td>\n",
       "      <td>0.940543</td>\n",
       "      <td>0.000345</td>\n",
       "      <td>0.505087</td>\n",
       "    </tr>\n",
       "    <tr>\n",
       "      <th>Trigram_NB</th>\n",
       "      <td>0.944572</td>\n",
       "      <td>0.268816</td>\n",
       "      <td>0.944421</td>\n",
       "      <td>0.000377</td>\n",
       "      <td>0.502803</td>\n",
       "    </tr>\n",
       "    <tr>\n",
       "      <th>Tfidf_t_NB</th>\n",
       "      <td>0.940817</td>\n",
       "      <td>0.110226</td>\n",
       "      <td>0.939774</td>\n",
       "      <td>0.000172</td>\n",
       "      <td>0.082161</td>\n",
       "    </tr>\n",
       "    <tr>\n",
       "      <th>Bigram_best_NB</th>\n",
       "      <td>0.937272</td>\n",
       "      <td>0.553125</td>\n",
       "      <td>0.932789</td>\n",
       "      <td>0.000446</td>\n",
       "      <td>0.529065</td>\n",
       "    </tr>\n",
       "  </tbody>\n",
       "</table>\n",
       "</div>"
      ],
      "text/plain": [
       "                Test_Accuracy  Test_F1_score  CV_Accuracy  CV_Acc_STD  \\\n",
       "Raw_token_NB         0.934414       0.564609     0.932161    0.000523   \n",
       "Token_NB             0.933513       0.561574     0.931269    0.000541   \n",
       "Bigram_NB            0.948431       0.514740     0.940543    0.000345   \n",
       "Trigram_NB           0.944572       0.268816     0.944421    0.000377   \n",
       "Tfidf_t_NB           0.940817       0.110226     0.939774    0.000172   \n",
       "Bigram_best_NB       0.937272       0.553125     0.932789    0.000446   \n",
       "\n",
       "                CV_F1_score  \n",
       "Raw_token_NB       0.548922  \n",
       "Token_NB           0.546902  \n",
       "Bigram_NB          0.505087  \n",
       "Trigram_NB         0.502803  \n",
       "Tfidf_t_NB         0.082161  \n",
       "Bigram_best_NB     0.529065  "
      ]
     },
     "execution_count": 87,
     "metadata": {},
     "output_type": "execute_result"
    }
   ],
   "source": [
    "model = MultinomialNB()\n",
    "model_label = 'Bigram_best_NB'\n",
    "\n",
    "model_score(model, X_train_bi, X_test_bi, y_train, y_test, score_df, model_label)\n",
    "cv_score(model, X_train_bi, y_train, model_label)\n",
    "score_df"
   ]
  },
  {
   "cell_type": "markdown",
   "metadata": {},
   "source": [
    "#### Trigram Model"
   ]
  },
  {
   "cell_type": "code",
   "execution_count": 88,
   "metadata": {},
   "outputs": [],
   "source": [
    "# model using bigram text\n",
    "X_train_tri, X_test_tri =  vect_trans(CountVectorizer(max_df=1.0,  min_df=1, ngram_range=(1,1), stop_words=stopwords),\n",
    "                                   X_train.trigram_question_lkhd, X_test.trigram_question_lkhd)\n",
    "\n"
   ]
  },
  {
   "cell_type": "code",
   "execution_count": 90,
   "metadata": {},
   "outputs": [
    {
     "name": "stdout",
     "output_type": "stream",
     "text": [
      "Train Accuracy : 0.9380369548386109\n",
      "Test Accuracy: 0.9372686381471911\n",
      "Test F1 score: 0.5531102566200333\n",
      "Test Accuracy Mean: 0.9327838060950644\n",
      "Test Accuracy STD: 0.00044240760698066844\n",
      "Test F1: 0.5290408100038101\n"
     ]
    },
    {
     "data": {
      "text/html": [
       "<div>\n",
       "<style scoped>\n",
       "    .dataframe tbody tr th:only-of-type {\n",
       "        vertical-align: middle;\n",
       "    }\n",
       "\n",
       "    .dataframe tbody tr th {\n",
       "        vertical-align: top;\n",
       "    }\n",
       "\n",
       "    .dataframe thead th {\n",
       "        text-align: right;\n",
       "    }\n",
       "</style>\n",
       "<table border=\"1\" class=\"dataframe\">\n",
       "  <thead>\n",
       "    <tr style=\"text-align: right;\">\n",
       "      <th></th>\n",
       "      <th>Test_Accuracy</th>\n",
       "      <th>Test_F1_score</th>\n",
       "      <th>CV_Accuracy</th>\n",
       "      <th>CV_Acc_STD</th>\n",
       "      <th>CV_F1_score</th>\n",
       "    </tr>\n",
       "  </thead>\n",
       "  <tbody>\n",
       "    <tr>\n",
       "      <th>Raw_token_NB</th>\n",
       "      <td>0.934414</td>\n",
       "      <td>0.564609</td>\n",
       "      <td>0.932161</td>\n",
       "      <td>0.000523</td>\n",
       "      <td>0.548922</td>\n",
       "    </tr>\n",
       "    <tr>\n",
       "      <th>Token_NB</th>\n",
       "      <td>0.933513</td>\n",
       "      <td>0.561574</td>\n",
       "      <td>0.931269</td>\n",
       "      <td>0.000541</td>\n",
       "      <td>0.546902</td>\n",
       "    </tr>\n",
       "    <tr>\n",
       "      <th>Bigram_NB</th>\n",
       "      <td>0.948431</td>\n",
       "      <td>0.514740</td>\n",
       "      <td>0.940543</td>\n",
       "      <td>0.000345</td>\n",
       "      <td>0.505087</td>\n",
       "    </tr>\n",
       "    <tr>\n",
       "      <th>Trigram_NB</th>\n",
       "      <td>0.944572</td>\n",
       "      <td>0.268816</td>\n",
       "      <td>0.944421</td>\n",
       "      <td>0.000377</td>\n",
       "      <td>0.502803</td>\n",
       "    </tr>\n",
       "    <tr>\n",
       "      <th>Tfidf_t_NB</th>\n",
       "      <td>0.940817</td>\n",
       "      <td>0.110226</td>\n",
       "      <td>0.939774</td>\n",
       "      <td>0.000172</td>\n",
       "      <td>0.082161</td>\n",
       "    </tr>\n",
       "    <tr>\n",
       "      <th>Bigram_best_NB</th>\n",
       "      <td>0.937272</td>\n",
       "      <td>0.553125</td>\n",
       "      <td>0.932789</td>\n",
       "      <td>0.000446</td>\n",
       "      <td>0.529065</td>\n",
       "    </tr>\n",
       "    <tr>\n",
       "      <th>Trigram_best_NB</th>\n",
       "      <td>0.937269</td>\n",
       "      <td>0.553110</td>\n",
       "      <td>0.932784</td>\n",
       "      <td>0.000442</td>\n",
       "      <td>0.529041</td>\n",
       "    </tr>\n",
       "  </tbody>\n",
       "</table>\n",
       "</div>"
      ],
      "text/plain": [
       "                 Test_Accuracy  Test_F1_score  CV_Accuracy  CV_Acc_STD  \\\n",
       "Raw_token_NB          0.934414       0.564609     0.932161    0.000523   \n",
       "Token_NB              0.933513       0.561574     0.931269    0.000541   \n",
       "Bigram_NB             0.948431       0.514740     0.940543    0.000345   \n",
       "Trigram_NB            0.944572       0.268816     0.944421    0.000377   \n",
       "Tfidf_t_NB            0.940817       0.110226     0.939774    0.000172   \n",
       "Bigram_best_NB        0.937272       0.553125     0.932789    0.000446   \n",
       "Trigram_best_NB       0.937269       0.553110     0.932784    0.000442   \n",
       "\n",
       "                 CV_F1_score  \n",
       "Raw_token_NB        0.548922  \n",
       "Token_NB            0.546902  \n",
       "Bigram_NB           0.505087  \n",
       "Trigram_NB          0.502803  \n",
       "Tfidf_t_NB          0.082161  \n",
       "Bigram_best_NB      0.529065  \n",
       "Trigram_best_NB     0.529041  "
      ]
     },
     "execution_count": 90,
     "metadata": {},
     "output_type": "execute_result"
    }
   ],
   "source": [
    "model = MultinomialNB()\n",
    "model_label = 'Trigram_best_NB'\n",
    "\n",
    "model_score(model, X_train_tri, X_test_tri, y_train, y_test, score_df, model_label)\n",
    "cv_score(model, X_train_tri, y_train, model_label)\n",
    "score_df"
   ]
  },
  {
   "cell_type": "code",
   "execution_count": 92,
   "metadata": {},
   "outputs": [],
   "source": [
    "# score_df.to_pickle('./identity_score.pkl')"
   ]
  },
  {
   "cell_type": "code",
   "execution_count": 93,
   "metadata": {},
   "outputs": [],
   "source": [
    "score_df = pd.read_pickle('./identity_score.pkl')"
   ]
  },
  {
   "cell_type": "code",
   "execution_count": 94,
   "metadata": {},
   "outputs": [],
   "source": [
    "acc_df = pd.DataFrame(index=['Baseline','Raw Token', 'Tokens', 'All Bigram', 'All Trigram', 'TFIDF', 'N Bigram', 'N Trigram'])\n",
    "acc_df['Accuracy'] = acc_list = [1-train.target.mean()] + list(score_df['Test_Accuracy'])\n"
   ]
  },
  {
   "cell_type": "code",
   "execution_count": 95,
   "metadata": {},
   "outputs": [],
   "source": [
    "f1_df =  pd.DataFrame(index=['Raw Token', 'Tokens', 'All Bigram', 'All Trigram', 'TFIDF', 'N Bigram', 'N Trigram'])\n",
    "f1_df['F1 Score'] = list(score_df['Test_F1_score'])\n"
   ]
  },
  {
   "cell_type": "code",
   "execution_count": 100,
   "metadata": {},
   "outputs": [],
   "source": [
    "style.use('seaborn-poster')\n",
    "\n",
    "style.use('seaborn-whitegrid') #sets the size of the charts\n",
    "style.use('tableau-colorblind10')"
   ]
  },
  {
   "cell_type": "code",
   "execution_count": 101,
   "metadata": {},
   "outputs": [],
   "source": [
    "f1_hue = sns.color_palette(\"Set3\")\n",
    "acc_hue  = sns.color_palette(\"Set3\")\n",
    "acc_hue.insert(0, (.7,.7,.7))"
   ]
  },
  {
   "cell_type": "code",
   "execution_count": 102,
   "metadata": {},
   "outputs": [
    {
     "data": {
      "image/png": "[encoded data removed]",
      "text/plain": [
       "<Figure size 1296x576 with 2 Axes>"
      ]
     },
     "metadata": {},
     "output_type": "display_data"
    }
   ],
   "source": [
    "fig, ax = plt.subplots(1,2, figsize=(18,8))\n",
    "\n",
    "ax1 = plt.subplot(121)\n",
    "ax1 = sns.barplot(x=f1_df.index, y=f1_df['F1 Score'], palette=f1_hue)\n",
    "ax1 = plt.xticks(rotation=45)\n",
    "\n",
    "ax2 = plt.subplot(122)\n",
    "ax2 = sns.barplot(x=acc_df.index, y=acc_df.Accuracy, palette=acc_hue)\n",
    "ax1 = plt.ylim(0.9, 1)\n",
    "ax2 = plt.xticks(rotation=45)\n",
    "\n",
    "\n"
   ]
  },
  {
   "cell_type": "code",
   "execution_count": null,
   "metadata": {},
   "outputs": [],
   "source": []
  },
  {
   "cell_type": "code",
   "execution_count": null,
   "metadata": {},
   "outputs": [],
   "source": []
  },
  {
   "cell_type": "code",
   "execution_count": null,
   "metadata": {},
   "outputs": [],
   "source": []
  }
 ],
 "metadata": {
  "kernelspec": {
   "display_name": "Python 3",
   "language": "python",
   "name": "python3"
  },
  "language_info": {
   "codemirror_mode": {
    "name": "ipython",
    "version": 3
   },
   "file_extension": ".py",
   "mimetype": "text/x-python",
   "name": "python",
   "nbconvert_exporter": "python",
   "pygments_lexer": "ipython3",
   "version": "3.6.8"
  }
 },
 "nbformat": 4,
 "nbformat_minor": 2
}
